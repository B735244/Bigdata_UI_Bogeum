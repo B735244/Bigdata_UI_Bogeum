{
 "cells": [
  {
   "cell_type": "code",
   "execution_count": null,
   "id": "7a3a2768-d3c8-407e-9887-d9fb0f4361f7",
   "metadata": {},
   "outputs": [],
   "source": [
    "# 데이터 가져오기"
   ]
  },
  {
   "cell_type": "code",
   "execution_count": 1,
   "id": "41fbc2a9-46ef-4f7f-a374-2fb675422469",
   "metadata": {},
   "outputs": [
    {
     "data": {
      "text/html": [
       "<div>\n",
       "<style scoped>\n",
       "    .dataframe tbody tr th:only-of-type {\n",
       "        vertical-align: middle;\n",
       "    }\n",
       "\n",
       "    .dataframe tbody tr th {\n",
       "        vertical-align: top;\n",
       "    }\n",
       "\n",
       "    .dataframe thead th {\n",
       "        text-align: right;\n",
       "    }\n",
       "</style>\n",
       "<table border=\"1\" class=\"dataframe\">\n",
       "  <thead>\n",
       "    <tr style=\"text-align: right;\">\n",
       "      <th></th>\n",
       "      <th>키</th>\n",
       "      <th>몸무게</th>\n",
       "    </tr>\n",
       "  </thead>\n",
       "  <tbody>\n",
       "    <tr>\n",
       "      <th>0</th>\n",
       "      <td>150</td>\n",
       "      <td>42</td>\n",
       "    </tr>\n",
       "    <tr>\n",
       "      <th>1</th>\n",
       "      <td>160</td>\n",
       "      <td>50</td>\n",
       "    </tr>\n",
       "    <tr>\n",
       "      <th>2</th>\n",
       "      <td>170</td>\n",
       "      <td>70</td>\n",
       "    </tr>\n",
       "    <tr>\n",
       "      <th>3</th>\n",
       "      <td>175</td>\n",
       "      <td>64</td>\n",
       "    </tr>\n",
       "    <tr>\n",
       "      <th>4</th>\n",
       "      <td>165</td>\n",
       "      <td>56</td>\n",
       "    </tr>\n",
       "    <tr>\n",
       "      <th>5</th>\n",
       "      <td>155</td>\n",
       "      <td>48</td>\n",
       "    </tr>\n",
       "    <tr>\n",
       "      <th>6</th>\n",
       "      <td>172</td>\n",
       "      <td>68</td>\n",
       "    </tr>\n",
       "    <tr>\n",
       "      <th>7</th>\n",
       "      <td>168</td>\n",
       "      <td>60</td>\n",
       "    </tr>\n",
       "    <tr>\n",
       "      <th>8</th>\n",
       "      <td>174</td>\n",
       "      <td>65</td>\n",
       "    </tr>\n",
       "    <tr>\n",
       "      <th>9</th>\n",
       "      <td>158</td>\n",
       "      <td>52</td>\n",
       "    </tr>\n",
       "    <tr>\n",
       "      <th>10</th>\n",
       "      <td>162</td>\n",
       "      <td>54</td>\n",
       "    </tr>\n",
       "    <tr>\n",
       "      <th>11</th>\n",
       "      <td>173</td>\n",
       "      <td>67</td>\n",
       "    </tr>\n",
       "    <tr>\n",
       "      <th>12</th>\n",
       "      <td>156</td>\n",
       "      <td>49</td>\n",
       "    </tr>\n",
       "    <tr>\n",
       "      <th>13</th>\n",
       "      <td>159</td>\n",
       "      <td>51</td>\n",
       "    </tr>\n",
       "    <tr>\n",
       "      <th>14</th>\n",
       "      <td>167</td>\n",
       "      <td>58</td>\n",
       "    </tr>\n",
       "    <tr>\n",
       "      <th>15</th>\n",
       "      <td>163</td>\n",
       "      <td>55</td>\n",
       "    </tr>\n",
       "    <tr>\n",
       "      <th>16</th>\n",
       "      <td>171</td>\n",
       "      <td>69</td>\n",
       "    </tr>\n",
       "    <tr>\n",
       "      <th>17</th>\n",
       "      <td>169</td>\n",
       "      <td>61</td>\n",
       "    </tr>\n",
       "    <tr>\n",
       "      <th>18</th>\n",
       "      <td>176</td>\n",
       "      <td>66</td>\n",
       "    </tr>\n",
       "    <tr>\n",
       "      <th>19</th>\n",
       "      <td>161</td>\n",
       "      <td>53</td>\n",
       "    </tr>\n",
       "  </tbody>\n",
       "</table>\n",
       "</div>"
      ],
      "text/plain": [
       "      키  몸무게\n",
       "0   150   42\n",
       "1   160   50\n",
       "2   170   70\n",
       "3   175   64\n",
       "4   165   56\n",
       "5   155   48\n",
       "6   172   68\n",
       "7   168   60\n",
       "8   174   65\n",
       "9   158   52\n",
       "10  162   54\n",
       "11  173   67\n",
       "12  156   49\n",
       "13  159   51\n",
       "14  167   58\n",
       "15  163   55\n",
       "16  171   69\n",
       "17  169   61\n",
       "18  176   66\n",
       "19  161   53"
      ]
     },
     "execution_count": 1,
     "metadata": {},
     "output_type": "execute_result"
    }
   ],
   "source": [
    "import pandas as pd\n",
    "\n",
    "data = {\n",
    "    '키': [150, 160, 170, 175, 165, 155, 172, 168, 174, 158,\n",
    "          162, 173, 156, 159, 167, 163, 171, 169, 176, 161],\n",
    "    '몸무게': [42, 50, 70, 64, 56, 48, 68, 60, 65, 52,\n",
    "            54, 67, 49, 51, 58, 55, 69, 61, 66, 53]\n",
    "}\n",
    "df = pd.DataFrame(data)\n",
    "df"
   ]
  },
  {
   "cell_type": "code",
   "execution_count": null,
   "id": "b14c6f68-ff1b-4960-b12c-be55bc016268",
   "metadata": {},
   "outputs": [],
   "source": [
    "# OLS 확인하기\n",
    "# Ordinary Least Squeares(최소제곱법)\n",
    "# 데이터의 실제값과 예측값의 차이(잔차)의 제곱합이 최소가 되도록 회귀선(선형식)을 찾는 통계적 방법"
   ]
  },
  {
   "cell_type": "code",
   "execution_count": 2,
   "id": "bc1de0fc-9def-42a8-a4ba-6eac3107a1c6",
   "metadata": {},
   "outputs": [
    {
     "name": "stdout",
     "output_type": "stream",
     "text": [
      "                            OLS Regression Results                            \n",
      "==============================================================================\n",
      "Dep. Variable:                      키   R-squared:                       0.892\n",
      "Model:                            OLS   Adj. R-squared:                  0.886\n",
      "Method:                 Least Squares   F-statistic:                     148.0\n",
      "Date:                Fri, 10 Oct 2025   Prob (F-statistic):           4.04e-10\n",
      "Time:                        01:24:33   Log-Likelihood:                -45.761\n",
      "No. Observations:                  20   AIC:                             95.52\n",
      "Df Residuals:                      18   BIC:                             97.51\n",
      "Df Model:                           1                                         \n",
      "Covariance Type:            nonrobust                                         \n",
      "==============================================================================\n",
      "                 coef    std err          t      P>|t|      [0.025      0.975]\n",
      "------------------------------------------------------------------------------\n",
      "Intercept    115.0676      4.158     27.671      0.000     106.331     123.804\n",
      "몸무게            0.8658      0.071     12.167      0.000       0.716       1.015\n",
      "==============================================================================\n",
      "Omnibus:                        0.985   Durbin-Watson:                   2.609\n",
      "Prob(Omnibus):                  0.611   Jarque-Bera (JB):                0.336\n",
      "Skew:                          -0.315   Prob(JB):                        0.845\n",
      "Kurtosis:                       3.082   Cond. No.                         432.\n",
      "==============================================================================\n",
      "\n",
      "Notes:\n",
      "[1] Standard Errors assume that the covariance matrix of the errors is correctly specified.\n"
     ]
    }
   ],
   "source": [
    "from statsmodels.formula.api import ols\n",
    "model = ols('키 ~ 몸무게', data=df).fit() # '키' 를 '몸무게'로 부터 예측하겠다.\n",
    "print(model.summary())"
   ]
  },
  {
   "cell_type": "code",
   "execution_count": 6,
   "id": "e6155070-d3a4-47f2-8af3-9b860a8d8037",
   "metadata": {},
   "outputs": [
    {
     "data": {
      "text/plain": [
       "0.8915914350087264"
      ]
     },
     "execution_count": 6,
     "metadata": {},
     "output_type": "execute_result"
    }
   ],
   "source": [
    "# 결정계수 값 확인(모델이 데이터를 얼마나 잘 설명하는지를 나타내는 점수) 0.8이상이면 잘 설명하는 것임.\n",
    "\n",
    "model.rsquared"
   ]
  },
  {
   "cell_type": "code",
   "execution_count": 7,
   "id": "0ea50436-c982-4e2e-b893-ed71821f2fa2",
   "metadata": {},
   "outputs": [
    {
     "name": "stdout",
     "output_type": "stream",
     "text": [
      "기울기 :  0.8658438852380201\n",
      "절편 :  115.06763904471865\n"
     ]
    }
   ],
   "source": [
    "# 기울기 / 절편확인\n",
    "print(\"기울기 : \", model.params['몸무게']) # 베타1 : 몸무게가 1kg 증가할 때 -> 키 0.86cm 증가\n",
    "print(\"절편 : \", model.params['Intercept']) # 베타0 : 몸무게가 0kg일 때 -> 키 115cm"
   ]
  },
  {
   "cell_type": "code",
   "execution_count": 10,
   "id": "a72def10-c781-4166-b271-08f35457744b",
   "metadata": {},
   "outputs": [
    {
     "name": "stdout",
     "output_type": "stream",
     "text": [
      "p-value :  4.0379325599303615e-10\n",
      "p-value :  0.0000000004\n"
     ]
    }
   ],
   "source": [
    "# p-value(확률값) 확인 (관계 정도 확률 : 0.05미만 -유의함 / 0.05이상 -유의x(관계 없음))\n",
    "print(\"p-value : \", model.pvalues['몸무게'])\n",
    "print(\"p-value : \",\"{:.10f}\".format(model.pvalues['몸무게']))"
   ]
  },
  {
   "cell_type": "code",
   "execution_count": 11,
   "id": "a78ee734-afb3-4e2f-a21c-c97f09930f0c",
   "metadata": {},
   "outputs": [],
   "source": [
    "# p-value :  4.0379325599303615e-10      #0.05보다 작다 -> 관계 있을 확률이 높다/ 몸무게(x)-키(y) 영향을 준다\n",
    "# p-value :  0.0000000004"
   ]
  },
  {
   "cell_type": "code",
   "execution_count": null,
   "id": "f917e0e5-e0c9-413c-9e82-968fdcfaee75",
   "metadata": {},
   "outputs": [],
   "source": [
    "#                          OLS Regression Results                            \n",
    "# ==============================================================================\n",
    "# Dep. Variable:(종속변수)            키   R-squared:                       0.892(모델의 설명정도 : 89% 설명력이 매우 높음)\n",
    "# Model:                            OLS   Adj. R-squared:                  0.886 (모델의 설명정도 : X값이 많을 때, 적용되는 설명정도) \n",
    "# Method:                 Least Squares   F-statistic:                     148.0 (F검정 :모델 전체 유의성 검증 : 값이 클수록 적합하다)\n",
    "# Date:                Fri, 10 Oct 2025   Prob (F-statistic):           4.04e-10 (F검정의 p값 : 값이 작을수록 유의함(0.05이하))\n",
    "# Time:                        01:24:33   Log-Likelihood:                -45.761 (로그우드 값 : 모델의 적합도 지표 / 절대값이 작을수록 좋음)\n",
    "# No. Observations:(데이터갯수)      20   AIC:                             95.52 (모델의 품질 지표 : 낮을수록 좋음)\n",
    "# Df Residuals:(잔차자유도/데이터수(20)-회귀계수(2)   18)   BIC:            97.51 (베이지안 정보 기준 : 낮을수록 좋음)\n",
    "# Df Model:                           1 (특정변수, x값, 현재는 몸무게)                                         \n",
    "# Covariance Type:            nonrobust (공분산 계산 방식 : 기본값(등분산 가정)) / 공분산 : 변수들이 같이 변하는 정도 /등분산 : 분산정도가 같다고 가정함                                       \n",
    "# ==============================================================================\n",
    "#                  coef    std err          t      P>|t|      [0.025      0.975]\n",
    "# ------------------------------------------------------------------------------\n",
    "# Intercept    115.0676      4.158     27.671      0.000     106.331     123.804\n",
    "# 몸무게            0.8658      0.071     12.167      0.000       0.716       1.015\n",
    "# ==============================================================================\n",
    "# Omnibus:                        0.985   Durbin-Watson:                   2.609\n",
    "# Prob(Omnibus):                  0.611   Jarque-Bera (JB):                0.336\n",
    "# Skew:                          -0.315   Prob(JB):                        0.845\n",
    "# Kurtosis:                       3.082   Cond. No.                         432.\n",
    "# ==============================================================================\n",
    "\n"
   ]
  },
  {
   "cell_type": "code",
   "execution_count": null,
   "id": "81228956-5c3a-4c94-a78a-39461e40f9ec",
   "metadata": {},
   "outputs": [],
   "source": [
    "# ======================= 회귀분석 주요 지표 설명 =======================\n",
    "\n",
    "# ① coef (회귀계수)\n",
    "# → 독립변수가 1단위 증가할 때 종속변수가 얼마나 변하는지를 의미함.\n",
    "# 예: coef = 0.8658 → 몸무게가 1 증가할 때 키가 평균 0.8658 증가한다는 뜻.\n",
    "\n",
    "# ② std err (표준오차, Standard Error)\n",
    "# → 추정된 회귀계수(coef)가 얼마나 불확실한지를 보여주는 값.\n",
    "# → 값이 작을수록 추정이 안정적이고, 계수가 신뢰할 만함을 의미함.\n",
    "\n",
    "# ③ t (t-통계량)\n",
    "# → 회귀계수가 ‘0이 아니다’라는 가설을 검증하는 통계량.\n",
    "# → t값 = coef / std err 로 계산됨.\n",
    "# → 절댓값이 클수록 독립변수가 종속변수에 유의미한 영향을 미친다는 뜻.\n",
    "\n",
    "# ④ P>|t| (p값, 유의확률)\n",
    "# → t검정의 p값. \"이 변수가 실제로 영향이 없을 확률\"을 의미함.\n",
    "# → p < 0.05 → 통계적으로 유의함 (즉, 실제로 영향이 있다).\n",
    "# → p ≥ 0.05 → 통계적으로 유의하지 않음 (영향이 없을 가능성 큼).\n",
    "\n",
    "# ⑤ [0.025  0.975] (95% 신뢰구간)\n",
    "# → 회귀계수(coef)가 95% 확률로 포함될 범위.\n",
    "# → 예: [0.716, 1.015] → 계수는 0.716~1.015 사이일 가능성이 95%.\n",
    "# → 이 구간에 0이 포함되지 않으면, 그 변수는 유의하다고 볼 수 있음.\n",
    "\n",
    "# ======================= 한 줄 요약 =======================\n",
    "# coef : 영향의 크기(기울기)\n",
    "# std err : 계수의 불확실성\n",
    "# t : 영향의 통계적 강도\n",
    "# P>|t| : 영향의 유의성(p<0.05면 유의)\n",
    "# [0.025 0.975] : 계수가 존재할 95% 신뢰구간"
   ]
  },
  {
   "cell_type": "markdown",
   "id": "8d506a8c-264d-491b-9e91-818ac898f068",
   "metadata": {},
   "source": [
    "\n",
    "# 1. OLS란?\n",
    "OLS는 **최소제곱법(Ordinary Least Squares)** 으로,  \n",
    "**데이터의 실제값과 예측값의 차이(잔차)** 의 제곱합이 최소가 되도록  \n",
    "**회귀선(선형식)** 을 찾는 통계적 방법이다.\n",
    "\n",
    "[\n",
    "Y = β₀ + β₁X + ε\n",
    "]\n",
    "\n",
    "- `Y`: 종속변수 (예: 키)  \n",
    "- `X`: 독립변수 (예: 몸무게)  \n",
    "- `β₀`: 절편(intercept)  \n",
    "- `β₁`: 기울기(slope)  \n",
    "- `ε`: 오차항(residual)\n",
    "\n",
    "OLS는 다음 식을 최소화하도록 `β₀`, `β₁`을 찾는다.\n",
    "\n",
    "# 회귀분석 기본 개념 요약표\n",
    "\n",
    "| 구분 | 용어 | 뜻 (쉽게 설명) | 예시 |\n",
    "|------|------|----------------|------|\n",
    "| 1 | 회귀분석 (Regression) | 한 변수(Y)가 다른 변수(X)에 따라 어떻게 변하는지 관계를 찾는 방법 | 몸무게가 늘면 키도 커질까? |\n",
    "| 2 | 절편 (Intercept, β₀) | X=0일 때 Y의 예측값. 그래프가 y축과 만나는 점 | 몸무게 0kg일 때 키 약 115cm |\n",
    "| 3 | 회귀계수 (Coefficient, β₁) | X가 1 증가할 때 Y가 얼마나 변하는지. 그래프의 기울기 | 몸무게 1kg 늘면 키 0.87cm 증가 |\n",
    "| 4 | 잔차 (Residual) | 실제값 - 예측값 (오차) | 실제 키 170, 예측 168 → 잔차 = 2 |\n",
    "| 5 | 결정계수 (R²) | 모델이 데이터를 얼마나 잘 설명하는가 (0~1) | R²=0.89 → 89% 설명 가능 |\n",
    "| 6 | p-value (유의확률) | 변수가 Y에 진짜 영향을 주는지 판단 | p<0.05 → 진짜 영향 있음 |\n",
    "| 7 | F통계량 (F-statistic) | 전체 모델이 유의한지 검사 | F값 큼 + p<0.05 → 모델 유의함 |\n",
    "| 8 | Durbin-Watson | 오차 간의 상관 확인 (2에 가까울수록 좋음) | DW=2.0 → 잔차가 독립적 |\n",
    "| 9 | 정규성 검정 (Omnibus, JB) | 오차들이 무작위로 분포하는지 확인 | p>0.05 → 정규성 만족 |\n",
    "| 10 | 예측식 예시 | 회귀식 형태로 표현 | 키 = 115.07 + 0.87 × 몸무게 |"
   ]
  },
  {
   "cell_type": "code",
   "execution_count": null,
   "id": "1881f09d-2b17-46e1-9c98-5cf9f1ff3b1f",
   "metadata": {},
   "outputs": [],
   "source": []
  }
 ],
 "metadata": {
  "kernelspec": {
   "display_name": "Python 3 (ipykernel)",
   "language": "python",
   "name": "python3"
  },
  "language_info": {
   "codemirror_mode": {
    "name": "ipython",
    "version": 3
   },
   "file_extension": ".py",
   "mimetype": "text/x-python",
   "name": "python",
   "nbconvert_exporter": "python",
   "pygments_lexer": "ipython3",
   "version": "3.11.6"
  }
 },
 "nbformat": 4,
 "nbformat_minor": 5
}
