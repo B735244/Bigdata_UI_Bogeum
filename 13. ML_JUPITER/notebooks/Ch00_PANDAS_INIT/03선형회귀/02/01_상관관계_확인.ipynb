{
 "cells": [
  {
   "cell_type": "code",
   "execution_count": 7,
   "id": "69d262ff-6ef2-4e5c-8f69-744141f45fce",
   "metadata": {},
   "outputs": [
    {
     "data": {
      "text/html": [
       "<div>\n",
       "<style scoped>\n",
       "    .dataframe tbody tr th:only-of-type {\n",
       "        vertical-align: middle;\n",
       "    }\n",
       "\n",
       "    .dataframe tbody tr th {\n",
       "        vertical-align: top;\n",
       "    }\n",
       "\n",
       "    .dataframe thead th {\n",
       "        text-align: right;\n",
       "    }\n",
       "</style>\n",
       "<table border=\"1\" class=\"dataframe\">\n",
       "  <thead>\n",
       "    <tr style=\"text-align: right;\">\n",
       "      <th></th>\n",
       "      <th>키</th>\n",
       "      <th>몸무게</th>\n",
       "    </tr>\n",
       "  </thead>\n",
       "  <tbody>\n",
       "    <tr>\n",
       "      <th>0</th>\n",
       "      <td>150</td>\n",
       "      <td>40</td>\n",
       "    </tr>\n",
       "    <tr>\n",
       "      <th>1</th>\n",
       "      <td>160</td>\n",
       "      <td>50</td>\n",
       "    </tr>\n",
       "    <tr>\n",
       "      <th>2</th>\n",
       "      <td>170</td>\n",
       "      <td>60</td>\n",
       "    </tr>\n",
       "    <tr>\n",
       "      <th>3</th>\n",
       "      <td>175</td>\n",
       "      <td>70</td>\n",
       "    </tr>\n",
       "    <tr>\n",
       "      <th>4</th>\n",
       "      <td>180</td>\n",
       "      <td>80</td>\n",
       "    </tr>\n",
       "  </tbody>\n",
       "</table>\n",
       "</div>"
      ],
      "text/plain": [
       "     키  몸무게\n",
       "0  150   40\n",
       "1  160   50\n",
       "2  170   60\n",
       "3  175   70\n",
       "4  180   80"
      ]
     },
     "execution_count": 7,
     "metadata": {},
     "output_type": "execute_result"
    }
   ],
   "source": [
    "#----------------\n",
    "# 상관관계 확인(수치형)\n",
    "#---------------------\n",
    "import pandas as pd\n",
    "data = {\n",
    "    \"키\":[150,160,170,175,180],\n",
    "    \"몸무게\" : [40,50,60,70,80]\n",
    "}\n",
    "\n",
    "df = pd.DataFrame(data)\n",
    "df"
   ]
  },
  {
   "cell_type": "code",
   "execution_count": 8,
   "id": "cf8d9afe-490d-46f7-9976-178eefc9390a",
   "metadata": {},
   "outputs": [
    {
     "name": "stdout",
     "output_type": "stream",
     "text": [
      "            키       몸무게\n",
      "키    1.000000  0.984798\n",
      "몸무게  0.984798  1.000000\n"
     ]
    }
   ],
   "source": [
    "# 상관계수 확인(기본 : 피어슨 상관계수 -1 ~ 1)\n",
    "# +1에 가까울수록 양의 상관관계\n",
    "# -1에 가까울수록 음의 상관관계\n",
    "# 0에 가까울수록 서로 상관이 거의 없음 \n",
    "# 키가 증가하면 몸무게도 증가하는가? 에 대한 증감비율에 대한 상관관계인것임\n",
    "correlation = df.corr()\n",
    "print(correlation)"
   ]
  },
  {
   "cell_type": "code",
   "execution_count": 9,
   "id": "36295ca8-4d56-4024-9493-dd7481ce9b6b",
   "metadata": {},
   "outputs": [
    {
     "name": "stdout",
     "output_type": "stream",
     "text": [
      "            키       몸무게\n",
      "키    1.000000  0.984798\n",
      "몸무게  0.984798  1.000000\n",
      "       키  몸무게\n",
      "키    1.0  1.0\n",
      "몸무게  1.0  1.0\n",
      "       키  몸무게\n",
      "키    1.0  1.0\n",
      "몸무게  1.0  1.0\n"
     ]
    }
   ],
   "source": [
    "# 1. 피어슨 상관계수(default) \n",
    "# - 선형관계가 얼마나 강한가 x가 증가하면  y도 증가하나? 어떤식으로 비례하는가\n",
    "# - 곡선관계는 확인하기 힘듬.\n",
    "print(df.corr())\n",
    "\n",
    "# 2. 스피어맨 상관계수\n",
    "# - 순위(등수)를 기준으로 비교 - 수학 점수, 등수, 등등 \n",
    "# - 곡선관계도 확인 가능.\n",
    "print(df.corr(method = 'spearman'))\n",
    "\n",
    "# 3. 켄달타우 상관계수\n",
    "# - 순위(등수)를 기준으로 비교 \n",
    "# - 순서쌍을 만들어서 비교\n",
    "#- 곡선관계 확인 가능\n",
    "print(df.corr(method='kendall'))"
   ]
  },
  {
   "cell_type": "code",
   "execution_count": 10,
   "id": "3aa50902-7b03-438a-82b0-0248524e663d",
   "metadata": {},
   "outputs": [
    {
     "name": "stdout",
     "output_type": "stream",
     "text": [
      "PearsonRResult(statistic=0.9847982464479192, pvalue=0.00224482040355213)\n",
      "SignificanceResult(statistic=0.9999999999999999, pvalue=1.4042654220543672e-24)\n",
      "SignificanceResult(statistic=0.9999999999999999, pvalue=0.016666666666666666)\n"
     ]
    }
   ],
   "source": [
    "from scipy import stats\n",
    "# 피어슨 상관계수 와 p-value 계산\n",
    "print(stats.pearsonr(df['몸무게'],df['키']))\n",
    "\n",
    "# 스피어맨 상관계수와 p-value 계산\n",
    "print(stats.spearmanr(df['몸무게'],df['키']))\n",
    "\n",
    "# 켄달다우 상관계수와 p-value 계산\n",
    "print(stats.kendalltau(df['몸무게'],df['키']))\n",
    "\n",
    "# statistic : 상관계수\n",
    "# p-value : 유의 학률(관련이 있을 확률), 낮을수록 좋음"
   ]
  },
  {
   "cell_type": "code",
   "execution_count": null,
   "id": "5ba3d39c-9818-4a2a-8415-0a55c32f0741",
   "metadata": {},
   "outputs": [],
   "source": []
  }
 ],
 "metadata": {
  "kernelspec": {
   "display_name": "Python 3 (ipykernel)",
   "language": "python",
   "name": "python3"
  },
  "language_info": {
   "codemirror_mode": {
    "name": "ipython",
    "version": 3
   },
   "file_extension": ".py",
   "mimetype": "text/x-python",
   "name": "python",
   "nbconvert_exporter": "python",
   "pygments_lexer": "ipython3",
   "version": "3.11.6"
  }
 },
 "nbformat": 4,
 "nbformat_minor": 5
}
