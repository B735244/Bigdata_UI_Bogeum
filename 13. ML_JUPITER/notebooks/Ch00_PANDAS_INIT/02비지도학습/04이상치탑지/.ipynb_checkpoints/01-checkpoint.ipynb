{
 "cells": [
  {
   "cell_type": "code",
   "execution_count": null,
   "id": "a2ea41ce-35a0-4682-b049-565b330bbb97",
   "metadata": {},
   "outputs": [],
   "source": [
    "# ----------------------------------------------------------------------\n",
    "# 라이브러리 및 데이터 준비\n",
    "# ----------------------------------------------------------------------\n",
    "import numpy as np\n",
    "import pandas as pd\n",
    "from sklearn.ensemble import IsolationForest\n",
    "\n",
    "# 정상 데이터 포인트 (대부분 10 주변에 집중)\n",
    "rng = np.random.RandomState(42)\n",
    "X = 0.3 * rng.randn(100, 2)\n",
    "X_train = np.r_[X + 2, X - 2] # 2개의 군집 생성\n",
    "\n",
    "# 명확한 이상치 추가 (데이터셋에서 멀리 떨어진 지점)\n",
    "X_outliers = rng.uniform(low=-4, high=4, size=(20, 2))\n",
    "X_data = np.r_[X_train, X_outliers] # 학습 데이터 + 이상치\n",
    "\n",
    "df = pd.DataFrame(X_data, columns=['Feature1', 'Feature2'])\n",
    "print(\"--- 원본 데이터셋 (정상 + 이상치) ---\")\n",
    "print(df.head())"
   ]
  }
 ],
 "metadata": {
  "kernelspec": {
   "display_name": "Python 3 (ipykernel)",
   "language": "python",
   "name": "python3"
  },
  "language_info": {
   "codemirror_mode": {
    "name": "ipython",
    "version": 3
   },
   "file_extension": ".py",
   "mimetype": "text/x-python",
   "name": "python",
   "nbconvert_exporter": "python",
   "pygments_lexer": "ipython3",
   "version": "3.11.6"
  }
 },
 "nbformat": 4,
 "nbformat_minor": 5
}
