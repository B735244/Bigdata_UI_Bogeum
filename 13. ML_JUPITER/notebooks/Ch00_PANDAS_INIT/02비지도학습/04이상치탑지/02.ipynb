{
 "cells": [
  {
   "cell_type": "code",
   "execution_count": 1,
   "id": "57ccb726-8e73-4fcf-aff1-c1a7282c9272",
   "metadata": {},
   "outputs": [
    {
     "name": "stdout",
     "output_type": "stream",
     "text": [
      "--- 원본 데이터셋 (고밀도, 저밀도 군집 + 이상치) ---\n",
      "   Feature1  Feature2\n",
      "0  2.149014  1.958521\n",
      "1  2.194307  2.456909\n",
      "2  1.929754  1.929759\n",
      "3  2.473764  2.230230\n",
      "4  1.859158  2.162768\n"
     ]
    }
   ],
   "source": [
    "# --------------------\n",
    "# 라이브러리 및 데이터 준비\n",
    "# --------------------\n",
    "import numpy as np\n",
    "import pandas as pd\n",
    "from sklearn.neighbors import LocalOutlierFactor # LOF 함수\n",
    "\n",
    "# 두 개의 밀도가 다른 군집 생성\n",
    "rng = np.random.RandomState(42)\n",
    "\n",
    "# 군집 A: 밀도가 높음 (X_a)\n",
    "X_a = 0.3 * rng.randn(60, 2)\n",
    "X_a = X_a + 2\n",
    "\n",
    "# 군집 B: 밀도가 낮음 (X_b)\n",
    "X_b = 0.8 * rng.randn(40, 2)\n",
    "X_b = X_b - 2\n",
    "\n",
    "# 이상치 생성 (전체 데이터에서 멀리 떨어진 지점)\n",
    "X_outliers = np.array([[5, 5], [-5, 5]])\n",
    "\n",
    "# 데이터 통합\n",
    "X_data = np.r_[X_a, X_b, X_outliers]\n",
    "\n",
    "df = pd.DataFrame(X_data, columns=['Feature1', 'Feature2'])\n",
    "print(\"--- 원본 데이터셋 (고밀도, 저밀도 군집 + 이상치) ---\")\n",
    "print(df.head())"
   ]
  },
  {
   "cell_type": "code",
   "execution_count": 2,
   "id": "d30075f8-1e8e-4db9-851d-f0bab0c8fe65",
   "metadata": {},
   "outputs": [
    {
     "name": "stdout",
     "output_type": "stream",
     "text": [
      "\n",
      "--- 2단계: 이상치 예측 완료 (1=정상, -1=이상치) ---\n",
      "     Feature1  Feature2  anomaly_prediction\n",
      "97  -1.861455 -1.691746                   1\n",
      "98  -2.707086 -1.877020                   1\n",
      "99  -1.953433 -2.914376                   1\n",
      "100  5.000000  5.000000                  -1\n",
      "101 -5.000000  5.000000                  -1\n"
     ]
    }
   ],
   "source": [
    "# --------------------\n",
    "# 2단계: LOF 모델 학습 및 예측\n",
    "# --------------------\n",
    "# n_neighbors=20: 국소 밀도를 계산할 때 주변 20개의 이웃을 사용\n",
    "# contamination=0.02: 이상치 비율 추정 (총 102개 중 2개, 약 2%)\n",
    "model = LocalOutlierFactor(n_neighbors=20, contamination=0.02)\n",
    "\n",
    "# fit_predict 사용: LOF 모델은 주로 이상치 점수(LOF 값)를 계산하는 데 사용되며,\n",
    "#                   별도의 .transform() 없이 바로 예측(-1 또는 1) 결과를 반환합니다.\n",
    "# 결과: -1 (이상치), 1 (정상)\n",
    "predictions = model.fit_predict(X_data)\n",
    "\n",
    "df['anomaly_prediction'] = predictions\n",
    "\n",
    "print(\"\\n--- 2단계: 이상치 예측 완료 (1=정상, -1=이상치) ---\")\n",
    "print(df.tail()) # 이상치 데이터는 -1로 예측됨"
   ]
  },
  {
   "cell_type": "code",
   "execution_count": null,
   "id": "3f065249-0105-489c-9707-95b07a2bf1de",
   "metadata": {},
   "outputs": [],
   "source": [
    "#\n",
    "# # Local Outlier Factor (LOF) 이상치 탐지 결과 해석\n",
    "#\n",
    "# # --- 2단계: 이상치 예측 완료 (1=정상, -1=이상치) ---\n",
    "# # LOF는 주변 이웃과의 밀도를 비교하여, 주변보다 밀도가 현저히 낮은 데이터를 이상치로 분류합니다.\n",
    "#\n",
    "# # Column 해석:\n",
    "# # Feature1, Feature2: 모델 입력으로 사용된 두 개의 특성(좌표) 값입니다.\n",
    "# # anomaly_prediction: LOF 모델이 이 데이터 포인트를 분류한 결과입니다.\n",
    "# #                     - **1:** 정상 (주변 밀도와 비슷하거나 높음)\n",
    "# #                     - **-1:** 이상치 (주변 밀도보다 현저히 낮음)\n",
    "#\n",
    "#      Feature1  Feature2  anomaly_prediction\n",
    "# 97  -1.861455 -1.691746                   1 # 군집 B (저밀도)에 속하는 데이터. 주변에 이웃이 충분하므로 정상(1)으로 분류됨.\n",
    "# 98  -2.707086 -1.877020                   1 # 군집 B 내의 데이터. 주변 밀도가 낮더라도 국소적으로는 이웃이 있으므로 정상(1)으로 분류됨.\n",
    "# 99  -1.953433 -2.914376                   1 # 군집 B 내의 데이터. 정상(1)으로 분류됨.\n",
    "# 100  5.000000  5.000000                  -1 # 사전에 생성한 명확한 이상치. 주변 20개 이웃과의 밀도가 극도로 낮으므로 **이상치(-1)**로 정확히 분류됨.\n",
    "# 101 -5.000000  5.000000                  -1 # 사전에 생성한 또 다른 명확한 이상치. 주변 이웃이 거의 없어 **이상치(-1)**로 정확히 분류됨.\n",
    "#\n",
    "# # 요약: LOF는 데이터가 고밀도 군집에 있든 저밀도 군집에 있든, 그 '국소적'인 밀도를 기반으로 이상치를 잘 분리해냅니다.\n",
    "#"
   ]
  },
  {
   "cell_type": "code",
   "execution_count": 3,
   "id": "c32b74ff-de48-495d-af53-46e03a96b873",
   "metadata": {},
   "outputs": [
    {
     "name": "stdout",
     "output_type": "stream",
     "text": [
      "\n",
      "--- 3단계: 탐지된 이상치 (Prediction=-1 & NOF가 가장 낮음) ---\n",
      "     Feature1  Feature2  anomaly_prediction  anomaly_score (NOF)\n",
      "101 -5.000000  5.000000                  -1            -7.487925\n",
      "37   1.214076  2.246571                  -1            -1.916386\n",
      "100  5.000000  5.000000                  -1            -9.961947\n"
     ]
    }
   ],
   "source": [
    "# --------------------\n",
    "# 3단계: LOF 점수 (Negative Outlier Factor) 확인 및 해석\n",
    "# --------------------\n",
    "# NOF (Negative Outlier Factor) 확인: LOF 값의 음수 역수\n",
    "# 이 값이 낮을수록 (음수 폭이 클수록) LOF 값이 크다는 의미이므로 이상치 확률이 높음.\n",
    "negative_outlier_factors = model.negative_outlier_factor_\n",
    "df['anomaly_score (NOF)'] = negative_outlier_factors\n",
    "\n",
    "# 탐지된 이상치 확인 (점수(NOF)가 낮은 순서로 정렬)\n",
    "outliers_check = df.sort_values(by='anomaly_prediction', ascending=True)\n",
    "\n",
    "print(\"\\n--- 3단계: 탐지된 이상치 (Prediction=-1 & NOF가 가장 낮음) ---\")\n",
    "# 예측이 -1이고, NOF 점수가 가장 낮은 데이터가 가장 확실한 이상치\n",
    "print(outliers_check[outliers_check['anomaly_prediction'] == -1])\n",
    "\n",
    "# 해석: LOF 값 자체가 높을수록 이상치이지만, Scikit-learn은 비교를 위해 NOF(음수 역수)를 반환합니다.\n",
    "#       따라서 NOF 점수가 가장 낮은(가장 음수인) 데이터가 가장 강력한 이상치입니다."
   ]
  },
  {
   "cell_type": "code",
   "execution_count": null,
   "id": "7c049827-ef6d-4e6b-b081-6e37eaaf68d3",
   "metadata": {},
   "outputs": [],
   "source": []
  }
 ],
 "metadata": {
  "kernelspec": {
   "display_name": "Python 3 (ipykernel)",
   "language": "python",
   "name": "python3"
  },
  "language_info": {
   "codemirror_mode": {
    "name": "ipython",
    "version": 3
   },
   "file_extension": ".py",
   "mimetype": "text/x-python",
   "name": "python",
   "nbconvert_exporter": "python",
   "pygments_lexer": "ipython3",
   "version": "3.11.6"
  }
 },
 "nbformat": 4,
 "nbformat_minor": 5
}
