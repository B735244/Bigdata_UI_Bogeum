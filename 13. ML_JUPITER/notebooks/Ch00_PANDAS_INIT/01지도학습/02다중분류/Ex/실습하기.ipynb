{
 "cells": [
  {
   "cell_type": "code",
   "execution_count": null,
   "id": "06058432-3c23-4c51-8052-e28f6723b5ca",
   "metadata": {},
   "outputs": [],
   "source": [
    "Your Goal: The goal of this competition is to use various factors to predict obesity risk in individuals, which is related to cardiovascular disease. Good luck!\n",
    "\n",
    "목표: 이 대회의 목표는 심혈관 질환과 관련된 개인의 비만 위험을 예측하기 위해 다양한 요인을 사용하는 것입니다. 행운을 빕니다\n",
    "\n",
    "| 속성                                 | 이유                                       |\n",
    "| ---------------------------------- | ---------------------------------------- |\n",
    "| **Gender, Age, Height, Weight**    | 성별·연령·BMI는 비만 위험을 가장 잘 설명하는 기본 인구통계학적 특성 |\n",
    "| **family_history_with_overweight** | 유전적 요인, 가족력은 비만·심혈관질환 모두에서 중요한 위험인자      |\n",
    "| **FCVC (식사 시 채소 섭취 빈도)**           | 채소 섭취는 비만과 역상관 관계                        |\n",
    "| **NCP (하루 식사 횟수)**                 | 과식/소식 패턴은 체중 변화에 영향                      |\n",
    "| **CAEC (간식 섭취 빈도)**                | 잦은 간식은 비만 확률 상승                          |\n",
    "| **CH2O (하루 물 섭취량)**                | 낮은 수분 섭취는 대사에 영향 가능                      |\n",
    "| **FAF (주당 신체활동 빈도)**               | 운동량은 비만 위험 완화 요인                         |\n",
    "| **TUE (화면 앞 시간, sedentary time)**  | 오래 앉아있는 습관은 비만/대사증후군 위험 인자               |\n"
   ]
  },
  {
   "cell_type": "code",
   "execution_count": 1,
   "id": "b99b0a78-face-4d73-b996-a29db4339b77",
   "metadata": {},
   "outputs": [],
   "source": [
    "import pandas as pd\n",
    "\n",
    "train = pd.read_csv(\"./train.csv\")\n",
    "test = pd.read_csv(\"./test.csv\")"
   ]
  },
  {
   "cell_type": "code",
   "execution_count": null,
   "id": "4c1b7f9b-9614-417d-8cb1-15e16578fa95",
   "metadata": {},
   "outputs": [],
   "source": [
    "test.info()\n",
    "train.info()"
   ]
  },
  {
   "cell_type": "code",
   "execution_count": null,
   "id": "74779199-0fbd-4ffb-be16-e1ed88cbc652",
   "metadata": {},
   "outputs": [],
   "source": [
    "train.head()\n",
    "# train.tail()\n",
    "# train.sample(5)\n",
    "\n",
    "test.sample(10)"
   ]
  },
  {
   "cell_type": "code",
   "execution_count": null,
   "id": "533cff6f-baae-4e3f-8e94-b25708bcda97",
   "metadata": {},
   "outputs": [],
   "source": [
    "train.shape,test.shape"
   ]
  },
  {
   "cell_type": "code",
   "execution_count": null,
   "id": "6d5285d0-6237-4440-8391-395e0a932fed",
   "metadata": {},
   "outputs": [],
   "source": [
    "train[['NObeyesdad']].value_counts()"
   ]
  },
  {
   "cell_type": "code",
   "execution_count": null,
   "id": "e295e4e0-dd40-4676-a33e-95387886972b",
   "metadata": {},
   "outputs": [],
   "source": [
    "train.info()"
   ]
  },
  {
   "cell_type": "code",
   "execution_count": null,
   "id": "1260ed97-3443-4bff-9cf8-70d43bc4c805",
   "metadata": {},
   "outputs": [],
   "source": [
    "test.info()"
   ]
  },
  {
   "cell_type": "code",
   "execution_count": null,
   "id": "b42615be-eda3-4101-8cb6-d80783b95bfc",
   "metadata": {},
   "outputs": [],
   "source": [
    "train.describe()"
   ]
  },
  {
   "cell_type": "code",
   "execution_count": null,
   "id": "ade96539-95cf-487d-84d5-278ea0ddf409",
   "metadata": {},
   "outputs": [],
   "source": [
    "test.describe()"
   ]
  },
  {
   "cell_type": "code",
   "execution_count": null,
   "id": "7f83c4ae-132d-47f4-ae37-ccc8bd4a2dfa",
   "metadata": {},
   "outputs": [],
   "source": [
    "train.describe(include='O')"
   ]
  },
  {
   "cell_type": "code",
   "execution_count": null,
   "id": "c8cb98af-e94c-497e-ba7e-bb8111023581",
   "metadata": {},
   "outputs": [],
   "source": [
    "test.describe(include='O')"
   ]
  },
  {
   "cell_type": "code",
   "execution_count": null,
   "id": "1f5ab040-e83d-4180-a988-447e8d92ddf4",
   "metadata": {},
   "outputs": [],
   "source": [
    "train.isnull().sum().sum()"
   ]
  },
  {
   "cell_type": "code",
   "execution_count": null,
   "id": "b5e306b3-a387-4500-801e-1dcb72d375b5",
   "metadata": {},
   "outputs": [],
   "source": [
    "test.isnull().sum().sum()"
   ]
  },
  {
   "cell_type": "code",
   "execution_count": 2,
   "id": "40472079-cd6d-41a3-9049-0881ab25d31d",
   "metadata": {},
   "outputs": [],
   "source": [
    "# id 제거\n",
    "train = train.drop(columns=['id'])\n",
    "test = test.drop(columns=['id'])"
   ]
  },
  {
   "cell_type": "code",
   "execution_count": 3,
   "id": "3bdfde52-dc4b-461c-9735-885c647acd7e",
   "metadata": {},
   "outputs": [],
   "source": [
    "y_train = train.pop(\"NObeyesdad\")"
   ]
  },
  {
   "cell_type": "code",
   "execution_count": 4,
   "id": "e4fe89bf-3827-4023-a3dd-a6c8cca5aa62",
   "metadata": {},
   "outputs": [
    {
     "name": "stdout",
     "output_type": "stream",
     "text": [
      "<class 'pandas.core.frame.DataFrame'>\n",
      "RangeIndex: 20758 entries, 0 to 20757\n",
      "Data columns (total 16 columns):\n",
      " #   Column                          Non-Null Count  Dtype  \n",
      "---  ------                          --------------  -----  \n",
      " 0   Gender                          20758 non-null  object \n",
      " 1   Age                             20758 non-null  float64\n",
      " 2   Height                          20758 non-null  float64\n",
      " 3   Weight                          20758 non-null  float64\n",
      " 4   family_history_with_overweight  20758 non-null  object \n",
      " 5   FAVC                            20758 non-null  object \n",
      " 6   FCVC                            20758 non-null  float64\n",
      " 7   NCP                             20758 non-null  float64\n",
      " 8   CAEC                            20758 non-null  object \n",
      " 9   SMOKE                           20758 non-null  object \n",
      " 10  CH2O                            20758 non-null  float64\n",
      " 11  SCC                             20758 non-null  object \n",
      " 12  FAF                             20758 non-null  float64\n",
      " 13  TUE                             20758 non-null  float64\n",
      " 14  CALC                            20758 non-null  object \n",
      " 15  MTRANS                          20758 non-null  object \n",
      "dtypes: float64(8), object(8)\n",
      "memory usage: 2.5+ MB\n"
     ]
    }
   ],
   "source": [
    "y_train.value_counts()\n",
    "train.info()"
   ]
  },
  {
   "cell_type": "code",
   "execution_count": null,
   "id": "4a8478c8-22a7-404e-9c25-3eb011a4e2af",
   "metadata": {},
   "outputs": [],
   "source": [
    "# # 기존 레이블인코딩\n",
    "from sklearn.preprocessing import LabelEncoder\n",
    "\n",
    "cols = train.columns[train.dtypes == object]\n",
    "\n",
    "for col in cols:\n",
    "    le = LabelEncoder()\n",
    "    le.fit(pd.concat([train[col],test[col]] ,axis=0)) # 행합치기\n",
    "    train[col] = le.transform(train[col])\n",
    "    test[col] = le.transform(test[col])"
   ]
  },
  {
   "cell_type": "code",
   "execution_count": 5,
   "id": "3f7262ef-fc02-4e13-a75b-e40bffcfe62a",
   "metadata": {},
   "outputs": [
    {
     "name": "stdout",
     "output_type": "stream",
     "text": [
      "<class 'pandas.core.frame.DataFrame'>\n",
      "RangeIndex: 13840 entries, 0 to 13839\n",
      "Data columns (total 16 columns):\n",
      " #   Column                          Non-Null Count  Dtype   \n",
      "---  ------                          --------------  -----   \n",
      " 0   Gender                          13840 non-null  category\n",
      " 1   Age                             13840 non-null  float64 \n",
      " 2   Height                          13840 non-null  float64 \n",
      " 3   Weight                          13840 non-null  float64 \n",
      " 4   family_history_with_overweight  13840 non-null  category\n",
      " 5   FAVC                            13840 non-null  category\n",
      " 6   FCVC                            13840 non-null  float64 \n",
      " 7   NCP                             13840 non-null  float64 \n",
      " 8   CAEC                            13840 non-null  category\n",
      " 9   SMOKE                           13840 non-null  category\n",
      " 10  CH2O                            13840 non-null  float64 \n",
      " 11  SCC                             13840 non-null  category\n",
      " 12  FAF                             13840 non-null  float64 \n",
      " 13  TUE                             13840 non-null  float64 \n",
      " 14  CALC                            13840 non-null  category\n",
      " 15  MTRANS                          13840 non-null  category\n",
      "dtypes: category(8), float64(8)\n",
      "memory usage: 974.4 KB\n"
     ]
    }
   ],
   "source": [
    "# 인코딩대체방법(범주형 type -> category 로 변경)\n",
    "\n",
    "train['Gender'] = train['Gender'].astype('category')\n",
    "train['family_history_with_overweight'] = train['family_history_with_overweight'].astype('category')\n",
    "train['FAVC'] = train['FAVC'].astype('category')\n",
    "train['CAEC'] = train['CAEC'].astype('category')\n",
    "train['SMOKE'] = train['SMOKE'].astype('category')\n",
    "train['SCC'] = train['SCC'].astype('category')\n",
    "train['CALC'] = train['CALC'].astype('category')\n",
    "train['MTRANS'] = train['MTRANS'].astype('category')\n",
    "\n",
    "\n",
    "\n",
    "\n",
    "test['Gender'] = train['Gender'].astype('category')\n",
    "test['family_history_with_overweight'] = train['family_history_with_overweight'].astype('category')\n",
    "test['FAVC'] = train['FAVC'].astype('category')\n",
    "test['CAEC'] = train['CAEC'].astype('category')\n",
    "test['SMOKE'] = train['SMOKE'].astype('category')\n",
    "test['SCC'] = train['SCC'].astype('category')\n",
    "test['CALC'] = train['CALC'].astype('category')\n",
    "test['MTRANS'] = train['MTRANS'].astype('category')\n",
    "\n",
    "test.info()"
   ]
  },
  {
   "cell_type": "code",
   "execution_count": null,
   "id": "1e9313a4-dbe2-425f-84d1-a099e4c7b384",
   "metadata": {},
   "outputs": [],
   "source": [
    "train"
   ]
  },
  {
   "cell_type": "code",
   "execution_count": null,
   "id": "19cff172-758d-42ca-ae37-070fa6a3cd7c",
   "metadata": {},
   "outputs": [],
   "source": [
    "#------------------------\n",
    "#검증 데이터 분할\n",
    "#------------------------"
   ]
  },
  {
   "cell_type": "code",
   "execution_count": 6,
   "id": "850aed55-60b1-4209-99da-bf2a2129d457",
   "metadata": {},
   "outputs": [],
   "source": [
    "from sklearn.model_selection import train_test_split\n",
    "\n",
    "X_train, X_val, y_train, y_val = train_test_split(\n",
    "    train,\n",
    "    y_train,\n",
    "    test_size=0.2,\n",
    "    random_state=0\n",
    ")"
   ]
  },
  {
   "cell_type": "code",
   "execution_count": 7,
   "id": "9b32808c-8502-4676-b31e-67a0d3b29ccd",
   "metadata": {},
   "outputs": [
    {
     "data": {
      "text/plain": [
       "((16606, 16), (4152, 16), (16606,), (4152,))"
      ]
     },
     "execution_count": 7,
     "metadata": {},
     "output_type": "execute_result"
    }
   ],
   "source": [
    "X_train.shape, X_val.shape, y_train.shape, y_val.shape"
   ]
  },
  {
   "cell_type": "code",
   "execution_count": null,
   "id": "7663769e-b7d5-4a57-ad8e-65ad35ecb1a0",
   "metadata": {},
   "outputs": [],
   "source": [
    "#1. 랜던포레스트\n",
    "from sklearn.ensemble import RandomForestClassifier\n",
    "rf = RandomForestClassifier(random_state=0) # 난수값고정 in->out 고정값 \n",
    "rf.fit(X_train, y_train)  #모델학습\n",
    "pred_rf=rf.predict_proba(X_val)\n",
    "pred_rf"
   ]
  },
  {
   "cell_type": "code",
   "execution_count": 12,
   "id": "5d86cdbb-bff6-4910-ba7e-16683e1fcda8",
   "metadata": {},
   "outputs": [
    {
     "name": "stdout",
     "output_type": "stream",
     "text": [
      "[LightGBM] [Info] Auto-choosing col-wise multi-threading, the overhead of testing was 0.001118 seconds.\n",
      "You can set `force_col_wise=true` to remove the overhead.\n",
      "[LightGBM] [Info] Total Bins 2058\n",
      "[LightGBM] [Info] Number of data points in the train set: 16606, number of used features: 16\n",
      "[LightGBM] [Info] Start training from score -2.094366\n",
      "[LightGBM] [Info] Start training from score -1.912860\n",
      "[LightGBM] [Info] Start training from score -1.964755\n",
      "[LightGBM] [Info] Start training from score -1.863915\n",
      "[LightGBM] [Info] Start training from score -1.634499\n",
      "[LightGBM] [Info] Start training from score -2.139374\n",
      "[LightGBM] [Info] Start training from score -2.110635\n"
     ]
    }
   ],
   "source": [
    "# 2.LIGHTGBM 학습\n",
    "import lightgbm as lgb\n",
    "lgbmc = lgb.LGBMClassifier(random_state=0, verbose=1) # \n",
    "lgbmc.fit(X_train, y_train)\n",
    "pred=lgbmc.predict(X_val)  # 예측 y값\n",
    "pred_proba = lgbmc.predict_proba(X_val) # 예측 확률값"
   ]
  },
  {
   "cell_type": "code",
   "execution_count": null,
   "id": "713b2dc0-2ea7-4d0f-9c70-474dfc3a2446",
   "metadata": {},
   "outputs": [],
   "source": [
    "# \n",
    "!pip install lightgbm"
   ]
  },
  {
   "cell_type": "code",
   "execution_count": null,
   "id": "c88073fd-eba6-432b-beed-afef503919d5",
   "metadata": {},
   "outputs": [],
   "source": []
  },
  {
   "cell_type": "code",
   "execution_count": 9,
   "id": "0e039f73-0309-4c32-b509-ce737564d8e9",
   "metadata": {},
   "outputs": [
    {
     "name": "stdout",
     "output_type": "stream",
     "text": [
      "roc_auc_ovr :  0.9888169248146651\n",
      "roc_auc_ovo :  0.9874571729788963\n",
      "accuracy :  0.9051059730250481\n",
      "f1 :  0.8949765427420396\n"
     ]
    }
   ],
   "source": [
    "from sklearn.metrics import accuracy_score\n",
    "from sklearn.metrics import f1_score\n",
    "from sklearn.metrics import roc_auc_score\n",
    "\n",
    "roc_auc_ovr = roc_auc_score(y_val , pred_proba, multi_class='ovr') # pred 예측 확률값 [오답예측확률 , 정답예측확률]\n",
    "roc_auc_ovo = roc_auc_score(y_val , pred_proba, multi_class='ovo') # pred 예측 확률값 [오답예측확률 , 정답예측확률]\n",
    "accuracy = accuracy_score(y_val,pred) # pred 예측 y값 \n",
    "f1 = f1_score(y_val,pred,average='macro') # pred 예측 y값 (클래스별(1,2,3정답값) 성능을 동등하게 반영)\n",
    "\n",
    "print('roc_auc_ovr : ',  roc_auc_ovr)\n",
    "print('roc_auc_ovo : ',  roc_auc_ovo)\n",
    "print('accuracy : ',  accuracy)\n",
    "print('f1 : ',  f1)\n",
    "\n",
    "# OvR(One-vs-Rest): 각 클래스 vs 나머지 → 평균\n",
    "# OvO(One-vs-One): 클래스 쌍별 AUC 평균"
   ]
  },
  {
   "cell_type": "code",
   "execution_count": 10,
   "id": "fc9f9632-7eb0-40e5-9516-cf3e969ab0a9",
   "metadata": {},
   "outputs": [
    {
     "data": {
      "text/plain": [
       "array(['Obesity_Type_II', 'Overweight_Level_I', 'Obesity_Type_III', ...,\n",
       "       'Insufficient_Weight', 'Normal_Weight', 'Obesity_Type_II'],\n",
       "      dtype=object)"
      ]
     },
     "execution_count": 10,
     "metadata": {},
     "output_type": "execute_result"
    }
   ],
   "source": [
    "#-----------------------\n",
    "# 예측 파일 제출(.csv)\n",
    "#-----------------------\n",
    "pred_submit=lgbmc.predict(test)\n",
    "pred_submit"
   ]
  },
  {
   "cell_type": "code",
   "execution_count": 11,
   "id": "8f6b165a-73b2-4160-80b2-4321ebcd32a5",
   "metadata": {},
   "outputs": [],
   "source": [
    "submit_csv = pd.DataFrame({'prediction':pred_submit})\n",
    "submit_csv.to_csv(\"result.csv\",index=False)"
   ]
  },
  {
   "cell_type": "code",
   "execution_count": null,
   "id": "1e543bec-e150-46fe-902d-947efaed33da",
   "metadata": {},
   "outputs": [],
   "source": []
  }
 ],
 "metadata": {
  "kernelspec": {
   "display_name": "Python 3 (ipykernel)",
   "language": "python",
   "name": "python3"
  },
  "language_info": {
   "codemirror_mode": {
    "name": "ipython",
    "version": 3
   },
   "file_extension": ".py",
   "mimetype": "text/x-python",
   "name": "python",
   "nbconvert_exporter": "python",
   "pygments_lexer": "ipython3",
   "version": "3.11.6"
  }
 },
 "nbformat": 4,
 "nbformat_minor": 5
}
