{
 "cells": [
  {
   "cell_type": "code",
   "execution_count": null,
   "id": "3145df29-b9bc-4eb9-8de2-5aa8b80a202b",
   "metadata": {},
   "outputs": [],
   "source": [
    "# 문제 정의\n",
    "# 고객별 신용등급 분류\n",
    "# 1. BAD, 2.STANDARD 3. GOOD\n",
    "# 타깃(라벨, y값) : Credit_Score\n"
   ]
  },
  {
   "cell_type": "code",
   "execution_count": null,
   "id": "a96efdf6-a469-4d04-a300-b56723269c60",
   "metadata": {},
   "outputs": [],
   "source": [
    "#------\n",
    "#라이브러리 가져오기\n",
    "#-----------------"
   ]
  },
  {
   "cell_type": "code",
   "execution_count": 1,
   "id": "92683da3-f5c6-4b2d-a451-0fa1058c5ddd",
   "metadata": {},
   "outputs": [],
   "source": [
    "import pandas as pd\n",
    "\n",
    "train =pd.read_csv(\"./train.csv\")\n",
    "test =  pd.read_csv(\"./test.csv\")\n"
   ]
  },
  {
   "cell_type": "code",
   "execution_count": null,
   "id": "a41332f5-9b6f-4feb-a938-7bb48c742cc5",
   "metadata": {},
   "outputs": [],
   "source": []
  }
 ],
 "metadata": {
  "kernelspec": {
   "display_name": "Python 3 (ipykernel)",
   "language": "python",
   "name": "python3"
  },
  "language_info": {
   "codemirror_mode": {
    "name": "ipython",
    "version": 3
   },
   "file_extension": ".py",
   "mimetype": "text/x-python",
   "name": "python",
   "nbconvert_exporter": "python",
   "pygments_lexer": "ipython3",
   "version": "3.11.6"
  }
 },
 "nbformat": 4,
 "nbformat_minor": 5
}
