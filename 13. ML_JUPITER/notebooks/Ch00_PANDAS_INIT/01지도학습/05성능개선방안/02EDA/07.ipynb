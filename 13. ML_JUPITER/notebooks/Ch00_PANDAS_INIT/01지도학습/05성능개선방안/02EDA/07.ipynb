{
 "cells": [
  {
   "cell_type": "code",
   "execution_count": 1,
   "id": "1a283e6a-7dae-4683-b310-ee40aed296ee",
   "metadata": {},
   "outputs": [],
   "source": [
    "import pandas as pd\n",
    "class1 = [85, 90, 92, 88, 86, 89, 83, 87]\n",
    "class2 = [80, 82, 88, 85, 84]\n"
   ]
  },
  {
   "cell_type": "code",
   "execution_count": 2,
   "id": "73e68727-6141-482e-9588-0d870ecadf2e",
   "metadata": {},
   "outputs": [
    {
     "name": "stdout",
     "output_type": "stream",
     "text": [
      "TtestResult(statistic=2.2108140580092237, pvalue=0.04914857789252186, df=11.0)\n"
     ]
    }
   ],
   "source": [
    "from scipy import stats\n",
    "print(stats.ttest_ind(class1, class2))\n"
   ]
  },
  {
   "cell_type": "code",
   "execution_count": 3,
   "id": "ad2673c6-50be-4d0f-9584-513c81f3c19e",
   "metadata": {},
   "outputs": [
    {
     "name": "stdout",
     "output_type": "stream",
     "text": [
      "TtestResult(statistic=2.1818699281825236, pvalue=0.059589330071355334, df=8.272682358753572)\n"
     ]
    }
   ],
   "source": [
    "print(stats.ttest_ind(class1, class2, equal_var=False))\n"
   ]
  },
  {
   "cell_type": "code",
   "execution_count": 4,
   "id": "3cf4f839-43a7-44ef-9231-4a3fc63d5b62",
   "metadata": {},
   "outputs": [
    {
     "name": "stdout",
     "output_type": "stream",
     "text": [
      "TtestResult(statistic=2.2108140580092237, pvalue=0.9754257110537391, df=11.0)\n"
     ]
    }
   ],
   "source": [
    "print(stats.ttest_ind(class1, class2, equal_var=True, alternative='less'))\n"
   ]
  },
  {
   "cell_type": "code",
   "execution_count": 5,
   "id": "2d694b03-d828-47d9-b5de-2daff3a8327f",
   "metadata": {},
   "outputs": [
    {
     "name": "stdout",
     "output_type": "stream",
     "text": [
      "TtestResult(statistic=2.2108140580092237, pvalue=0.02457428894626093, df=11.0)\n"
     ]
    }
   ],
   "source": [
    "print(stats.ttest_ind(class1, class2, equal_var=True, alternative='greater'))\n"
   ]
  },
  {
   "cell_type": "code",
   "execution_count": null,
   "id": "b71cbc89-27c8-4941-a08a-d0c82f08c188",
   "metadata": {},
   "outputs": [],
   "source": [
    "# --------------------------------------\n",
    "# StudentsPerformance\n",
    "# --------------------------------------"
   ]
  },
  {
   "cell_type": "code",
   "execution_count": 6,
   "id": "c3ce2b00-9fa4-4c7e-81fe-b48b205b2a61",
   "metadata": {},
   "outputs": [
    {
     "name": "stdout",
     "output_type": "stream",
     "text": [
      "등분산 가정 t-검정 결과: TtestResult(statistic=-5.383245869828983, pvalue=9.120185549328822e-08, df=998.0)\n",
      "Welch t-검정 결과: TtestResult(statistic=-5.398000564160736, pvalue=8.420838109090415e-08, df=997.9840751727494)\n",
      "여학생 < 남학생 : TtestResult(statistic=-5.383245869828983, pvalue=4.560092774664411e-08, df=998.0)\n",
      "여학생 > 남학생 : TtestResult(statistic=-5.383245869828983, pvalue=0.9999999543990722, df=998.0)\n"
     ]
    }
   ],
   "source": [
    "# StudentsPerformance.csv - 간단한 독립표본 t-검정\n",
    "\n",
    "# 남녀의 수학 점수 비교\n",
    "import pandas as pd\n",
    "from scipy import stats\n",
    "\n",
    "# 1) CSV 불러오기\n",
    "df = pd.read_csv(\"StudentsPerformance.csv\")\n",
    "\n",
    "# 2) 남학생과 여학생 데이터 분리\n",
    "female = df[df['gender'] == 'female']['math score']\n",
    "male   = df[df['gender'] == 'male']['math score']\n",
    "\n",
    "# 3) 독립표본 t-검정 (등분산 가정)\n",
    "result_equal = stats.ttest_ind(female, male, equal_var=True)\n",
    "print(\"등분산 가정 t-검정 결과:\", result_equal)\n",
    "\n",
    "# 4) Welch t-검정 (등분산 가정하지 않음)\n",
    "result_welch = stats.ttest_ind(female, male, equal_var=False)\n",
    "print(\"Welch t-검정 결과:\", result_welch)\n",
    "\n",
    "# 5) 방향성 검정 (여학생 점수가 남학생보다 낮은지 / 높은지)\n",
    "print(\"여학생 < 남학생 :\", stats.ttest_ind(female, male, alternative='less'))\n",
    "print(\"여학생 > 남학생 :\", stats.ttest_ind(female, male, alternative='greater'))\n"
   ]
  },
  {
   "cell_type": "code",
   "execution_count": null,
   "id": "1352832a-685f-4e83-9e1f-fb1cbac56c0a",
   "metadata": {},
   "outputs": [],
   "source": []
  }
 ],
 "metadata": {
  "kernelspec": {
   "display_name": "Python 3 (ipykernel)",
   "language": "python",
   "name": "python3"
  },
  "language_info": {
   "codemirror_mode": {
    "name": "ipython",
    "version": 3
   },
   "file_extension": ".py",
   "mimetype": "text/x-python",
   "name": "python",
   "nbconvert_exporter": "python",
   "pygments_lexer": "ipython3",
   "version": "3.11.6"
  }
 },
 "nbformat": 4,
 "nbformat_minor": 5
}
