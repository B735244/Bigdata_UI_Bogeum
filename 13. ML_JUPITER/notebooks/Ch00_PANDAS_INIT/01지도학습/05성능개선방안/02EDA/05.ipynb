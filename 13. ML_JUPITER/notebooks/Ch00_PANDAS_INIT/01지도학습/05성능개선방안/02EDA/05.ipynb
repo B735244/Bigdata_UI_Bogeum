{
 "cells": [
  {
   "cell_type": "code",
   "execution_count": null,
   "id": "e450138c-a706-4c0b-835b-6b7b356eb260",
   "metadata": {},
   "outputs": [],
   "source": [
    "# 1. 개념 요약\n",
    "# | 구분           | 설명                                |\n",
    "# | ------------ | --------------------------------- |\n",
    "# | **목적**       | 모집단의 평균이 특정한 값과 같은지 검정            |\n",
    "# | **표본**       | 단 하나의 표본만 사용                      |\n",
    "# | **사용 예시**    | 한 반 학생들의 평균 키가 170cm와 다른지 알고 싶을 때 |\n",
    "# | **귀무가설(H₀)** | 모집단 평균 μ = 기준값 μ₀                 |\n",
    "# | **대립가설(H₁)** | 모집단 평균 μ ≠ μ₀ (또는 >, <)           |\n",
    "\n",
    "# 주제 : 우리 반 학생들의 평균 키(표본집단) 가 전국 평균(모집단) (170cm,평균)과 다른가?\n",
    "# | 학생 번호 | 키(cm) |\n",
    "# | ----- | ----- |\n",
    "# | 1     | 172   |\n",
    "# | 2     | 168   |\n",
    "# | 3     | 171   |\n",
    "# | 4     | 169   |\n",
    "# | 5     | 170   |\n",
    "# | 6     | 174   |\n",
    "# | 7     | 173   |\n",
    "# | 8     | 175   |\n",
    "# | 9     | 169   |\n",
    "# | 10    | 171   |\n",
    "\n",
    "\n",
    "# 2. 검정 종류\n",
    "# | 데이터 조건                | 검정 방법                   | 예시                       |\n",
    "# | -----------------         | ----------------------- | ------------------------ |\n",
    "# | 모집단 분산(σ²)을 알고 있음 | Z검정 (One-sample Z-test) | 표본이 30개 이상, 분산을 알고 있는 경우 |\n",
    "# | 모집단 분산을 모름          | t검정 (One-sample t-test) | 표본이 적거나 분산을 모를 때         |\n",
    "\n"
   ]
  },
  {
   "cell_type": "code",
   "execution_count": 2,
   "id": "f4dfb4f1-9ab0-4970-9780-f5563399317f",
   "metadata": {},
   "outputs": [
    {
     "data": {
      "text/html": [
       "<div>\n",
       "<style scoped>\n",
       "    .dataframe tbody tr th:only-of-type {\n",
       "        vertical-align: middle;\n",
       "    }\n",
       "\n",
       "    .dataframe tbody tr th {\n",
       "        vertical-align: top;\n",
       "    }\n",
       "\n",
       "    .dataframe thead th {\n",
       "        text-align: right;\n",
       "    }\n",
       "</style>\n",
       "<table border=\"1\" class=\"dataframe\">\n",
       "  <thead>\n",
       "    <tr style=\"text-align: right;\">\n",
       "      <th></th>\n",
       "      <th>weights</th>\n",
       "    </tr>\n",
       "  </thead>\n",
       "  <tbody>\n",
       "    <tr>\n",
       "      <th>0</th>\n",
       "      <td>122</td>\n",
       "    </tr>\n",
       "    <tr>\n",
       "      <th>1</th>\n",
       "      <td>121</td>\n",
       "    </tr>\n",
       "    <tr>\n",
       "      <th>2</th>\n",
       "      <td>120</td>\n",
       "    </tr>\n",
       "    <tr>\n",
       "      <th>3</th>\n",
       "      <td>119</td>\n",
       "    </tr>\n",
       "    <tr>\n",
       "      <th>4</th>\n",
       "      <td>125</td>\n",
       "    </tr>\n",
       "    <tr>\n",
       "      <th>5</th>\n",
       "      <td>115</td>\n",
       "    </tr>\n",
       "    <tr>\n",
       "      <th>6</th>\n",
       "      <td>121</td>\n",
       "    </tr>\n",
       "    <tr>\n",
       "      <th>7</th>\n",
       "      <td>118</td>\n",
       "    </tr>\n",
       "    <tr>\n",
       "      <th>8</th>\n",
       "      <td>117</td>\n",
       "    </tr>\n",
       "    <tr>\n",
       "      <th>9</th>\n",
       "      <td>127</td>\n",
       "    </tr>\n",
       "    <tr>\n",
       "      <th>10</th>\n",
       "      <td>123</td>\n",
       "    </tr>\n",
       "    <tr>\n",
       "      <th>11</th>\n",
       "      <td>129</td>\n",
       "    </tr>\n",
       "    <tr>\n",
       "      <th>12</th>\n",
       "      <td>119</td>\n",
       "    </tr>\n",
       "    <tr>\n",
       "      <th>13</th>\n",
       "      <td>124</td>\n",
       "    </tr>\n",
       "    <tr>\n",
       "      <th>14</th>\n",
       "      <td>114</td>\n",
       "    </tr>\n",
       "    <tr>\n",
       "      <th>15</th>\n",
       "      <td>126</td>\n",
       "    </tr>\n",
       "    <tr>\n",
       "      <th>16</th>\n",
       "      <td>122</td>\n",
       "    </tr>\n",
       "    <tr>\n",
       "      <th>17</th>\n",
       "      <td>124</td>\n",
       "    </tr>\n",
       "    <tr>\n",
       "      <th>18</th>\n",
       "      <td>121</td>\n",
       "    </tr>\n",
       "    <tr>\n",
       "      <th>19</th>\n",
       "      <td>116</td>\n",
       "    </tr>\n",
       "    <tr>\n",
       "      <th>20</th>\n",
       "      <td>120</td>\n",
       "    </tr>\n",
       "    <tr>\n",
       "      <th>21</th>\n",
       "      <td>123</td>\n",
       "    </tr>\n",
       "    <tr>\n",
       "      <th>22</th>\n",
       "      <td>127</td>\n",
       "    </tr>\n",
       "    <tr>\n",
       "      <th>23</th>\n",
       "      <td>118</td>\n",
       "    </tr>\n",
       "    <tr>\n",
       "      <th>24</th>\n",
       "      <td>122</td>\n",
       "    </tr>\n",
       "    <tr>\n",
       "      <th>25</th>\n",
       "      <td>117</td>\n",
       "    </tr>\n",
       "    <tr>\n",
       "      <th>26</th>\n",
       "      <td>124</td>\n",
       "    </tr>\n",
       "    <tr>\n",
       "      <th>27</th>\n",
       "      <td>125</td>\n",
       "    </tr>\n",
       "    <tr>\n",
       "      <th>28</th>\n",
       "      <td>123</td>\n",
       "    </tr>\n",
       "    <tr>\n",
       "      <th>29</th>\n",
       "      <td>121</td>\n",
       "    </tr>\n",
       "  </tbody>\n",
       "</table>\n",
       "</div>"
      ],
      "text/plain": [
       "    weights\n",
       "0       122\n",
       "1       121\n",
       "2       120\n",
       "3       119\n",
       "4       125\n",
       "5       115\n",
       "6       121\n",
       "7       118\n",
       "8       117\n",
       "9       127\n",
       "10      123\n",
       "11      129\n",
       "12      119\n",
       "13      124\n",
       "14      114\n",
       "15      126\n",
       "16      122\n",
       "17      124\n",
       "18      121\n",
       "19      116\n",
       "20      120\n",
       "21      123\n",
       "22      127\n",
       "23      118\n",
       "24      122\n",
       "25      117\n",
       "26      124\n",
       "27      125\n",
       "28      123\n",
       "29      121"
      ]
     },
     "execution_count": 2,
     "metadata": {},
     "output_type": "execute_result"
    }
   ],
   "source": [
    "import pandas as pd\n",
    "df = pd.DataFrame({\n",
    "    'weights':[122, 121, 120, 119, 125, 115, 121, 118, 117, 127,\n",
    "           123, 129, 119, 124, 114, 126, 122, 124, 121, 116,\n",
    "           120, 123, 127, 118, 122, 117, 124, 125, 123, 121],\n",
    "})\n",
    "df"
   ]
  },
  {
   "cell_type": "code",
   "execution_count": 3,
   "id": "712c54b6-90f2-42d9-9968-93d26b04eac8",
   "metadata": {},
   "outputs": [
    {
     "name": "stdout",
     "output_type": "stream",
     "text": [
      "t-statistic: 2.1155384372682344\n",
      "p-value: 0.043092957066609296\n"
     ]
    }
   ],
   "source": [
    "from scipy import stats # 통계 분석용 라이브러리 SciPy에서 stats 모듈 불러오기\n",
    "\n",
    "# 귀무가설 표본평균 == 120\n",
    "# 대립가설 표본평균 != 120\n",
    "# p-value :  귀무가설이 맞을 확률 ( p < 0.05  - 귀무가설 기각  , p >=0.05 - 귀무가설 통과)  \n",
    "\n",
    "# t검정\n",
    "t_statistic, p_value = stats.ttest_1samp(df['weights'], 120) # 단일표본 t검정 수행 (표본평균이 120과 다른지 검정)\n",
    "# df['weights']: 표본 데이터\n",
    "# 120: 가설로 설정한 모집단 평균(μ₀ = 120)\n",
    "# 결과로 t-통계량(t_statistic)과 유의확률(p_value) 반환\n",
    "\n",
    "print(\"t-statistic:\", t_statistic) # 계산된 t값(검정 통계량)을 출력\n",
    "print(\"p-value:\", p_value) # 계산된 p-값(유의확률)을 출력\n",
    "\n"
   ]
  },
  {
   "cell_type": "code",
   "execution_count": 4,
   "id": "c3da9a07-bba4-4fc1-a652-d9e118aa6b46",
   "metadata": {},
   "outputs": [
    {
     "name": "stdout",
     "output_type": "stream",
     "text": [
      "TtestResult(statistic=2.1155384372682344, pvalue=0.043092957066609296, df=29)\n"
     ]
    }
   ],
   "source": [
    "# t검정 결과 전체를 한 번에 출력\n",
    "print(stats.ttest_1samp(df['weights'], 120))\n"
   ]
  },
  {
   "cell_type": "code",
   "execution_count": 5,
   "id": "a18bd1c5-1967-4915-ac84-419272f8e54e",
   "metadata": {},
   "outputs": [
    {
     "name": "stdout",
     "output_type": "stream",
     "text": [
      "TtestResult(statistic=2.1155384372682344, pvalue=0.043092957066609296, df=29)\n"
     ]
    }
   ],
   "source": [
    "print(stats.ttest_1samp(df['weights'], 120, alternative='two-sided')) # 양측검정 (평균이 120과 '다른지' 검정 — 크거나 작을 수 있음)\n"
   ]
  },
  {
   "cell_type": "code",
   "execution_count": 6,
   "id": "536695e0-3756-4594-aee3-55b872584516",
   "metadata": {},
   "outputs": [
    {
     "name": "stdout",
     "output_type": "stream",
     "text": [
      "TtestResult(statistic=2.1155384372682344, pvalue=0.021546478533304648, df=29)\n"
     ]
    }
   ],
   "source": [
    "print(stats.ttest_1samp(df['weights'], 120, alternative='greater')) # 오른쪽검정 (평균이 120보다 '큰지' 검정)\n"
   ]
  },
  {
   "cell_type": "code",
   "execution_count": 7,
   "id": "c1ea531b-7976-4522-b62d-46a7043494b7",
   "metadata": {},
   "outputs": [
    {
     "name": "stdout",
     "output_type": "stream",
     "text": [
      "TtestResult(statistic=2.1155384372682344, pvalue=0.9784535214666953, df=29)\n"
     ]
    }
   ],
   "source": [
    "print(stats.ttest_1samp(df['weights'], 120, alternative='less')) # 왼쪽검정 (평균이 120보다 '작은지' 검정)\n"
   ]
  },
  {
   "cell_type": "code",
   "execution_count": null,
   "id": "338bde93-d4d4-490b-8bcc-2d4b99b2e19f",
   "metadata": {},
   "outputs": [],
   "source": []
  }
 ],
 "metadata": {
  "kernelspec": {
   "display_name": "Python 3 (ipykernel)",
   "language": "python",
   "name": "python3"
  },
  "language_info": {
   "codemirror_mode": {
    "name": "ipython",
    "version": 3
   },
   "file_extension": ".py",
   "mimetype": "text/x-python",
   "name": "python",
   "nbconvert_exporter": "python",
   "pygments_lexer": "ipython3",
   "version": "3.11.6"
  }
 },
 "nbformat": 4,
 "nbformat_minor": 5
}
