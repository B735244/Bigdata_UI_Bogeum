{
 "cells": [
  {
   "cell_type": "code",
   "execution_count": null,
   "id": "0e1ae379-e788-4c58-8bd2-a750ed7dce34",
   "metadata": {},
   "outputs": [],
   "source": [
    "# ----------------------------------------------------------------------\n",
    "# Optuna (베이지안 최적화 기반) 정의 및 원리\n",
    "# ----------------------------------------------------------------------\n",
    "\n",
    "# 1. 정의:\n",
    "# - 이전 시도의 평가 결과를 바탕으로 다음 시도에 가장 성능이 좋을 것으로 '예측'되는 조합을 '지능적으로' 선택하여 탐색하는 베이지안 최적화 기반 프레임워크.\n",
    "# - Random Search보다 훨씬 적은 반복만으로 최적의 하이퍼파라미터를 찾을 수 있어 가장 효율적임.\n",
    "\n",
    "# 2. 핵심 원리:\n",
    "# - Define-by-Run: 탐색 공간을 미리 고정하지 않고, 튜닝 과정(Run-time) 중에 동적으로(조건에 따라) 정의할 수 있음.\n",
    "# - 베이지안 최적화: 확률 모델(대리 모델)을 사용하여 탐색할 다음 위치를 결정.\n",
    "#   - 탐험 (Exploration): 아직 시도해보지 않은 새로운 영역을 탐색.\n",
    "#   - 활용 (Exploitation): 이전에 성능이 좋았던 영역 주변을 집중적으로 탐색.\n",
    "#   - Optuna는 이 두 가지를 균형 있게 수행하여 효율을 극대화함.\n",
    "\n",
    "# 3. 주요 요소:\n",
    "# - Study (스터디): 전체 최적화 세션을 관리하는 객체. 최적화 방향(maximize/minimize)을 정의함.\n",
    "# - Trial (시행): 한 번의 하이퍼파라미터 조합을 시도하고 평가하는 과정.\n",
    "# - Objective Function (목적 함수): Optuna로부터 제안받은 조합으로 모델을 학습시키고, 최적화할 점수(Scalar Value)를 반환하는 함수. (Optuna가 이 값을 최대화 또는 최소화하려고 시도함)\n",
    "\n",
    "# 4. 장점:\n",
    "# - 높은 효율성: 비효율적인 영역 탐색을 피하여 시간과 자원을 크게 절약.\n",
    "# - 유연성: 조건부 파라미터나 복잡한 탐색 공간을 동적으로 처리 가능.\n",
    "# - 강력한 시각화: 탐색 과정을 시각적으로 분석할 수 있는 다양한 도구 제공."
   ]
  },
  {
   "cell_type": "code",
   "execution_count": 2,
   "id": "a52cbad8-4cea-4791-bc09-47f84bfb7329",
   "metadata": {},
   "outputs": [
    {
     "name": "stdout",
     "output_type": "stream",
     "text": [
      "Collecting optuna\n",
      "  Downloading optuna-4.5.0-py3-none-any.whl.metadata (17 kB)\n",
      "Requirement already satisfied: scikit-learn in /opt/conda/lib/python3.11/site-packages (1.7.2)\n",
      "Requirement already satisfied: alembic>=1.5.0 in /opt/conda/lib/python3.11/site-packages (from optuna) (1.12.0)\n",
      "Collecting colorlog (from optuna)\n",
      "  Downloading colorlog-6.10.1-py3-none-any.whl.metadata (11 kB)\n",
      "Requirement already satisfied: numpy in /opt/conda/lib/python3.11/site-packages (from optuna) (1.24.4)\n",
      "Requirement already satisfied: packaging>=20.0 in /opt/conda/lib/python3.11/site-packages (from optuna) (23.2)\n",
      "Requirement already satisfied: sqlalchemy>=1.4.2 in /opt/conda/lib/python3.11/site-packages (from optuna) (2.0.22)\n",
      "Requirement already satisfied: tqdm in /opt/conda/lib/python3.11/site-packages (from optuna) (4.66.1)\n",
      "Requirement already satisfied: PyYAML in /opt/conda/lib/python3.11/site-packages (from optuna) (6.0.1)\n",
      "Requirement already satisfied: scipy>=1.8.0 in /opt/conda/lib/python3.11/site-packages (from scikit-learn) (1.11.3)\n",
      "Requirement already satisfied: joblib>=1.2.0 in /opt/conda/lib/python3.11/site-packages (from scikit-learn) (1.3.2)\n",
      "Requirement already satisfied: threadpoolctl>=3.1.0 in /opt/conda/lib/python3.11/site-packages (from scikit-learn) (3.2.0)\n",
      "Requirement already satisfied: Mako in /opt/conda/lib/python3.11/site-packages (from alembic>=1.5.0->optuna) (1.2.4)\n",
      "Requirement already satisfied: typing-extensions>=4 in /opt/conda/lib/python3.11/site-packages (from alembic>=1.5.0->optuna) (4.8.0)\n",
      "Requirement already satisfied: greenlet!=0.4.17 in /opt/conda/lib/python3.11/site-packages (from sqlalchemy>=1.4.2->optuna) (3.0.0)\n",
      "Requirement already satisfied: MarkupSafe>=0.9.2 in /opt/conda/lib/python3.11/site-packages (from Mako->alembic>=1.5.0->optuna) (2.1.3)\n",
      "Downloading optuna-4.5.0-py3-none-any.whl (400 kB)\n",
      "\u001b[2K   \u001b[90m━━━━━━━━━━━━━━━━━━━━━━━━━━━━━━━━━━━━━━━━\u001b[0m \u001b[32m400.9/400.9 kB\u001b[0m \u001b[31m9.8 MB/s\u001b[0m eta \u001b[36m0:00:00\u001b[0m:00:01\u001b[0m\n",
      "\u001b[?25hDownloading colorlog-6.10.1-py3-none-any.whl (11 kB)\n",
      "Installing collected packages: colorlog, optuna\n",
      "Successfully installed colorlog-6.10.1 optuna-4.5.0\n",
      "Note: you may need to restart the kernel to use updated packages.\n"
     ]
    }
   ],
   "source": [
    "pip install optuna scikit-learn\n"
   ]
  },
  {
   "cell_type": "code",
   "execution_count": 1,
   "id": "443e031f-4e2a-4fc4-9be7-eaa8e6c03c90",
   "metadata": {},
   "outputs": [
    {
     "name": "stdout",
     "output_type": "stream",
     "text": [
      "--- 데이터 준비 완료 ---\n"
     ]
    }
   ],
   "source": [
    "# --------------------\n",
    "#  라이브러리 및 데이터 준비\n",
    "# --------------------\n",
    "# pip install optuna scikit-learn\n",
    "import optuna\n",
    "from sklearn.ensemble import RandomForestClassifier\n",
    "from sklearn.datasets import load_iris\n",
    "from sklearn.model_selection import cross_val_score, train_test_split\n",
    "\n",
    "# Iris 데이터셋 로드\n",
    "iris = load_iris()\n",
    "X, y = iris.data, iris.target\n",
    "\n",
    "# 데이터 분할\n",
    "X_train, X_test, y_train, y_test = train_test_split(X, y, test_size=0.3, random_state=42)\n",
    "\n",
    "print(\"--- 데이터 준비 완료 ---\")"
   ]
  },
  {
   "cell_type": "code",
   "execution_count": 2,
   "id": "b7a448cc-35ce-4607-ac96-361933fe9db5",
   "metadata": {},
   "outputs": [
    {
     "name": "stdout",
     "output_type": "stream",
     "text": [
      "\n",
      "--- 2단계: 목적 함수 정의 완료 ---\n"
     ]
    }
   ],
   "source": [
    "# --------------------\n",
    "# 2단계: 목적 함수 (Objective Function) 정의\n",
    "# --------------------\n",
    "def objective(trial):\n",
    "    \"\"\"\n",
    "    Optuna로부터 하이퍼파라미터를 제안받아 모델을 평가하고 점수를 반환하는 함수.\n",
    "    \"\"\"\n",
    "    \n",
    "    # 1. 하이퍼파라미터 탐색 공간 정의 (trial.suggest_*)\n",
    "    # Optuna는 이전에 평가된 결과를 바탕으로 다음에 시도할 최적의 값을 지능적으로 제안합니다.\n",
    "    n_estimators = trial.suggest_int('n_estimators', 100, 500)  # 정수형 범위 탐색\n",
    "    max_depth = trial.suggest_int('max_depth', 3, 10)           # 정수형 범위 탐색\n",
    "    min_samples_split = trial.suggest_float('min_samples_split', 0.01, 0.1) # 실수형 범위 탐색\n",
    "    \n",
    "    # 2. 모델 생성 및 교차 검증 평가\n",
    "    model = RandomForestClassifier(\n",
    "        n_estimators=n_estimators,\n",
    "        max_depth=max_depth,\n",
    "        min_samples_split=min_samples_split,\n",
    "        random_state=42\n",
    "    )\n",
    "    \n",
    "    # 5-Fold 교차 검증을 사용하여 정확도(Accuracy)를 평가\n",
    "    score = cross_val_score(model, X_train, y_train, cv=5, scoring='accuracy')\n",
    "    \n",
    "    # 교차 검증 점수의 평균을 반환 (Optuna는 이 값을 최대화하려고 시도함)\n",
    "    return score.mean()\n",
    "\n",
    "print(\"\\n--- 2단계: 목적 함수 정의 완료 ---\")"
   ]
  },
  {
   "cell_type": "code",
   "execution_count": 3,
   "id": "9dc2585f-c2b1-421c-bd19-ef20e8d1775c",
   "metadata": {},
   "outputs": [
    {
     "name": "stderr",
     "output_type": "stream",
     "text": [
      "[I 2025-10-17 01:52:21,704] A new study created in memory with name: no-name-2c09faad-fa3a-4ede-b1d3-27e725d6e3fc\n"
     ]
    },
    {
     "data": {
      "application/vnd.jupyter.widget-view+json": {
       "model_id": "0074d7d2d274484eb03e851590853808",
       "version_major": 2,
       "version_minor": 0
      },
      "text/plain": [
       "  0%|          | 0/50 [00:00<?, ?it/s]"
      ]
     },
     "metadata": {},
     "output_type": "display_data"
    },
    {
     "name": "stdout",
     "output_type": "stream",
     "text": [
      "[I 2025-10-17 01:52:22,281] Trial 0 finished with value: 0.9333333333333333 and parameters: {'n_estimators': 116, 'max_depth': 3, 'min_samples_split': 0.0418051788694312}. Best is trial 0 with value: 0.9333333333333333.\n",
      "[I 2025-10-17 01:52:23,548] Trial 1 finished with value: 0.9428571428571428 and parameters: {'n_estimators': 272, 'max_depth': 9, 'min_samples_split': 0.04105586676010553}. Best is trial 1 with value: 0.9428571428571428.\n",
      "[I 2025-10-17 01:52:24,259] Trial 2 finished with value: 0.9428571428571428 and parameters: {'n_estimators': 161, 'max_depth': 4, 'min_samples_split': 0.049872609320014916}. Best is trial 1 with value: 0.9428571428571428.\n",
      "[I 2025-10-17 01:52:26,028] Trial 3 finished with value: 0.9428571428571428 and parameters: {'n_estimators': 406, 'max_depth': 8, 'min_samples_split': 0.0728304095754143}. Best is trial 1 with value: 0.9428571428571428.\n",
      "[I 2025-10-17 01:52:27,723] Trial 4 finished with value: 0.9428571428571428 and parameters: {'n_estimators': 393, 'max_depth': 9, 'min_samples_split': 0.015616315483667112}. Best is trial 1 with value: 0.9428571428571428.\n",
      "[I 2025-10-17 01:52:29,009] Trial 5 finished with value: 0.9428571428571428 and parameters: {'n_estimators': 289, 'max_depth': 4, 'min_samples_split': 0.059561786168157306}. Best is trial 1 with value: 0.9428571428571428.\n",
      "[I 2025-10-17 01:52:30,477] Trial 6 finished with value: 0.9428571428571428 and parameters: {'n_estimators': 338, 'max_depth': 5, 'min_samples_split': 0.026008018210873}. Best is trial 1 with value: 0.9428571428571428.\n",
      "[I 2025-10-17 01:52:31,455] Trial 7 finished with value: 0.9428571428571428 and parameters: {'n_estimators': 232, 'max_depth': 8, 'min_samples_split': 0.08974259565672116}. Best is trial 1 with value: 0.9428571428571428.\n",
      "[I 2025-10-17 01:52:32,912] Trial 8 finished with value: 0.9428571428571428 and parameters: {'n_estimators': 330, 'max_depth': 6, 'min_samples_split': 0.03953906745543636}. Best is trial 1 with value: 0.9428571428571428.\n",
      "[I 2025-10-17 01:52:35,063] Trial 9 finished with value: 0.9428571428571428 and parameters: {'n_estimators': 491, 'max_depth': 7, 'min_samples_split': 0.05188155329744472}. Best is trial 1 with value: 0.9428571428571428.\n",
      "[I 2025-10-17 01:52:36,026] Trial 10 finished with value: 0.9428571428571428 and parameters: {'n_estimators': 225, 'max_depth': 10, 'min_samples_split': 0.07379020256224206}. Best is trial 1 with value: 0.9428571428571428.\n",
      "[I 2025-10-17 01:52:36,603] Trial 11 finished with value: 0.9333333333333333 and parameters: {'n_estimators': 126, 'max_depth': 3, 'min_samples_split': 0.033078552288394195}. Best is trial 1 with value: 0.9428571428571428.\n",
      "[I 2025-10-17 01:52:37,445] Trial 12 finished with value: 0.9428571428571428 and parameters: {'n_estimators': 189, 'max_depth': 6, 'min_samples_split': 0.055833871658171025}. Best is trial 1 with value: 0.9428571428571428.\n",
      "[I 2025-10-17 01:52:38,210] Trial 13 finished with value: 0.9428571428571428 and parameters: {'n_estimators': 179, 'max_depth': 10, 'min_samples_split': 0.011837073063247903}. Best is trial 1 with value: 0.9428571428571428.\n",
      "[I 2025-10-17 01:52:39,432] Trial 14 finished with value: 0.9428571428571428 and parameters: {'n_estimators': 267, 'max_depth': 5, 'min_samples_split': 0.06766506856658067}. Best is trial 1 with value: 0.9428571428571428.\n",
      "[I 2025-10-17 01:52:40,117] Trial 15 finished with value: 0.9428571428571428 and parameters: {'n_estimators': 156, 'max_depth': 8, 'min_samples_split': 0.04647539368043878}. Best is trial 1 with value: 0.9428571428571428.\n",
      "[I 2025-10-17 01:52:41,158] Trial 16 finished with value: 0.9428571428571428 and parameters: {'n_estimators': 233, 'max_depth': 4, 'min_samples_split': 0.02674546751910484}. Best is trial 1 with value: 0.9428571428571428.\n",
      "[I 2025-10-17 01:52:42,825] Trial 17 finished with value: 0.9428571428571428 and parameters: {'n_estimators': 367, 'max_depth': 7, 'min_samples_split': 0.0869213473344071}. Best is trial 1 with value: 0.9428571428571428.\n",
      "[I 2025-10-17 01:52:43,320] Trial 18 finished with value: 0.9428571428571428 and parameters: {'n_estimators': 104, 'max_depth': 9, 'min_samples_split': 0.061547799907492165}. Best is trial 1 with value: 0.9428571428571428.\n",
      "[I 2025-10-17 01:52:45,359] Trial 19 finished with value: 0.9428571428571428 and parameters: {'n_estimators': 459, 'max_depth': 5, 'min_samples_split': 0.03308372759432245}. Best is trial 1 with value: 0.9428571428571428.\n",
      "[I 2025-10-17 01:52:46,548] Trial 20 finished with value: 0.9428571428571428 and parameters: {'n_estimators': 275, 'max_depth': 9, 'min_samples_split': 0.09892263351468547}. Best is trial 1 with value: 0.9428571428571428.\n",
      "[I 2025-10-17 01:52:48,367] Trial 21 finished with value: 0.9428571428571428 and parameters: {'n_estimators': 417, 'max_depth': 8, 'min_samples_split': 0.07364626556019506}. Best is trial 1 with value: 0.9428571428571428.\n",
      "[I 2025-10-17 01:52:49,807] Trial 22 finished with value: 0.9428571428571428 and parameters: {'n_estimators': 326, 'max_depth': 7, 'min_samples_split': 0.04857354182629293}. Best is trial 1 with value: 0.9428571428571428.\n",
      "[I 2025-10-17 01:52:51,827] Trial 23 finished with value: 0.9428571428571428 and parameters: {'n_estimators': 433, 'max_depth': 8, 'min_samples_split': 0.07800717064481806}. Best is trial 1 with value: 0.9428571428571428.\n",
      "[I 2025-10-17 01:52:53,444] Trial 24 finished with value: 0.9428571428571428 and parameters: {'n_estimators': 369, 'max_depth': 9, 'min_samples_split': 0.06464610871460683}. Best is trial 1 with value: 0.9428571428571428.\n",
      "[I 2025-10-17 01:52:54,347] Trial 25 finished with value: 0.9428571428571428 and parameters: {'n_estimators': 193, 'max_depth': 10, 'min_samples_split': 0.042234679868717}. Best is trial 1 with value: 0.9428571428571428.\n",
      "[I 2025-10-17 01:52:54,997] Trial 26 finished with value: 0.9428571428571428 and parameters: {'n_estimators': 146, 'max_depth': 6, 'min_samples_split': 0.08294065263676748}. Best is trial 1 with value: 0.9428571428571428.\n",
      "[I 2025-10-17 01:52:57,215] Trial 27 finished with value: 0.9428571428571428 and parameters: {'n_estimators': 499, 'max_depth': 8, 'min_samples_split': 0.06746191517877242}. Best is trial 1 with value: 0.9428571428571428.\n",
      "[I 2025-10-17 01:52:58,380] Trial 28 finished with value: 0.9428571428571428 and parameters: {'n_estimators': 259, 'max_depth': 4, 'min_samples_split': 0.05642564044927097}. Best is trial 1 with value: 0.9428571428571428.\n",
      "[I 2025-10-17 01:52:59,712] Trial 29 finished with value: 0.9428571428571428 and parameters: {'n_estimators': 316, 'max_depth': 3, 'min_samples_split': 0.0395802744279118}. Best is trial 1 with value: 0.9428571428571428.\n",
      "[I 2025-10-17 01:53:01,251] Trial 30 finished with value: 0.9428571428571428 and parameters: {'n_estimators': 358, 'max_depth': 7, 'min_samples_split': 0.021027676707487314}. Best is trial 1 with value: 0.9428571428571428.\n",
      "[I 2025-10-17 01:53:03,093] Trial 31 finished with value: 0.9428571428571428 and parameters: {'n_estimators': 412, 'max_depth': 9, 'min_samples_split': 0.01659019298629273}. Best is trial 1 with value: 0.9428571428571428.\n",
      "[I 2025-10-17 01:53:04,841] Trial 32 finished with value: 0.9428571428571428 and parameters: {'n_estimators': 398, 'max_depth': 9, 'min_samples_split': 0.033145849716957596}. Best is trial 1 with value: 0.9428571428571428.\n",
      "[I 2025-10-17 01:53:06,777] Trial 33 finished with value: 0.9428571428571428 and parameters: {'n_estimators': 454, 'max_depth': 10, 'min_samples_split': 0.01087600555007032}. Best is trial 1 with value: 0.9428571428571428.\n",
      "[I 2025-10-17 01:53:08,421] Trial 34 finished with value: 0.9428571428571428 and parameters: {'n_estimators': 393, 'max_depth': 9, 'min_samples_split': 0.02397790292978599}. Best is trial 1 with value: 0.9428571428571428.\n",
      "[I 2025-10-17 01:53:09,883] Trial 35 finished with value: 0.9428571428571428 and parameters: {'n_estimators': 347, 'max_depth': 8, 'min_samples_split': 0.047716472843940365}. Best is trial 1 with value: 0.9428571428571428.\n",
      "[I 2025-10-17 01:53:11,126] Trial 36 finished with value: 0.9428571428571428 and parameters: {'n_estimators': 296, 'max_depth': 9, 'min_samples_split': 0.054210691469372956}. Best is trial 1 with value: 0.9428571428571428.\n",
      "[I 2025-10-17 01:53:13,110] Trial 37 finished with value: 0.9428571428571428 and parameters: {'n_estimators': 461, 'max_depth': 8, 'min_samples_split': 0.060603769687826686}. Best is trial 1 with value: 0.9428571428571428.\n",
      "[I 2025-10-17 01:53:14,817] Trial 38 finished with value: 0.9428571428571428 and parameters: {'n_estimators': 386, 'max_depth': 10, 'min_samples_split': 0.0953162131327696}. Best is trial 1 with value: 0.9428571428571428.\n",
      "[I 2025-10-17 01:53:15,714] Trial 39 finished with value: 0.9428571428571428 and parameters: {'n_estimators': 213, 'max_depth': 7, 'min_samples_split': 0.02820133136462581}. Best is trial 1 with value: 0.9428571428571428.\n",
      "[I 2025-10-17 01:53:16,983] Trial 40 finished with value: 0.9428571428571428 and parameters: {'n_estimators': 306, 'max_depth': 3, 'min_samples_split': 0.04301832103069052}. Best is trial 1 with value: 0.9428571428571428.\n",
      "[I 2025-10-17 01:53:18,154] Trial 41 finished with value: 0.9428571428571428 and parameters: {'n_estimators': 283, 'max_depth': 4, 'min_samples_split': 0.07159652343283357}. Best is trial 1 with value: 0.9428571428571428.\n",
      "[I 2025-10-17 01:53:19,178] Trial 42 finished with value: 0.9428571428571428 and parameters: {'n_estimators': 243, 'max_depth': 4, 'min_samples_split': 0.05810420806331794}. Best is trial 1 with value: 0.9428571428571428.\n",
      "[I 2025-10-17 01:53:20,240] Trial 43 finished with value: 0.9428571428571428 and parameters: {'n_estimators': 250, 'max_depth': 4, 'min_samples_split': 0.05093405343435739}. Best is trial 1 with value: 0.9428571428571428.\n",
      "[I 2025-10-17 01:53:21,716] Trial 44 finished with value: 0.9428571428571428 and parameters: {'n_estimators': 340, 'max_depth': 5, 'min_samples_split': 0.07877210540030512}. Best is trial 1 with value: 0.9428571428571428.\n",
      "[I 2025-10-17 01:53:22,585] Trial 45 finished with value: 0.9428571428571428 and parameters: {'n_estimators': 207, 'max_depth': 6, 'min_samples_split': 0.03639785069875304}. Best is trial 1 with value: 0.9428571428571428.\n",
      "[I 2025-10-17 01:53:23,295] Trial 46 finished with value: 0.9428571428571428 and parameters: {'n_estimators': 169, 'max_depth': 5, 'min_samples_split': 0.0647021206813353}. Best is trial 1 with value: 0.9428571428571428.\n",
      "[I 2025-10-17 01:53:24,489] Trial 47 finished with value: 0.9428571428571428 and parameters: {'n_estimators': 288, 'max_depth': 3, 'min_samples_split': 0.05273888033890171}. Best is trial 1 with value: 0.9428571428571428.\n",
      "[I 2025-10-17 01:53:26,506] Trial 48 finished with value: 0.9428571428571428 and parameters: {'n_estimators': 474, 'max_depth': 6, 'min_samples_split': 0.017789461395153146}. Best is trial 1 with value: 0.9428571428571428.\n",
      "[I 2025-10-17 01:53:27,127] Trial 49 finished with value: 0.9428571428571428 and parameters: {'n_estimators': 136, 'max_depth': 10, 'min_samples_split': 0.07123338103913547}. Best is trial 1 with value: 0.9428571428571428.\n"
     ]
    }
   ],
   "source": [
    "# --------------------\n",
    "# 3단계: Optuna Study 실행 및 최적화\n",
    "# --------------------\n",
    "# direction=\"maximize\": 목적 함수의 반환값(정확도)을 최대화하도록 설정\n",
    "study = optuna.create_study(direction=\"maximize\") \n",
    "\n",
    "# optimize 실행: 목적 함수를 호출하여 50번의 반복(trial) 동안 최적의 조합을 탐색\n",
    "# n_trials=50: 총 50가지 조합만 시도 (Grid Search 대비 매우 효율적)\n",
    "study.optimize(objective, n_trials=50, show_progress_bar=True) "
   ]
  },
  {
   "cell_type": "code",
   "execution_count": 4,
   "id": "6c615cc6-7a94-443e-a64c-ecf43da856d9",
   "metadata": {},
   "outputs": [
    {
     "name": "stdout",
     "output_type": "stream",
     "text": [
      "\n",
      "--- 4단계: 최적화 결과 확인 ---\n",
      "Best Parameters: {'n_estimators': 272, 'max_depth': 9, 'min_samples_split': 0.04105586676010553}\n",
      "Best CV Score (Accuracy): 0.9429\n",
      "Final Test Score: 1.0000\n"
     ]
    }
   ],
   "source": [
    "# --------------------\n",
    "# 4단계: 결과 확인\n",
    "# --------------------\n",
    "print(\"\\n--- 4단계: 최적화 결과 확인 ---\")\n",
    "# 최적의 하이퍼파라미터 조합 (Best Parameters)\n",
    "print(\"Best Parameters:\", study.best_params)\n",
    "\n",
    "# 해당 조합으로 얻은 최고 점수 (Best Value)\n",
    "print(f\"Best CV Score (Accuracy): {study.best_value:.4f}\")\n",
    "\n",
    "# 최종 모델 학습 (최적 파라미터를 사용하여 최종 모델 재학습)\n",
    "best_params = study.best_params\n",
    "final_model = RandomForestClassifier(**best_params, random_state=42)\n",
    "final_model.fit(X_train, y_train)\n",
    "\n",
    "final_test_score = final_model.score(X_test, y_test)\n",
    "print(f\"Final Test Score: {final_test_score:.4f}\")"
   ]
  },
  {
   "cell_type": "code",
   "execution_count": null,
   "id": "cb5f9dee-ac24-48d6-ade1-aa792fccdacb",
   "metadata": {},
   "outputs": [],
   "source": []
  }
 ],
 "metadata": {
  "kernelspec": {
   "display_name": "Python 3 (ipykernel)",
   "language": "python",
   "name": "python3"
  },
  "language_info": {
   "codemirror_mode": {
    "name": "ipython",
    "version": 3
   },
   "file_extension": ".py",
   "mimetype": "text/x-python",
   "name": "python",
   "nbconvert_exporter": "python",
   "pygments_lexer": "ipython3",
   "version": "3.11.6"
  }
 },
 "nbformat": 4,
 "nbformat_minor": 5
}
