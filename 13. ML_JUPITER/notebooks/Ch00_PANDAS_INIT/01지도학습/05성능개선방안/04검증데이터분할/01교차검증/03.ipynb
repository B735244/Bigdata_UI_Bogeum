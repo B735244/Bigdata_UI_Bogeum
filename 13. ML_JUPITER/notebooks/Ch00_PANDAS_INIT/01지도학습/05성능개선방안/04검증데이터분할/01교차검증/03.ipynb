{
 "cells": [
  {
   "cell_type": "code",
   "execution_count": 7,
   "id": "1361348f-c97b-415b-aa9a-c43700d2ee23",
   "metadata": {},
   "outputs": [
    {
     "name": "stdout",
     "output_type": "stream",
     "text": [
      "Requirement already satisfied: scikit-learn in /opt/conda/lib/python3.11/site-packages (1.7.2)\n",
      "Requirement already satisfied: numpy>=1.22.0 in /opt/conda/lib/python3.11/site-packages (from scikit-learn) (1.24.4)\n",
      "Requirement already satisfied: scipy>=1.8.0 in /opt/conda/lib/python3.11/site-packages (from scikit-learn) (1.11.3)\n",
      "Requirement already satisfied: joblib>=1.2.0 in /opt/conda/lib/python3.11/site-packages (from scikit-learn) (1.3.2)\n",
      "Requirement already satisfied: threadpoolctl>=3.1.0 in /opt/conda/lib/python3.11/site-packages (from scikit-learn) (3.2.0)\n",
      "Note: you may need to restart the kernel to use updated packages.\n"
     ]
    }
   ],
   "source": [
    "pip install -U scikit-learn\n"
   ]
  },
  {
   "cell_type": "code",
   "execution_count": 8,
   "id": "e6e3c56f-9821-4fde-9ffd-c71e758d519f",
   "metadata": {},
   "outputs": [
    {
     "name": "stdout",
     "output_type": "stream",
     "text": [
      "1.3.1\n"
     ]
    }
   ],
   "source": [
    "import sklearn\n",
    "print(sklearn.__version__)"
   ]
  },
  {
   "cell_type": "code",
   "execution_count": 4,
   "id": "1da4d859-4079-4026-866f-1647cdfdfaf8",
   "metadata": {},
   "outputs": [
    {
     "name": "stdout",
     "output_type": "stream",
     "text": [
      "(6818, 11) (1705, 11)\n",
      "(6818, 10) (1705, 10)\n"
     ]
    },
    {
     "ename": "ImportError",
     "evalue": "cannot import name 'root_mean_squared_error' from 'sklearn.metrics' (/opt/conda/lib/python3.11/site-packages/sklearn/metrics/__init__.py)",
     "output_type": "error",
     "traceback": [
      "\u001b[0;31m---------------------------------------------------------------------------\u001b[0m",
      "\u001b[0;31mImportError\u001b[0m                               Traceback (most recent call last)",
      "Cell \u001b[0;32mIn[4], line 63\u001b[0m\n\u001b[1;32m     61\u001b[0m \u001b[38;5;28;01mfrom\u001b[39;00m \u001b[38;5;21;01msklearn\u001b[39;00m\u001b[38;5;21;01m.\u001b[39;00m\u001b[38;5;21;01mmetrics\u001b[39;00m \u001b[38;5;28;01mimport\u001b[39;00m mean_absolute_error\n\u001b[1;32m     62\u001b[0m \u001b[38;5;28;01mfrom\u001b[39;00m \u001b[38;5;21;01msklearn\u001b[39;00m\u001b[38;5;21;01m.\u001b[39;00m\u001b[38;5;21;01mmetrics\u001b[39;00m \u001b[38;5;28;01mimport\u001b[39;00m r2_score\n\u001b[0;32m---> 63\u001b[0m \u001b[38;5;28;01mfrom\u001b[39;00m \u001b[38;5;21;01msklearn\u001b[39;00m\u001b[38;5;21;01m.\u001b[39;00m\u001b[38;5;21;01mmetrics\u001b[39;00m \u001b[38;5;28;01mimport\u001b[39;00m root_mean_squared_error\n\u001b[1;32m     65\u001b[0m \u001b[38;5;66;03m# LightGBM\u001b[39;00m\n\u001b[1;32m     66\u001b[0m \u001b[38;5;28;01mimport\u001b[39;00m \u001b[38;5;21;01mlightgbm\u001b[39;00m \u001b[38;5;28;01mas\u001b[39;00m \u001b[38;5;21;01mlgb\u001b[39;00m\n",
      "\u001b[0;31mImportError\u001b[0m: cannot import name 'root_mean_squared_error' from 'sklearn.metrics' (/opt/conda/lib/python3.11/site-packages/sklearn/metrics/__init__.py)"
     ]
    }
   ],
   "source": [
    "# 라이브러리 및 데이터 불러오기\n",
    "import pandas as pd\n",
    "train = pd.read_csv(\"train.csv\")\n",
    "test = pd.read_csv(\"test.csv\")\n",
    "#--------------------------------------------\n",
    "# EDA\n",
    "#--------------------------------------------\n",
    "# train.shape, test.shape\n",
    "# train.head()\n",
    "# train.info()\n",
    "# train.describe()\n",
    "# import matplotlib.pyplot as plt\n",
    "# import seaborn as sns\n",
    "# sns.displot(train['Item_Outlet_Sales'])\n",
    "# plt.show()\n",
    "# train.isnull().sum()\n",
    "# test.isnull().sum()\n",
    "#--------------------------------------------\n",
    "# 데이터 전처리\n",
    "#--------------------------------------------\n",
    "cols = ['Item_Fat_Content', 'Item_Type', 'Outlet_Identifier', 'Outlet_Size', 'Outlet_Location_Type', 'Outlet_Type']\n",
    "target = train.pop('Item_Outlet_Sales')\n",
    "\n",
    "#\n",
    "df = pd.concat([train, test])\n",
    "# 레이블 인코딩\n",
    "from sklearn.preprocessing import LabelEncoder\n",
    "le = LabelEncoder()\n",
    "for col in cols:\n",
    "    df[col] = le.fit_transform(df[col])\n",
    "    \n",
    "train = df.iloc[:len(train)].copy()\n",
    "test = df.iloc[len(train):].copy()\n",
    "train.shape, test.shape\n",
    "\n",
    "train['Item_Weight'] = train['Item_Weight'].fillna(train['Item_Weight'].min())\n",
    "train['Outlet_Size'] = train['Outlet_Size'].fillna(train['Outlet_Size'].mode()[0])\n",
    "\n",
    "test['Item_Weight'] = test['Item_Weight'].fillna(train['Item_Weight'].min())\n",
    "test['Outlet_Size'] = test['Outlet_Size'].fillna(train['Outlet_Size'].mode()[0])\n",
    "\n",
    "print(train.shape, test.shape)\n",
    "train.drop('Item_Identifier', axis=1, inplace=True)\n",
    "test.drop('Item_Identifier', axis=1, inplace=True)\n",
    "print(train.shape, test.shape)\n",
    "#--------------------------------------------\n",
    "# 검증 데이터 나누기\n",
    "#--------------------------------------------\n",
    "from sklearn.model_selection import train_test_split\n",
    "X_train, X_val, y_train, y_val = train_test_split(\n",
    "    train,\n",
    "    target,\n",
    "    test_size=0.2,\n",
    "    random_state=0)\n",
    "X_train.shape, X_val.shape, y_train.shape, y_val.shape\n",
    "\n",
    "#--------------------------------------------\n",
    "# 머신러닝 학습 및 평가\n",
    "#--------------------------------------------\n",
    "from sklearn.metrics import mean_squared_error\n",
    "from sklearn.metrics import mean_absolute_error\n",
    "from sklearn.metrics import r2_score\n",
    "from sklearn.metrics import root_mean_squared_error\n",
    "\n",
    "# LightGBM\n",
    "import lightgbm as lgb\n",
    "model = lgb.LGBMRegressor(random_state=0, verbose=-1)\n",
    "model.fit(X_train, y_train)\n",
    "y_pred = model.predict(X_val)\n",
    "\n",
    "result = mean_squared_error(y_val, y_pred)\n",
    "print('MSE:', result)\n",
    "\n",
    "result = mean_absolute_error(y_val, y_pred)\n",
    "print('MAE:', result)\n",
    "\n",
    "result = r2_score(y_val, y_pred)\n",
    "print('R2:', result)\n",
    "\n",
    "result = root_mean_squared_error(y_val, y_pred)\n",
    "print('RMSE:', result)\n"
   ]
  },
  {
   "cell_type": "code",
   "execution_count": 5,
   "id": "c486bde8-c78a-4e27-a2fb-0de597c1b6dc",
   "metadata": {},
   "outputs": [
    {
     "name": "stdout",
     "output_type": "stream",
     "text": [
      "(6818, 11) (1705, 11)\n",
      "(6818, 10) (1705, 10)\n"
     ]
    },
    {
     "ename": "ImportError",
     "evalue": "cannot import name 'root_mean_squared_error' from 'sklearn.metrics' (/opt/conda/lib/python3.11/site-packages/sklearn/metrics/__init__.py)",
     "output_type": "error",
     "traceback": [
      "\u001b[0;31m---------------------------------------------------------------------------\u001b[0m",
      "\u001b[0;31mImportError\u001b[0m                               Traceback (most recent call last)",
      "Cell \u001b[0;32mIn[5], line 63\u001b[0m\n\u001b[1;32m     61\u001b[0m \u001b[38;5;28;01mfrom\u001b[39;00m \u001b[38;5;21;01msklearn\u001b[39;00m\u001b[38;5;21;01m.\u001b[39;00m\u001b[38;5;21;01mmetrics\u001b[39;00m \u001b[38;5;28;01mimport\u001b[39;00m mean_absolute_error\n\u001b[1;32m     62\u001b[0m \u001b[38;5;28;01mfrom\u001b[39;00m \u001b[38;5;21;01msklearn\u001b[39;00m\u001b[38;5;21;01m.\u001b[39;00m\u001b[38;5;21;01mmetrics\u001b[39;00m \u001b[38;5;28;01mimport\u001b[39;00m r2_score\n\u001b[0;32m---> 63\u001b[0m \u001b[38;5;28;01mfrom\u001b[39;00m \u001b[38;5;21;01msklearn\u001b[39;00m\u001b[38;5;21;01m.\u001b[39;00m\u001b[38;5;21;01mmetrics\u001b[39;00m \u001b[38;5;28;01mimport\u001b[39;00m root_mean_squared_error\n\u001b[1;32m     65\u001b[0m \u001b[38;5;66;03m# LightGBM\u001b[39;00m\n\u001b[1;32m     66\u001b[0m \u001b[38;5;28;01mimport\u001b[39;00m \u001b[38;5;21;01mlightgbm\u001b[39;00m \u001b[38;5;28;01mas\u001b[39;00m \u001b[38;5;21;01mlgb\u001b[39;00m\n",
      "\u001b[0;31mImportError\u001b[0m: cannot import name 'root_mean_squared_error' from 'sklearn.metrics' (/opt/conda/lib/python3.11/site-packages/sklearn/metrics/__init__.py)"
     ]
    }
   ],
   "source": []
  },
  {
   "cell_type": "code",
   "execution_count": null,
   "id": "ba1a8f5c-663b-4e8f-8cb6-a37081ef4136",
   "metadata": {},
   "outputs": [],
   "source": [
    "#--------------------------------------------\n",
    "# 머신러닝 학습 및 평가 (cross_val_score를 사용한 K-Fold 교차 검증 - NumPy 대신 statistics 사용)\n",
    "#--------------------------------------------\n",
    "from sklearn.model_selection import KFold, cross_val_score\n",
    "from sklearn.metrics import mean_squared_error, mean_absolute_error, r2_score, root_mean_squared_error, make_scorer\n",
    "# import numpy as np  # NumPy를 사용하지 않음\n",
    "import statistics # 표준 라이브러리 statistics 모듈 사용\n",
    "import lightgbm as lgb\n",
    "import warnings\n",
    "\n",
    "# LightGBM에서 verbose=-1 설정 시 경고가 발생할 수 있어 무시합니다.\n",
    "warnings.filterwarnings('ignore', category=UserWarning)\n",
    "\n",
    "\n",
    "# K-Fold 설정 (예: 5-Fold)\n",
    "n_splits = 5\n",
    "kf = KFold(n_splits=n_splits, shuffle=True, random_state=42)\n",
    "\n",
    "# LightGBM 모델 생성\n",
    "model = lgb.LGBMRegressor(random_state=0, verbose=-1)\n",
    "\n",
    "# cross_val_score를 사용하여 각 지표의 평균 점수를 계산합니다.\n",
    "# scikit-learn은 점수를 최대화하는 방식으로 동작하므로, \n",
    "# MSE와 MAE에는 'neg_' 접두사를 붙여 음수로 변환한 후, 결과를 다시 양수로 바꿉니다.\n",
    "\n",
    "# 1. MSE (Negated Mean Squared Error)\n",
    "# cross_val_score는 결과를 numpy 배열로 반환하지만, 이후에 리스트로 변환하여 처리합니다.\n",
    "mse_scores_neg = cross_val_score(\n",
    "    model, \n",
    "    train, \n",
    "    target, \n",
    "    cv=kf, \n",
    "    scoring='neg_mean_squared_error', \n",
    "    n_jobs=-1\n",
    ").tolist() # NumPy 배열을 Python 리스트로 변환\n",
    "\n",
    "# 2. RMSE (MSE를 루트 씌움)\n",
    "# 각 MSE 점수에 대해 루트를 씌우고, 결과를 리스트로 저장합니다.\n",
    "rmse_scores = [val**0.5 for val in [-score for score in mse_scores_neg]]\n",
    "\n",
    "# 3. MAE (Negated Mean Absolute Error)\n",
    "mae_scores_neg = cross_val_score(\n",
    "    model, \n",
    "    train, \n",
    "    target, \n",
    "    cv=kf, \n",
    "    scoring='neg_mean_absolute_error', \n",
    "    n_jobs=-1\n",
    ").tolist() # NumPy 배열을 Python 리스트로 변환\n",
    "\n",
    "# 4. R2 (R-squared)\n",
    "r2_scores = cross_val_score(\n",
    "    model, \n",
    "    train, \n",
    "    target, \n",
    "    cv=kf, \n",
    "    scoring='r2', \n",
    "    n_jobs=-1\n",
    ").tolist() # NumPy 배열을 Python 리스트로 변환\n",
    "\n",
    "# 최종 평균 성능 지표 출력\n",
    "print(\"=\"*50)\n",
    "print(f\"Final Average Cross-Validation Results ({n_splits} Folds) using cross_val_score:\")\n",
    "print(\"=\"*50)\n",
    "\n",
    "# MSE (음수 결과를 다시 양수로 변환하고 statistics 사용)\n",
    "mse_scores = [-score for score in mse_scores_neg]\n",
    "avg_mse = statistics.mean(mse_scores)\n",
    "std_mse = statistics.stdev(mse_scores)\n",
    "print(f'Average MSE: {avg_mse:.4f} (Std: {std_mse:.4f})')\n",
    "\n",
    "# RMSE\n",
    "avg_rmse = statistics.mean(rmse_scores)\n",
    "std_rmse = statistics.stdev(rmse_scores)\n",
    "print(f'Average RMSE: {avg_rmse:.4f} (Std: {std_rmse:.4f})')\n",
    "\n",
    "# MAE (음수 결과를 다시 양수로 변환하고 statistics 사용)\n",
    "mae_scores = [-score for score in mae_scores_neg]\n",
    "avg_mae = statistics.mean(mae_scores)\n",
    "std_mae = statistics.stdev(mae_scores)\n",
    "print(f'Average MAE: {avg_mae:.4f} (Std: {std_mae:.4f})')\n",
    "\n",
    "# R2\n",
    "avg_r2 = statistics.mean(r2_scores)\n",
    "std_r2 = statistics.stdev(r2_scores)\n",
    "print(f'Average R2: {avg_r2:.4f} (Std: {std_r2:.4f})')\n",
    "print(\"=\"*50)"
   ]
  }
 ],
 "metadata": {
  "kernelspec": {
   "display_name": "Python 3 (ipykernel)",
   "language": "python",
   "name": "python3"
  },
  "language_info": {
   "codemirror_mode": {
    "name": "ipython",
    "version": 3
   },
   "file_extension": ".py",
   "mimetype": "text/x-python",
   "name": "python",
   "nbconvert_exporter": "python",
   "pygments_lexer": "ipython3",
   "version": "3.11.6"
  }
 },
 "nbformat": 4,
 "nbformat_minor": 5
}
