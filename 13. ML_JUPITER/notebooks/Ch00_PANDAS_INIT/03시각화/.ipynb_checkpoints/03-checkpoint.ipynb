{
 "cells": [
  {
   "cell_type": "code",
   "execution_count": 4,
   "id": "81cac8d3-7c56-45d0-98d6-32d74ac316f1",
   "metadata": {},
   "outputs": [
    {
     "data": {
      "application/vnd.plotly.v1+json": {
       "config": {
        "plotlyServerURL": "https://plot.ly"
       },
       "data": [
        {
         "hovertemplate": "Region=South<br>Ad_Spend=%{x}<br>Sales=%{y}<extra></extra>",
         "legendgroup": "South",
         "marker": {
          "color": "#636efa",
          "symbol": "circle"
         },
         "mode": "markers",
         "name": "South",
         "orientation": "v",
         "showlegend": true,
         "type": "scatter",
         "x": {
          "_inputArray": {
           "0": 437.0861069626262,
           "1": 240.41677639819287,
           "10": 715.8097238609412,
           "11": 496.13724436564115,
           "12": 332.9019834400152,
           "13": 592.0392514089517,
           "14": 266.36900997297437,
           "15": 276.38457617723066,
           "16": 352.84105871864267,
           "17": 588.4264748424237,
           "18": 821.9772826786357,
           "19": 795.0202923669917,
           "2": 879.5585311974417,
           "20": 104.96990541124217,
           "21": 794.1433120173511,
           "22": 204.28215357261675,
           "23": 397.80822236738425,
           "24": 379.88408954409596,
           "25": 756.6455605042577,
           "26": 673.8017242196918,
           "27": 793.8704619591049,
           "28": 570.4595464437946,
           "29": 197.102284293974,
           "3": 265.06405886809046,
           "4": 362.93018368169635,
           "5": 429.7256589643225,
           "6": 279.70640394252376,
           "7": 562.8109945722504,
           "8": 141.80537144799794,
           "9": 374.15239225603364,
           "bdata": "AMexsWBRe0B1/3Q7Vg1uQHZWNN93fItAeneXYgaRcECKwkgI4q52QAj9kkyc23pAe244bk17cUBk6LjqfJaBQBHJV5rFuWFAQL3cMnBid0BE7IBQel6GQNPfJScyAn9AYgYwhm7OdEAo7gpjUICCQCpdAHfnpXBAbIBZOSdGcUBgqfz5dA12QDZmpGtpY4JAgL2UedGviUC0ZAuPKdiIQOhfJe4SPlpALV3FgCXRiEDV2u1mB4lpQPq8k3ru3HhAC+oTOyW+d0ACK6AbKqWHQOY/Y+5pDoVAJHbCtPbOiEC6mK8mrdOBQGkwtulFo2hA",
           "dtype": "f8",
           "shape": "30"
          },
          "bdata": "AMexsWBRe0B1/3Q7Vg1uQHZWNN93fItAeneXYgaRcECKwkgI4q52QAj9kkyc23pAe244bk17cUBk6LjqfJaBQBHJV5rFuWFAQL3cMnBid0BE7IBQel6GQNPfJScyAn9AYgYwhm7OdEAo7gpjUICCQCpdAHfnpXBAbIBZOSdGcUBgqfz5dA12QDZmpGtpY4JAgL2UedGviUC0ZAuPKdiIQOhfJe4SPlpALV3FgCXRiEDV2u1mB4lpQPq8k3ru3HhAC+oTOyW+d0ACK6AbKqWHQOY/Y+5pDoVAJHbCtPbOiEC6mK8mrdOBQGkwtulFo2hA",
          "dtype": "f8"
         },
         "xaxis": "x",
         "y": {
          "_inputArray": {
           "0": 641.4313355903041,
           "1": 4584.049132667418,
           "10": 2136.3332107068227,
           "11": 4873.019372244323,
           "12": 1781.7822246986043,
           "13": 731.6543806249521,
           "14": 1753.9090890647515,
           "15": 3927.288268979229,
           "16": 906.3039652448374,
           "17": 4258.861230151571,
           "18": 1339.333296799344,
           "19": 3549.0396282902707,
           "2": 3899.980123443719,
           "20": 2804.418762346764,
           "21": 3609.2198214610967,
           "22": 1118.8442486569697,
           "23": 4661.121282253533,
           "24": 1660.7373247182002,
           "25": 4177.499900905472,
           "26": 2998.4036521975804,
           "27": 2025.6340597191531,
           "28": 3766.800554916077,
           "29": 4009.4399563593074,
           "3": 4421.5726558447295,
           "4": 1931.0156373733873,
           "5": 995.2336603745455,
           "6": 4181.066446651219,
           "7": 4373.287624653545,
           "8": 2798.3628615990456,
           "9": 2834.5577978451474,
           "bdata": "qO8SYHMLhEC6X/WTDOixQKJxvdL1d65A+sySmZJFsUAtXT4DECyeQFqYVIneGY9A6tGlAhFVsECA8MShSRWxQMDZ/si53KVAYN2tlx0lpkD2AJiaqrCgQNFTlPUECbNAhOqC/yDXm0BxuugrPN2GQAlpPuiiZ5tAe9z9l5OurkCUjVSFblKMQFRHlHncorBALZTBS1XtlEBrxShKFLqrQEywBGjW6KVAvURwjHAyrECCTbiCYHuRQIKQWgwfNbJAzzxABfPymUA+eIH5f1GwQCI3gKvObKdA5XXzRommn0BoflXimW2tQMm99UHhUq9A",
           "dtype": "f8",
           "shape": "30"
          },
          "bdata": "qO8SYHMLhEC6X/WTDOixQKJxvdL1d65A+sySmZJFsUAtXT4DECyeQFqYVIneGY9A6tGlAhFVsECA8MShSRWxQMDZ/si53KVAYN2tlx0lpkD2AJiaqrCgQNFTlPUECbNAhOqC/yDXm0BxuugrPN2GQAlpPuiiZ5tAe9z9l5OurkCUjVSFblKMQFRHlHncorBALZTBS1XtlEBrxShKFLqrQEywBGjW6KVAvURwjHAyrECCTbiCYHuRQIKQWgwfNbJAzzxABfPymUA+eIH5f1GwQCI3gKvObKdA5XXzRommn0BoflXimW2tQMm99UHhUq9A",
          "dtype": "f8"
         },
         "yaxis": "y"
        },
        {
         "hovertemplate": "Region=East<br>Ad_Spend=%{x}<br>Sales=%{y}<extra></extra>",
         "legendgroup": "East",
         "marker": {
          "color": "#EF553B",
          "symbol": "circle"
         },
         "mode": "markers",
         "name": "East",
         "orientation": "v",
         "showlegend": true,
         "type": "scatter",
         "x": {
          "_inputArray": {
           "0": 955.6428757689246,
           "1": 152.27525095137952,
           "10": 806.6583652537122,
           "11": 827.557613304815,
           "12": 545.6592191001432,
           "13": 918.3883618709039,
           "14": 696.2700559185838,
           "15": 380.53996848046984,
           "16": 568.0612190600298,
           "17": 972.6261649881027,
           "18": 797.6195410250031,
           "19": 905.3446153848839,
           "2": 641.0035105688879,
           "20": 929.6868115208051,
           "21": 140.70456001948426,
           "22": 392.7972976869379,
           "23": 449.8095607205338,
           "24": 344.2141285965063,
           "25": 421.07799402423035,
           "26": 226.83180247728637,
           "27": 167.09557931179376,
           "28": 988.1982429404655,
           "29": 278.8441133807552,
           "3": 737.2653200164409,
           "30": 736.1716094628554,
           "31": 741.9203085006955,
           "32": 784.7065437552077,
           "33": 605.1494778125466,
           "34": 484.78691652269464,
           "4": 373.8180186635839,
           "5": 572.280788469014,
           "6": 488.7505167779042,
           "7": 362.1062261782377,
           "8": 225.54447458683765,
           "9": 510.4629857953323,
           "bdata": "YBcNnCTdjUDGSxXbzghjQIOUjDAHCIRAtMwZYB8Kh0DF+byaFl13QBNcBg4/4oFAKoPhHQKMfkApmDgas6F2QBH/91VsMWxAcBfLY2jnf0AijABVRDWJQPbf9v113IlAHOCpFEYNgUBd9HddG7OMQEXTExMpwoVA0kf9taPId0DCJWtgfcCBQGkOymICZY5AWcfs0fTsiEAz/rXFwUqMQP7iCZd+DY1AITh0wYuWYUAyKTi7wYx4QBot8fXzHHxAIXIbEm2DdUCldal2P1F6QKiVOiCeWmxAgkpY/A7jZECzD2UAluGOQFpHCH2BbXFALzXIdF8Bh0C+BbTKXC+HQHuOaQCnhYhA7GJsITLpgkB9msc1l0x+QA==",
           "dtype": "f8",
           "shape": "35"
          },
          "bdata": "YBcNnCTdjUDGSxXbzghjQIOUjDAHCIRAtMwZYB8Kh0DF+byaFl13QBNcBg4/4oFAKoPhHQKMfkApmDgas6F2QBH/91VsMWxAcBfLY2jnf0AijABVRDWJQPbf9v113IlAHOCpFEYNgUBd9HddG7OMQEXTExMpwoVA0kf9taPId0DCJWtgfcCBQGkOymICZY5AWcfs0fTsiEAz/rXFwUqMQP7iCZd+DY1AITh0wYuWYUAyKTi7wYx4QBot8fXzHHxAIXIbEm2DdUCldal2P1F6QKiVOiCeWmxAgkpY/A7jZECzD2UAluGOQFpHCH2BbXFALzXIdF8Bh0C+BbTKXC+HQHuOaQCnhYhA7GJsITLpgkB9msc1l0x+QA==",
          "dtype": "f8"
         },
         "xaxis": "x",
         "y": {
          "_inputArray": {
           "0": 3363.8468506870117,
           "1": 2346.723153660334,
           "10": 2421.9850488181537,
           "11": 1954.4131940933985,
           "12": 1633.0203312141387,
           "13": 1853.9523941754635,
           "14": 665.9912630953976,
           "15": 3243.0395029095357,
           "16": 2762.0556045298767,
           "17": 4587.196486849942,
           "18": 1578.028508001376,
           "19": 2702.5374212490337,
           "2": 1529.591744712301,
           "20": 1589.2487218017518,
           "21": 1569.3689479657985,
           "22": 3776.973568753368,
           "23": 2155.0240972366396,
           "24": 3345.3762376711074,
           "25": 2910.9860783364134,
           "26": 1943.5102923728114,
           "27": 683.4881369964376,
           "28": 3159.018244347088,
           "29": 574.6452301753527,
           "3": 846.4095942295685,
           "30": 3403.2775568425245,
           "31": 4537.470910789971,
           "32": 4551.881257234987,
           "33": 3348.9565577297058,
           "34": 4536.9961697865965,
           "4": 4116.524346046015,
           "5": 1339.5652649871613,
           "6": 4516.5154932049,
           "7": 2927.0400886204284,
           "8": 4532.41084965572,
           "9": 1525.7082314387376,
           "bdata": "n8pplrFHqkA8UjJBclWiQKhrU/Jd5pdABOVW2UZzikBs34o7hhSwQLol09RC7pRAW9hc94OksUBd436GFN6mQORqcS1ptLFAgk2fOtXWl0DelVFY+OuiQDA4WhyniZ5AQa+00RSEmUARMmtAz/ecQLeDWBvuz4RAG7G5ORRWqUCpajJ4HJSlQJhS9kwy67FAVpYzMR2omECNweAoEx2lQE6R7bD+1JhAH9x+zXmFmEA/iJp38oGtQJUWeVYM1qBA3Fk5osAiqkBhfELf+L2mQH5yFYoKXp5AVp1etOdbhUAptFJXCa6oQEIscG4p9YFA2TLuG46WqkBCCpyNeLmxQKL7Eprhx7FApUvvwekpqkCyrvsE/7ixQA==",
           "dtype": "f8",
           "shape": "35"
          },
          "bdata": "n8pplrFHqkA8UjJBclWiQKhrU/Jd5pdABOVW2UZzikBs34o7hhSwQLol09RC7pRAW9hc94OksUBd436GFN6mQORqcS1ptLFAgk2fOtXWl0DelVFY+OuiQDA4WhyniZ5AQa+00RSEmUARMmtAz/ecQLeDWBvuz4RAG7G5ORRWqUCpajJ4HJSlQJhS9kwy67FAVpYzMR2omECNweAoEx2lQE6R7bD+1JhAH9x+zXmFmEA/iJp38oGtQJUWeVYM1qBA3Fk5osAiqkBhfELf+L2mQH5yFYoKXp5AVp1etOdbhUAptFJXCa6oQEIscG4p9YFA2TLuG46WqkBCCpyNeLmxQKL7Eprhx7FApUvvwekpqkCyrvsE/7ixQA==",
          "dtype": "f8"
         },
         "yaxis": "y"
        },
        {
         "hovertemplate": "Region=West<br>Ad_Spend=%{x}<br>Sales=%{y}<extra></extra>",
         "legendgroup": "West",
         "marker": {
          "color": "#00cc96",
          "symbol": "circle"
         },
         "mode": "markers",
         "name": "West",
         "orientation": "v",
         "showlegend": true,
         "type": "scatter",
         "x": {
          "_inputArray": {
           "0": 758.7945476302646,
           "1": 638.792635777333,
           "10": 646.7903667112945,
           "11": 253.47171131856237,
           "12": 158.54643368675156,
           "13": 953.9969835279999,
           "14": 969.0688297671035,
           "15": 187.90490260574546,
           "16": 209.83441136030095,
           "17": 130.94966900369656,
           "18": 945.5490474077702,
           "19": 638.1099809299766,
           "2": 240.3950683025824,
           "20": 179.64325184672754,
           "21": 845.8637582367364,
           "22": 833.9152856093507,
           "23": 756.1064512368886,
           "24": 166.64018656068134,
           "25": 422.61915568984534,
           "26": 876.7930832880342,
           "27": 660.9683141448021,
           "28": 157.20251525742128,
           "29": 392.66498982407234,
           "3": 118.52604486622221,
           "30": 898.4914683186939,
           "31": 524.9934326457544,
           "32": 207.63482134447153,
           "33": 544.4160367279517,
           "34": 122.87721406968566,
           "4": 972.9188669457949,
           "5": 849.1983767203795,
           "6": 291.10519961044855,
           "7": 263.64247048639055,
           "8": 650.6676052501415,
           "9": 633.1731119758382,
           "bdata": "zrjJO1u2h0BHKm1RV/aDQOLoR2akDG5AzCkWuKqhXUCEzOnWWWeOQIuyiEaWiYpA22bJ5a4xckAV+yGPR3pwQPffa0FXVYRAKxaIiGLJg0DbRsirUjaEQBzMVUIYr29A+8B/YnzRY0BI+3/S+c+NQJv1nvaMSI5AvjdP9vR8Z0Dp/HN/szpqQNocQLBjXmBAnaL3cmSMjUB3i6494fCDQCqZ5YSVdGZAeBMU+uhuikBJ9UKBUg+KQHEoGwPaoIdA4q6GaHzUZEBK8MsP6Gl6QOMIDTxYZotAb4F8G7+nhEAY8kYBe6ZjQASpXsyjinhAfB7xhu4TjEBaotCM8meAQNsp2nRQ9GlA5mMQC1QDgUAGOXtGJLheQA==",
           "dtype": "f8",
           "shape": "35"
          },
          "bdata": "zrjJO1u2h0BHKm1RV/aDQOLoR2akDG5AzCkWuKqhXUCEzOnWWWeOQIuyiEaWiYpA22bJ5a4xckAV+yGPR3pwQPffa0FXVYRAKxaIiGLJg0DbRsirUjaEQBzMVUIYr29A+8B/YnzRY0BI+3/S+c+NQJv1nvaMSI5AvjdP9vR8Z0Dp/HN/szpqQNocQLBjXmBAnaL3cmSMjUB3i6494fCDQCqZ5YSVdGZAeBMU+uhuikBJ9UKBUg+KQHEoGwPaoIdA4q6GaHzUZEBK8MsP6Gl6QOMIDTxYZotAb4F8G7+nhEAY8kYBe6ZjQASpXsyjinhAfB7xhu4TjEBaotCM8meAQNsp2nRQ9GlA5mMQC1QDgUAGOXtGJLheQA==",
          "dtype": "f8"
         },
         "xaxis": "x",
         "y": {
          "_inputArray": {
           "0": 1914.60191484347,
           "1": 2788.5681102411627,
           "10": 2378.3495141695057,
           "11": 1499.485147118286,
           "12": 1039.3941530015727,
           "13": 2019.2682713163258,
           "14": 4743.093667606337,
           "15": 3663.5853150283,
           "16": 4831.0128272395,
           "17": 2737.6182765157346,
           "18": 1152.0269244105039,
           "19": 4935.427043497703,
           "2": 1621.8150311699374,
           "20": 3524.6099633264535,
           "21": 3350.883698424026,
           "22": 1519.2309883907208,
           "23": 1284.6489305224613,
           "24": 2240.309058352418,
           "25": 4715.284949315305,
           "26": 2034.7985797261633,
           "27": 1010.6308455826509,
           "28": 4448.027090214415,
           "29": 3469.9282071538055,
           "3": 1803.8815381119562,
           "30": 2883.4276026020293,
           "31": 1588.3353090520325,
           "32": 918.9624551265465,
           "33": 2071.443085756974,
           "34": 4491.888909193028,
           "4": 1225.4957926430197,
           "5": 4683.639435541579,
           "6": 4136.5417080398765,
           "7": 3350.3169042969057,
           "8": 4133.480698238282,
           "9": 531.2845873903582,
           "bdata": "uV5dXGjqnUCidFjfIsmlQGjwh5dCV5lAHkTtsYYvnEB4DRGx+yWTQPsyDLKjS7JAQMtgrYoosEBYrkdBoiyqQKosCg97JbBAivPA1UaagEAIb4XzspSiQCb7Z8rwbZdAgC3YnJM9kEBMSLe1Eo2fQOmpmfoXh7JA0FBpriufrEAnXqVIA9+yQO5NvY48Y6VAUJoSkhsAkkCbALlSbUezQMH1HE04iatAcK0edMQtqkCbfziI7LyXQGQtPoGYEpRAYnjlPJ6AoUBBNnDySGuyQHs84r4xy59AftLE+AuVj0D0YGLvBmCxQATT9z3bG6tAzW667tqGpkAhkkFbV9GYQBRjrBuzt4xADuci3OIuoEAriY2P44uxQA==",
           "dtype": "f8",
           "shape": "35"
          },
          "bdata": "uV5dXGjqnUCidFjfIsmlQGjwh5dCV5lAHkTtsYYvnEB4DRGx+yWTQPsyDLKjS7JAQMtgrYoosEBYrkdBoiyqQKosCg97JbBAivPA1UaagEAIb4XzspSiQCb7Z8rwbZdAgC3YnJM9kEBMSLe1Eo2fQOmpmfoXh7JA0FBpriufrEAnXqVIA9+yQO5NvY48Y6VAUJoSkhsAkkCbALlSbUezQMH1HE04iatAcK0edMQtqkCbfziI7LyXQGQtPoGYEpRAYnjlPJ6AoUBBNnDySGuyQHs84r4xy59AftLE+AuVj0D0YGLvBmCxQATT9z3bG6tAzW667tqGpkAhkkFbV9GYQBRjrBuzt4xADuci3OIuoEAriY2P44uxQA==",
          "dtype": "f8"
         },
         "yaxis": "y"
        }
       ],
       "layout": {
        "autosize": true,
        "legend": {
         "title": {
          "text": "Region"
         },
         "tracegroupgap": 0
        },
        "template": {
         "data": {
          "bar": [
           {
            "error_x": {
             "color": "#2a3f5f"
            },
            "error_y": {
             "color": "#2a3f5f"
            },
            "marker": {
             "line": {
              "color": "#E5ECF6",
              "width": 0.5
             },
             "pattern": {
              "fillmode": "overlay",
              "size": 10,
              "solidity": 0.2
             }
            },
            "type": "bar"
           }
          ],
          "barpolar": [
           {
            "marker": {
             "line": {
              "color": "#E5ECF6",
              "width": 0.5
             },
             "pattern": {
              "fillmode": "overlay",
              "size": 10,
              "solidity": 0.2
             }
            },
            "type": "barpolar"
           }
          ],
          "carpet": [
           {
            "aaxis": {
             "endlinecolor": "#2a3f5f",
             "gridcolor": "white",
             "linecolor": "white",
             "minorgridcolor": "white",
             "startlinecolor": "#2a3f5f"
            },
            "baxis": {
             "endlinecolor": "#2a3f5f",
             "gridcolor": "white",
             "linecolor": "white",
             "minorgridcolor": "white",
             "startlinecolor": "#2a3f5f"
            },
            "type": "carpet"
           }
          ],
          "choropleth": [
           {
            "colorbar": {
             "outlinewidth": 0,
             "ticks": ""
            },
            "type": "choropleth"
           }
          ],
          "contour": [
           {
            "colorbar": {
             "outlinewidth": 0,
             "ticks": ""
            },
            "colorscale": [
             [
              0,
              "#0d0887"
             ],
             [
              0.1111111111111111,
              "#46039f"
             ],
             [
              0.2222222222222222,
              "#7201a8"
             ],
             [
              0.3333333333333333,
              "#9c179e"
             ],
             [
              0.4444444444444444,
              "#bd3786"
             ],
             [
              0.5555555555555556,
              "#d8576b"
             ],
             [
              0.6666666666666666,
              "#ed7953"
             ],
             [
              0.7777777777777778,
              "#fb9f3a"
             ],
             [
              0.8888888888888888,
              "#fdca26"
             ],
             [
              1,
              "#f0f921"
             ]
            ],
            "type": "contour"
           }
          ],
          "contourcarpet": [
           {
            "colorbar": {
             "outlinewidth": 0,
             "ticks": ""
            },
            "type": "contourcarpet"
           }
          ],
          "heatmap": [
           {
            "colorbar": {
             "outlinewidth": 0,
             "ticks": ""
            },
            "colorscale": [
             [
              0,
              "#0d0887"
             ],
             [
              0.1111111111111111,
              "#46039f"
             ],
             [
              0.2222222222222222,
              "#7201a8"
             ],
             [
              0.3333333333333333,
              "#9c179e"
             ],
             [
              0.4444444444444444,
              "#bd3786"
             ],
             [
              0.5555555555555556,
              "#d8576b"
             ],
             [
              0.6666666666666666,
              "#ed7953"
             ],
             [
              0.7777777777777778,
              "#fb9f3a"
             ],
             [
              0.8888888888888888,
              "#fdca26"
             ],
             [
              1,
              "#f0f921"
             ]
            ],
            "type": "heatmap"
           }
          ],
          "histogram": [
           {
            "marker": {
             "pattern": {
              "fillmode": "overlay",
              "size": 10,
              "solidity": 0.2
             }
            },
            "type": "histogram"
           }
          ],
          "histogram2d": [
           {
            "colorbar": {
             "outlinewidth": 0,
             "ticks": ""
            },
            "colorscale": [
             [
              0,
              "#0d0887"
             ],
             [
              0.1111111111111111,
              "#46039f"
             ],
             [
              0.2222222222222222,
              "#7201a8"
             ],
             [
              0.3333333333333333,
              "#9c179e"
             ],
             [
              0.4444444444444444,
              "#bd3786"
             ],
             [
              0.5555555555555556,
              "#d8576b"
             ],
             [
              0.6666666666666666,
              "#ed7953"
             ],
             [
              0.7777777777777778,
              "#fb9f3a"
             ],
             [
              0.8888888888888888,
              "#fdca26"
             ],
             [
              1,
              "#f0f921"
             ]
            ],
            "type": "histogram2d"
           }
          ],
          "histogram2dcontour": [
           {
            "colorbar": {
             "outlinewidth": 0,
             "ticks": ""
            },
            "colorscale": [
             [
              0,
              "#0d0887"
             ],
             [
              0.1111111111111111,
              "#46039f"
             ],
             [
              0.2222222222222222,
              "#7201a8"
             ],
             [
              0.3333333333333333,
              "#9c179e"
             ],
             [
              0.4444444444444444,
              "#bd3786"
             ],
             [
              0.5555555555555556,
              "#d8576b"
             ],
             [
              0.6666666666666666,
              "#ed7953"
             ],
             [
              0.7777777777777778,
              "#fb9f3a"
             ],
             [
              0.8888888888888888,
              "#fdca26"
             ],
             [
              1,
              "#f0f921"
             ]
            ],
            "type": "histogram2dcontour"
           }
          ],
          "mesh3d": [
           {
            "colorbar": {
             "outlinewidth": 0,
             "ticks": ""
            },
            "type": "mesh3d"
           }
          ],
          "parcoords": [
           {
            "line": {
             "colorbar": {
              "outlinewidth": 0,
              "ticks": ""
             }
            },
            "type": "parcoords"
           }
          ],
          "pie": [
           {
            "automargin": true,
            "type": "pie"
           }
          ],
          "scatter": [
           {
            "fillpattern": {
             "fillmode": "overlay",
             "size": 10,
             "solidity": 0.2
            },
            "type": "scatter"
           }
          ],
          "scatter3d": [
           {
            "line": {
             "colorbar": {
              "outlinewidth": 0,
              "ticks": ""
             }
            },
            "marker": {
             "colorbar": {
              "outlinewidth": 0,
              "ticks": ""
             }
            },
            "type": "scatter3d"
           }
          ],
          "scattercarpet": [
           {
            "marker": {
             "colorbar": {
              "outlinewidth": 0,
              "ticks": ""
             }
            },
            "type": "scattercarpet"
           }
          ],
          "scattergeo": [
           {
            "marker": {
             "colorbar": {
              "outlinewidth": 0,
              "ticks": ""
             }
            },
            "type": "scattergeo"
           }
          ],
          "scattergl": [
           {
            "marker": {
             "colorbar": {
              "outlinewidth": 0,
              "ticks": ""
             }
            },
            "type": "scattergl"
           }
          ],
          "scattermap": [
           {
            "marker": {
             "colorbar": {
              "outlinewidth": 0,
              "ticks": ""
             }
            },
            "type": "scattermap"
           }
          ],
          "scattermapbox": [
           {
            "marker": {
             "colorbar": {
              "outlinewidth": 0,
              "ticks": ""
             }
            },
            "type": "scattermapbox"
           }
          ],
          "scatterpolar": [
           {
            "marker": {
             "colorbar": {
              "outlinewidth": 0,
              "ticks": ""
             }
            },
            "type": "scatterpolar"
           }
          ],
          "scatterpolargl": [
           {
            "marker": {
             "colorbar": {
              "outlinewidth": 0,
              "ticks": ""
             }
            },
            "type": "scatterpolargl"
           }
          ],
          "scatterternary": [
           {
            "marker": {
             "colorbar": {
              "outlinewidth": 0,
              "ticks": ""
             }
            },
            "type": "scatterternary"
           }
          ],
          "surface": [
           {
            "colorbar": {
             "outlinewidth": 0,
             "ticks": ""
            },
            "colorscale": [
             [
              0,
              "#0d0887"
             ],
             [
              0.1111111111111111,
              "#46039f"
             ],
             [
              0.2222222222222222,
              "#7201a8"
             ],
             [
              0.3333333333333333,
              "#9c179e"
             ],
             [
              0.4444444444444444,
              "#bd3786"
             ],
             [
              0.5555555555555556,
              "#d8576b"
             ],
             [
              0.6666666666666666,
              "#ed7953"
             ],
             [
              0.7777777777777778,
              "#fb9f3a"
             ],
             [
              0.8888888888888888,
              "#fdca26"
             ],
             [
              1,
              "#f0f921"
             ]
            ],
            "type": "surface"
           }
          ],
          "table": [
           {
            "cells": {
             "fill": {
              "color": "#EBF0F8"
             },
             "line": {
              "color": "white"
             }
            },
            "header": {
             "fill": {
              "color": "#C8D4E3"
             },
             "line": {
              "color": "white"
             }
            },
            "type": "table"
           }
          ]
         },
         "layout": {
          "annotationdefaults": {
           "arrowcolor": "#2a3f5f",
           "arrowhead": 0,
           "arrowwidth": 1
          },
          "autotypenumbers": "strict",
          "coloraxis": {
           "colorbar": {
            "outlinewidth": 0,
            "ticks": ""
           }
          },
          "colorscale": {
           "diverging": [
            [
             0,
             "#8e0152"
            ],
            [
             0.1,
             "#c51b7d"
            ],
            [
             0.2,
             "#de77ae"
            ],
            [
             0.3,
             "#f1b6da"
            ],
            [
             0.4,
             "#fde0ef"
            ],
            [
             0.5,
             "#f7f7f7"
            ],
            [
             0.6,
             "#e6f5d0"
            ],
            [
             0.7,
             "#b8e186"
            ],
            [
             0.8,
             "#7fbc41"
            ],
            [
             0.9,
             "#4d9221"
            ],
            [
             1,
             "#276419"
            ]
           ],
           "sequential": [
            [
             0,
             "#0d0887"
            ],
            [
             0.1111111111111111,
             "#46039f"
            ],
            [
             0.2222222222222222,
             "#7201a8"
            ],
            [
             0.3333333333333333,
             "#9c179e"
            ],
            [
             0.4444444444444444,
             "#bd3786"
            ],
            [
             0.5555555555555556,
             "#d8576b"
            ],
            [
             0.6666666666666666,
             "#ed7953"
            ],
            [
             0.7777777777777778,
             "#fb9f3a"
            ],
            [
             0.8888888888888888,
             "#fdca26"
            ],
            [
             1,
             "#f0f921"
            ]
           ],
           "sequentialminus": [
            [
             0,
             "#0d0887"
            ],
            [
             0.1111111111111111,
             "#46039f"
            ],
            [
             0.2222222222222222,
             "#7201a8"
            ],
            [
             0.3333333333333333,
             "#9c179e"
            ],
            [
             0.4444444444444444,
             "#bd3786"
            ],
            [
             0.5555555555555556,
             "#d8576b"
            ],
            [
             0.6666666666666666,
             "#ed7953"
            ],
            [
             0.7777777777777778,
             "#fb9f3a"
            ],
            [
             0.8888888888888888,
             "#fdca26"
            ],
            [
             1,
             "#f0f921"
            ]
           ]
          },
          "colorway": [
           "#636efa",
           "#EF553B",
           "#00cc96",
           "#ab63fa",
           "#FFA15A",
           "#19d3f3",
           "#FF6692",
           "#B6E880",
           "#FF97FF",
           "#FECB52"
          ],
          "font": {
           "color": "#2a3f5f"
          },
          "geo": {
           "bgcolor": "white",
           "lakecolor": "white",
           "landcolor": "#E5ECF6",
           "showlakes": true,
           "showland": true,
           "subunitcolor": "white"
          },
          "hoverlabel": {
           "align": "left"
          },
          "hovermode": "closest",
          "mapbox": {
           "style": "light"
          },
          "paper_bgcolor": "white",
          "plot_bgcolor": "#E5ECF6",
          "polar": {
           "angularaxis": {
            "gridcolor": "white",
            "linecolor": "white",
            "ticks": ""
           },
           "bgcolor": "#E5ECF6",
           "radialaxis": {
            "gridcolor": "white",
            "linecolor": "white",
            "ticks": ""
           }
          },
          "scene": {
           "xaxis": {
            "backgroundcolor": "#E5ECF6",
            "gridcolor": "white",
            "gridwidth": 2,
            "linecolor": "white",
            "showbackground": true,
            "ticks": "",
            "zerolinecolor": "white"
           },
           "yaxis": {
            "backgroundcolor": "#E5ECF6",
            "gridcolor": "white",
            "gridwidth": 2,
            "linecolor": "white",
            "showbackground": true,
            "ticks": "",
            "zerolinecolor": "white"
           },
           "zaxis": {
            "backgroundcolor": "#E5ECF6",
            "gridcolor": "white",
            "gridwidth": 2,
            "linecolor": "white",
            "showbackground": true,
            "ticks": "",
            "zerolinecolor": "white"
           }
          },
          "shapedefaults": {
           "line": {
            "color": "#2a3f5f"
           }
          },
          "ternary": {
           "aaxis": {
            "gridcolor": "white",
            "linecolor": "white",
            "ticks": ""
           },
           "baxis": {
            "gridcolor": "white",
            "linecolor": "white",
            "ticks": ""
           },
           "bgcolor": "#E5ECF6",
           "caxis": {
            "gridcolor": "white",
            "linecolor": "white",
            "ticks": ""
           }
          },
          "title": {
           "x": 0.05
          },
          "xaxis": {
           "automargin": true,
           "gridcolor": "white",
           "linecolor": "white",
           "ticks": "",
           "title": {
            "standoff": 15
           },
           "zerolinecolor": "white",
           "zerolinewidth": 2
          },
          "yaxis": {
           "automargin": true,
           "gridcolor": "white",
           "linecolor": "white",
           "ticks": "",
           "title": {
            "standoff": 15
           },
           "zerolinecolor": "white",
           "zerolinewidth": 2
          }
         }
        },
        "title": {
         "text": "광고 지출액과 매출액의 관계 (대화형)"
        },
        "xaxis": {
         "anchor": "y",
         "autorange": true,
         "domain": [
          0,
          1
         ],
         "range": [
          43.30714673363725,
          1049.8610016180705
         ],
         "title": {
          "text": "Ad_Spend"
         },
         "type": "linear"
        },
        "yaxis": {
         "anchor": "x",
         "autorange": true,
         "domain": [
          0,
          1
         ],
         "range": [
          167.8359380999462,
          5298.875692788115
         ],
         "title": {
          "text": "Sales"
         },
         "type": "linear"
        }
       }
      },
      "image/png": "[encoded data removed]"
     },
     "metadata": {},
     "output_type": "display_data"
    }
   ],
   "source": [
    "# !pip install plotly\n",
    "import plotly.express as px\n",
    "import pandas as pd\n",
    "import numpy as np\n",
    "\n",
    "#-------------------------------------------------------\n",
    "# 1. 데이터 준비\n",
    "#-------------------------------------------------------\n",
    "np.random.seed(42)\n",
    "df = pd.DataFrame({\n",
    "    'Ad_Spend': np.random.uniform(100, 1000, 100),\n",
    "    'Sales': np.random.uniform(500, 5000, 100),\n",
    "    'Region': np.random.choice(['East', 'West', 'South'], 100)\n",
    "})\n",
    "\n",
    "#-------------------------------------------------------\n",
    "# 2. 대화형 산점도 생성\n",
    "#-------------------------------------------------------\n",
    "# Plotly Express의 scatter 함수 사용\n",
    "fig = px.scatter(\n",
    "    df, \n",
    "    x=\"Ad_Spend\", \n",
    "    y=\"Sales\", \n",
    "    color=\"Region\", # Region에 따라 점 색상 구분 (자동으로 범례 생성)\n",
    "    title=\"광고 지출액과 매출액의 관계 (대화형)\"\n",
    ")\n",
    "\n",
    "#-------------------------------------------------------\n",
    "# 3. 그래프 출력\n",
    "#-------------------------------------------------------\n",
    "fig.show()\n"
   ]
  },
  {
   "cell_type": "code",
   "execution_count": 5,
   "id": "06bed16b-6196-43cc-82e6-83361f761961",
   "metadata": {},
   "outputs": [
    {
     "data": {
      "application/vnd.plotly.v1+json": {
       "config": {
        "plotlyServerURL": "https://plot.ly"
       },
       "data": [
        {
         "customdata": [
          [
           "Feb"
          ],
          [
           "Feb"
          ],
          [
           "Feb"
          ],
          [
           "Feb"
          ],
          [
           "Feb"
          ],
          [
           "Feb"
          ],
          [
           "Feb"
          ],
          [
           "Feb"
          ],
          [
           "Feb"
          ],
          [
           "Feb"
          ],
          [
           "Feb"
          ],
          [
           "Feb"
          ],
          [
           "Feb"
          ]
         ],
         "hovertemplate": "<b>%{hovertext}</b><br><br>Region=East<br>Month=%{customdata[0]}<br>광고비=%{marker.size}<br>매출액=%{y}<extra></extra>",
         "hovertext": [
          "East",
          "East",
          "East",
          "East",
          "East",
          "East",
          "East",
          "East",
          "East",
          "East",
          "East",
          "East",
          "East"
         ],
         "legendgroup": "East, Feb",
         "marker": {
          "color": "rgb(102,194,165)",
          "opacity": 0.7,
          "size": {
           "_inputArray": {
            "0": 373.8180186635839,
            "1": 362.1062261782377,
            "10": 278.8441133807552,
            "11": 784.7065437552077,
            "12": 484.78691652269464,
            "2": 510.4629857953323,
            "3": 545.6592191001432,
            "4": 918.3883618709039,
            "5": 972.6261649881027,
            "6": 929.6868115208051,
            "7": 392.7972976869379,
            "8": 344.2141285965063,
            "9": 167.09557931179376,
            "bdata": "xfm8mhZdd0ApmDgas6F2QHAXy2No539AHOCpFEYNgUBd9HddG7OMQGkOymICZY5A/uIJl34NjUAyKTi7wYx4QCFyGxJtg3VAgkpY/A7jZEBaRwh9gW1xQHuOaQCnhYhAfZrHNZdMfkA=",
            "dtype": "f8",
            "shape": "13"
           },
           "bdata": "xfm8mhZdd0ApmDgas6F2QHAXy2No539AHOCpFEYNgUBd9HddG7OMQGkOymICZY5A/uIJl34NjUAyKTi7wYx4QCFyGxJtg3VAgkpY/A7jZEBaRwh9gW1xQHuOaQCnhYhAfZrHNZdMfkA=",
           "dtype": "f8"
          },
          "sizemode": "area",
          "sizeref": 1.0979980477116285,
          "symbol": "circle"
         },
         "mode": "markers",
         "name": "East, Feb",
         "orientation": "v",
         "showlegend": true,
         "type": "scatter",
         "x": {
          "_inputArray": {
           "0": 373.8180186635839,
           "1": 362.1062261782377,
           "10": 278.8441133807552,
           "11": 784.7065437552077,
           "12": 484.78691652269464,
           "2": 510.4629857953323,
           "3": 545.6592191001432,
           "4": 918.3883618709039,
           "5": 972.6261649881027,
           "6": 929.6868115208051,
           "7": 392.7972976869379,
           "8": 344.2141285965063,
           "9": 167.09557931179376,
           "bdata": "xfm8mhZdd0ApmDgas6F2QHAXy2No539AHOCpFEYNgUBd9HddG7OMQGkOymICZY5A/uIJl34NjUAyKTi7wYx4QCFyGxJtg3VAgkpY/A7jZEBaRwh9gW1xQHuOaQCnhYhAfZrHNZdMfkA=",
           "dtype": "f8",
           "shape": "13"
          },
          "bdata": "xfm8mhZdd0ApmDgas6F2QHAXy2No539AHOCpFEYNgUBd9HddG7OMQGkOymICZY5A/uIJl34NjUAyKTi7wYx4QCFyGxJtg3VAgkpY/A7jZEBaRwh9gW1xQHuOaQCnhYhAfZrHNZdMfkA=",
          "dtype": "f8"
         },
         "xaxis": "x",
         "y": {
          "_inputArray": {
           "0": 4116.524346046015,
           "1": 2927.0400886204284,
           "10": 574.6452301753527,
           "11": 4551.881257234987,
           "12": 4536.9961697865965,
           "2": 1525.7082314387376,
           "3": 1633.0203312141387,
           "4": 1853.9523941754635,
           "5": 4587.196486849942,
           "6": 1589.2487218017518,
           "7": 3776.973568753368,
           "8": 3345.3762376711074,
           "9": 683.4881369964376,
           "bdata": "bN+KO4YUsEBd436GFN6mQIJNnzrV1pdAQa+00RSEmUARMmtAz/ecQJhS9kwy67FATpHtsP7UmEA/iJp38oGtQNxZOaLAIqpAVp1etOdbhUBCLHBuKfWBQKL7Eprhx7FAsq77BP+4sUA=",
           "dtype": "f8",
           "shape": "13"
          },
          "bdata": "bN+KO4YUsEBd436GFN6mQIJNnzrV1pdAQa+00RSEmUARMmtAz/ecQJhS9kwy67FATpHtsP7UmEA/iJp38oGtQNxZOaLAIqpAVp1etOdbhUBCLHBuKfWBQKL7Eprhx7FAsq77BP+4sUA=",
          "dtype": "f8"
         },
         "yaxis": "y"
        },
        {
         "bingroup": "x",
         "hovertemplate": "Region=East<br>Month=Feb<br>광고비=%{x}<br>count=%{y}<extra></extra>",
         "legendgroup": "East, Feb",
         "marker": {
          "color": "rgb(102,194,165)"
         },
         "name": "East, Feb",
         "opacity": 0.5,
         "showlegend": false,
         "type": "histogram",
         "x": {
          "_inputArray": {
           "0": 373.8180186635839,
           "1": 362.1062261782377,
           "10": 278.8441133807552,
           "11": 784.7065437552077,
           "12": 484.78691652269464,
           "2": 510.4629857953323,
           "3": 545.6592191001432,
           "4": 918.3883618709039,
           "5": 972.6261649881027,
           "6": 929.6868115208051,
           "7": 392.7972976869379,
           "8": 344.2141285965063,
           "9": 167.09557931179376,
           "bdata": "xfm8mhZdd0ApmDgas6F2QHAXy2No539AHOCpFEYNgUBd9HddG7OMQGkOymICZY5A/uIJl34NjUAyKTi7wYx4QCFyGxJtg3VAgkpY/A7jZEBaRwh9gW1xQHuOaQCnhYhAfZrHNZdMfkA=",
           "dtype": "f8",
           "shape": "13"
          },
          "bdata": "xfm8mhZdd0ApmDgas6F2QHAXy2No539AHOCpFEYNgUBd9HddG7OMQGkOymICZY5A/uIJl34NjUAyKTi7wYx4QCFyGxJtg3VAgkpY/A7jZEBaRwh9gW1xQHuOaQCnhYhAfZrHNZdMfkA=",
          "dtype": "f8"
         },
         "xaxis": "x4",
         "yaxis": "y4"
        },
        {
         "customdata": [
          [
           "Mar"
          ],
          [
           "Mar"
          ],
          [
           "Mar"
          ],
          [
           "Mar"
          ],
          [
           "Mar"
          ],
          [
           "Mar"
          ],
          [
           "Mar"
          ],
          [
           "Mar"
          ],
          [
           "Mar"
          ],
          [
           "Mar"
          ]
         ],
         "hovertemplate": "<b>%{hovertext}</b><br><br>Region=East<br>Month=%{customdata[0]}<br>광고비=%{marker.size}<br>매출액=%{y}<extra></extra>",
         "hovertext": [
          "East",
          "East",
          "East",
          "East",
          "East",
          "East",
          "East",
          "East",
          "East",
          "East"
         ],
         "legendgroup": "East, Mar",
         "marker": {
          "color": "rgb(102,194,165)",
          "opacity": 0.7,
          "size": {
           "_inputArray": {
            "0": 955.6428757689246,
            "1": 152.27525095137952,
            "2": 572.280788469014,
            "3": 488.7505167779042,
            "4": 827.557613304815,
            "5": 696.2700559185838,
            "6": 380.53996848046984,
            "7": 797.6195410250031,
            "8": 905.3446153848839,
            "9": 421.07799402423035,
            "bdata": "YBcNnCTdjUDGSxXbzghjQBNcBg4/4oFAKoPhHQKMfkD23/b9ddyJQEXTExMpwoVA0kf9taPId0BZx+zR9OyIQDP+tcXBSoxApXWpdj9RekA=",
            "dtype": "f8",
            "shape": "10"
           },
           "bdata": "YBcNnCTdjUDGSxXbzghjQBNcBg4/4oFAKoPhHQKMfkD23/b9ddyJQEXTExMpwoVA0kf9taPId0BZx+zR9OyIQDP+tcXBSoxApXWpdj9RekA=",
           "dtype": "f8"
          },
          "sizemode": "area",
          "sizeref": 1.0979980477116285,
          "symbol": "diamond"
         },
         "mode": "markers",
         "name": "East, Mar",
         "orientation": "v",
         "showlegend": true,
         "type": "scatter",
         "x": {
          "_inputArray": {
           "0": 955.6428757689246,
           "1": 152.27525095137952,
           "2": 572.280788469014,
           "3": 488.7505167779042,
           "4": 827.557613304815,
           "5": 696.2700559185838,
           "6": 380.53996848046984,
           "7": 797.6195410250031,
           "8": 905.3446153848839,
           "9": 421.07799402423035,
           "bdata": "YBcNnCTdjUDGSxXbzghjQBNcBg4/4oFAKoPhHQKMfkD23/b9ddyJQEXTExMpwoVA0kf9taPId0BZx+zR9OyIQDP+tcXBSoxApXWpdj9RekA=",
           "dtype": "f8",
           "shape": "10"
          },
          "bdata": "YBcNnCTdjUDGSxXbzghjQBNcBg4/4oFAKoPhHQKMfkD23/b9ddyJQEXTExMpwoVA0kf9taPId0BZx+zR9OyIQDP+tcXBSoxApXWpdj9RekA=",
          "dtype": "f8"
         },
         "xaxis": "x2",
         "y": {
          "_inputArray": {
           "0": 3363.8468506870117,
           "1": 2346.723153660334,
           "2": 1339.5652649871613,
           "3": 4516.5154932049,
           "4": 1954.4131940933985,
           "5": 665.9912630953976,
           "6": 3243.0395029095357,
           "7": 1578.028508001376,
           "8": 2702.5374212490337,
           "9": 2910.9860783364134,
           "bdata": "n8pplrFHqkA8UjJBclWiQLol09RC7pRAW9hc94OksUAwOFocp4meQLeDWBvuz4RAG7G5ORRWqUBWljMxHaiYQI3B4CgTHaVAYXxC3/i9pkA=",
           "dtype": "f8",
           "shape": "10"
          },
          "bdata": "n8pplrFHqkA8UjJBclWiQLol09RC7pRAW9hc94OksUAwOFocp4meQLeDWBvuz4RAG7G5ORRWqUBWljMxHaiYQI3B4CgTHaVAYXxC3/i9pkA=",
          "dtype": "f8"
         },
         "yaxis": "y2"
        },
        {
         "bingroup": "x",
         "hovertemplate": "Region=East<br>Month=Mar<br>광고비=%{x}<br>count=%{y}<extra></extra>",
         "legendgroup": "East, Mar",
         "marker": {
          "color": "rgb(102,194,165)"
         },
         "name": "East, Mar",
         "opacity": 0.5,
         "showlegend": false,
         "type": "histogram",
         "x": {
          "_inputArray": {
           "0": 955.6428757689246,
           "1": 152.27525095137952,
           "2": 572.280788469014,
           "3": 488.7505167779042,
           "4": 827.557613304815,
           "5": 696.2700559185838,
           "6": 380.53996848046984,
           "7": 797.6195410250031,
           "8": 905.3446153848839,
           "9": 421.07799402423035,
           "bdata": "YBcNnCTdjUDGSxXbzghjQBNcBg4/4oFAKoPhHQKMfkD23/b9ddyJQEXTExMpwoVA0kf9taPId0BZx+zR9OyIQDP+tcXBSoxApXWpdj9RekA=",
           "dtype": "f8",
           "shape": "10"
          },
          "bdata": "YBcNnCTdjUDGSxXbzghjQBNcBg4/4oFAKoPhHQKMfkD23/b9ddyJQEXTExMpwoVA0kf9taPId0BZx+zR9OyIQDP+tcXBSoxApXWpdj9RekA=",
          "dtype": "f8"
         },
         "xaxis": "x5",
         "yaxis": "y5"
        },
        {
         "customdata": [
          [
           "Jan"
          ],
          [
           "Jan"
          ],
          [
           "Jan"
          ],
          [
           "Jan"
          ],
          [
           "Jan"
          ],
          [
           "Jan"
          ],
          [
           "Jan"
          ],
          [
           "Jan"
          ],
          [
           "Jan"
          ],
          [
           "Jan"
          ],
          [
           "Jan"
          ],
          [
           "Jan"
          ]
         ],
         "hovertemplate": "<b>%{hovertext}</b><br><br>Region=East<br>Month=%{customdata[0]}<br>광고비=%{marker.size}<br>매출액=%{y}<extra></extra>",
         "hovertext": [
          "East",
          "East",
          "East",
          "East",
          "East",
          "East",
          "East",
          "East",
          "East",
          "East",
          "East",
          "East"
         ],
         "legendgroup": "East, Jan",
         "marker": {
          "color": "rgb(102,194,165)",
          "opacity": 0.7,
          "size": {
           "_inputArray": {
            "0": 641.0035105688879,
            "1": 737.2653200164409,
            "10": 741.9203085006955,
            "11": 605.1494778125466,
            "2": 225.54447458683765,
            "3": 806.6583652537122,
            "4": 568.0612190600298,
            "5": 140.70456001948426,
            "6": 449.8095607205338,
            "7": 226.83180247728637,
            "8": 988.1982429404655,
            "9": 736.1716094628554,
            "bdata": "g5SMMAcIhEC0zBlgHwqHQBH/91VsMWxAIowAVUQ1iUDCJWtgfcCBQCE4dMGLlmFAGi3x9fMcfEColTognlpsQLMPZQCW4Y5ALzXIdF8Bh0C+BbTKXC+HQOxibCEy6YJA",
            "dtype": "f8",
            "shape": "12"
           },
           "bdata": "g5SMMAcIhEC0zBlgHwqHQBH/91VsMWxAIowAVUQ1iUDCJWtgfcCBQCE4dMGLlmFAGi3x9fMcfEColTognlpsQLMPZQCW4Y5ALzXIdF8Bh0C+BbTKXC+HQOxibCEy6YJA",
           "dtype": "f8"
          },
          "sizemode": "area",
          "sizeref": 1.0979980477116285,
          "symbol": "square"
         },
         "mode": "markers",
         "name": "East, Jan",
         "orientation": "v",
         "showlegend": true,
         "type": "scatter",
         "x": {
          "_inputArray": {
           "0": 641.0035105688879,
           "1": 737.2653200164409,
           "10": 741.9203085006955,
           "11": 605.1494778125466,
           "2": 225.54447458683765,
           "3": 806.6583652537122,
           "4": 568.0612190600298,
           "5": 140.70456001948426,
           "6": 449.8095607205338,
           "7": 226.83180247728637,
           "8": 988.1982429404655,
           "9": 736.1716094628554,
           "bdata": "g5SMMAcIhEC0zBlgHwqHQBH/91VsMWxAIowAVUQ1iUDCJWtgfcCBQCE4dMGLlmFAGi3x9fMcfEColTognlpsQLMPZQCW4Y5ALzXIdF8Bh0C+BbTKXC+HQOxibCEy6YJA",
           "dtype": "f8",
           "shape": "12"
          },
          "bdata": "g5SMMAcIhEC0zBlgHwqHQBH/91VsMWxAIowAVUQ1iUDCJWtgfcCBQCE4dMGLlmFAGi3x9fMcfEColTognlpsQLMPZQCW4Y5ALzXIdF8Bh0C+BbTKXC+HQOxibCEy6YJA",
          "dtype": "f8"
         },
         "xaxis": "x3",
         "y": {
          "_inputArray": {
           "0": 1529.591744712301,
           "1": 846.4095942295685,
           "10": 4537.470910789971,
           "11": 3348.9565577297058,
           "2": 4532.41084965572,
           "3": 2421.9850488181537,
           "4": 2762.0556045298767,
           "5": 1569.3689479657985,
           "6": 2155.0240972366396,
           "7": 1943.5102923728114,
           "8": 3159.018244347088,
           "9": 3403.2775568425245,
           "bdata": "qGtT8l3ml0AE5VbZRnOKQORqcS1ptLFA3pVRWPjrokCpajJ4HJSlQB/cfs15hZhAlRZ5VgzWoEB+chWKCl6eQCm0UlcJrqhA2TLuG46WqkBCCpyNeLmxQKVL78HpKapA",
           "dtype": "f8",
           "shape": "12"
          },
          "bdata": "qGtT8l3ml0AE5VbZRnOKQORqcS1ptLFA3pVRWPjrokCpajJ4HJSlQB/cfs15hZhAlRZ5VgzWoEB+chWKCl6eQCm0UlcJrqhA2TLuG46WqkBCCpyNeLmxQKVL78HpKapA",
          "dtype": "f8"
         },
         "yaxis": "y3"
        },
        {
         "bingroup": "x",
         "hovertemplate": "Region=East<br>Month=Jan<br>광고비=%{x}<br>count=%{y}<extra></extra>",
         "legendgroup": "East, Jan",
         "marker": {
          "color": "rgb(102,194,165)"
         },
         "name": "East, Jan",
         "opacity": 0.5,
         "showlegend": false,
         "type": "histogram",
         "x": {
          "_inputArray": {
           "0": 641.0035105688879,
           "1": 737.2653200164409,
           "10": 741.9203085006955,
           "11": 605.1494778125466,
           "2": 225.54447458683765,
           "3": 806.6583652537122,
           "4": 568.0612190600298,
           "5": 140.70456001948426,
           "6": 449.8095607205338,
           "7": 226.83180247728637,
           "8": 988.1982429404655,
           "9": 736.1716094628554,
           "bdata": "g5SMMAcIhEC0zBlgHwqHQBH/91VsMWxAIowAVUQ1iUDCJWtgfcCBQCE4dMGLlmFAGi3x9fMcfEColTognlpsQLMPZQCW4Y5ALzXIdF8Bh0C+BbTKXC+HQOxibCEy6YJA",
           "dtype": "f8",
           "shape": "12"
          },
          "bdata": "g5SMMAcIhEC0zBlgHwqHQBH/91VsMWxAIowAVUQ1iUDCJWtgfcCBQCE4dMGLlmFAGi3x9fMcfEColTognlpsQLMPZQCW4Y5ALzXIdF8Bh0C+BbTKXC+HQOxibCEy6YJA",
          "dtype": "f8"
         },
         "xaxis": "x6",
         "yaxis": "y6"
        },
        {
         "customdata": [
          [
           "Feb"
          ],
          [
           "Feb"
          ],
          [
           "Feb"
          ],
          [
           "Feb"
          ],
          [
           "Feb"
          ],
          [
           "Feb"
          ],
          [
           "Feb"
          ],
          [
           "Feb"
          ],
          [
           "Feb"
          ],
          [
           "Feb"
          ],
          [
           "Feb"
          ]
         ],
         "hovertemplate": "<b>%{hovertext}</b><br><br>Region=West<br>Month=%{customdata[0]}<br>광고비=%{marker.size}<br>매출액=%{y}<extra></extra>",
         "hovertext": [
          "West",
          "West",
          "West",
          "West",
          "West",
          "West",
          "West",
          "West",
          "West",
          "West",
          "West"
         ],
         "legendgroup": "West, Feb",
         "marker": {
          "color": "rgb(252,141,98)",
          "opacity": 0.7,
          "size": {
           "_inputArray": {
            "0": 758.7945476302646,
            "1": 240.3950683025824,
            "10": 122.87721406968566,
            "2": 118.52604486622221,
            "3": 972.9188669457949,
            "4": 633.1731119758382,
            "5": 253.47171131856237,
            "6": 158.54643368675156,
            "7": 969.0688297671035,
            "8": 833.9152856093507,
            "9": 524.9934326457544,
            "bdata": "zrjJO1u2h0Di6EdmpAxuQMwpFriqoV1AhMzp1llnjkArFoiIYsmDQBzMVUIYr29A+8B/YnzRY0Cb9Z72jEiOQEn1QoFSD4pAWqLQjPJngEAGOXtGJLheQA==",
            "dtype": "f8",
            "shape": "11"
           },
           "bdata": "zrjJO1u2h0Di6EdmpAxuQMwpFriqoV1AhMzp1llnjkArFoiIYsmDQBzMVUIYr29A+8B/YnzRY0Cb9Z72jEiOQEn1QoFSD4pAWqLQjPJngEAGOXtGJLheQA==",
           "dtype": "f8"
          },
          "sizemode": "area",
          "sizeref": 1.0979980477116285,
          "symbol": "circle"
         },
         "mode": "markers",
         "name": "West, Feb",
         "orientation": "v",
         "showlegend": true,
         "type": "scatter",
         "x": {
          "_inputArray": {
           "0": 758.7945476302646,
           "1": 240.3950683025824,
           "10": 122.87721406968566,
           "2": 118.52604486622221,
           "3": 972.9188669457949,
           "4": 633.1731119758382,
           "5": 253.47171131856237,
           "6": 158.54643368675156,
           "7": 969.0688297671035,
           "8": 833.9152856093507,
           "9": 524.9934326457544,
           "bdata": "zrjJO1u2h0Di6EdmpAxuQMwpFriqoV1AhMzp1llnjkArFoiIYsmDQBzMVUIYr29A+8B/YnzRY0Cb9Z72jEiOQEn1QoFSD4pAWqLQjPJngEAGOXtGJLheQA==",
           "dtype": "f8",
           "shape": "11"
          },
          "bdata": "zrjJO1u2h0Di6EdmpAxuQMwpFriqoV1AhMzp1llnjkArFoiIYsmDQBzMVUIYr29A+8B/YnzRY0Cb9Z72jEiOQEn1QoFSD4pAWqLQjPJngEAGOXtGJLheQA==",
          "dtype": "f8"
         },
         "xaxis": "x",
         "y": {
          "_inputArray": {
           "0": 1914.60191484347,
           "1": 1621.8150311699374,
           "10": 4491.888909193028,
           "2": 1803.8815381119562,
           "3": 1225.4957926430197,
           "4": 531.2845873903582,
           "5": 1499.485147118286,
           "6": 1039.3941530015727,
           "7": 4743.093667606337,
           "8": 1519.2309883907208,
           "9": 1588.3353090520325,
           "bdata": "uV5dXGjqnUBo8IeXQleZQB5E7bGGL5xAeA0Rsfslk0CK88DVRpqAQCb7Z8rwbZdAgC3YnJM9kEDpqZn6F4eyQJt/OIjsvJdAIZJBW1fRmEAriY2P44uxQA==",
           "dtype": "f8",
           "shape": "11"
          },
          "bdata": "uV5dXGjqnUBo8IeXQleZQB5E7bGGL5xAeA0Rsfslk0CK88DVRpqAQCb7Z8rwbZdAgC3YnJM9kEDpqZn6F4eyQJt/OIjsvJdAIZJBW1fRmEAriY2P44uxQA==",
          "dtype": "f8"
         },
         "yaxis": "y"
        },
        {
         "bingroup": "x",
         "hovertemplate": "Region=West<br>Month=Feb<br>광고비=%{x}<br>count=%{y}<extra></extra>",
         "legendgroup": "West, Feb",
         "marker": {
          "color": "rgb(252,141,98)"
         },
         "name": "West, Feb",
         "opacity": 0.5,
         "showlegend": false,
         "type": "histogram",
         "x": {
          "_inputArray": {
           "0": 758.7945476302646,
           "1": 240.3950683025824,
           "10": 122.87721406968566,
           "2": 118.52604486622221,
           "3": 972.9188669457949,
           "4": 633.1731119758382,
           "5": 253.47171131856237,
           "6": 158.54643368675156,
           "7": 969.0688297671035,
           "8": 833.9152856093507,
           "9": 524.9934326457544,
           "bdata": "zrjJO1u2h0Di6EdmpAxuQMwpFriqoV1AhMzp1llnjkArFoiIYsmDQBzMVUIYr29A+8B/YnzRY0Cb9Z72jEiOQEn1QoFSD4pAWqLQjPJngEAGOXtGJLheQA==",
           "dtype": "f8",
           "shape": "11"
          },
          "bdata": "zrjJO1u2h0Di6EdmpAxuQMwpFriqoV1AhMzp1llnjkArFoiIYsmDQBzMVUIYr29A+8B/YnzRY0Cb9Z72jEiOQEn1QoFSD4pAWqLQjPJngEAGOXtGJLheQA==",
          "dtype": "f8"
         },
         "xaxis": "x4",
         "yaxis": "y4"
        },
        {
         "customdata": [
          [
           "Mar"
          ],
          [
           "Mar"
          ],
          [
           "Mar"
          ],
          [
           "Mar"
          ],
          [
           "Mar"
          ],
          [
           "Mar"
          ],
          [
           "Mar"
          ],
          [
           "Mar"
          ],
          [
           "Mar"
          ],
          [
           "Mar"
          ],
          [
           "Mar"
          ]
         ],
         "hovertemplate": "<b>%{hovertext}</b><br><br>Region=West<br>Month=%{customdata[0]}<br>광고비=%{marker.size}<br>매출액=%{y}<extra></extra>",
         "hovertext": [
          "West",
          "West",
          "West",
          "West",
          "West",
          "West",
          "West",
          "West",
          "West",
          "West",
          "West"
         ],
         "legendgroup": "West, Mar",
         "marker": {
          "color": "rgb(252,141,98)",
          "opacity": 0.7,
          "size": {
           "_inputArray": {
            "0": 849.1983767203795,
            "1": 291.10519961044855,
            "10": 392.66498982407234,
            "2": 263.64247048639055,
            "3": 650.6676052501415,
            "4": 953.9969835279999,
            "5": 209.83441136030095,
            "6": 638.1099809299766,
            "7": 179.64325184672754,
            "8": 845.8637582367364,
            "9": 876.7930832880342,
            "bdata": "i7KIRpaJikDbZsnlrjFyQBX7IY9HenBA999rQVdVhEBI+3/S+c+NQOn8c3+zOmpAd4uuPeHwg0AqmeWElXRmQHgTFProbopA4wgNPFhmi0AEqV7Mo4p4QA==",
            "dtype": "f8",
            "shape": "11"
           },
           "bdata": "i7KIRpaJikDbZsnlrjFyQBX7IY9HenBA999rQVdVhEBI+3/S+c+NQOn8c3+zOmpAd4uuPeHwg0AqmeWElXRmQHgTFProbopA4wgNPFhmi0AEqV7Mo4p4QA==",
           "dtype": "f8"
          },
          "sizemode": "area",
          "sizeref": 1.0979980477116285,
          "symbol": "diamond"
         },
         "mode": "markers",
         "name": "West, Mar",
         "orientation": "v",
         "showlegend": true,
         "type": "scatter",
         "x": {
          "_inputArray": {
           "0": 849.1983767203795,
           "1": 291.10519961044855,
           "10": 392.66498982407234,
           "2": 263.64247048639055,
           "3": 650.6676052501415,
           "4": 953.9969835279999,
           "5": 209.83441136030095,
           "6": 638.1099809299766,
           "7": 179.64325184672754,
           "8": 845.8637582367364,
           "9": 876.7930832880342,
           "bdata": "i7KIRpaJikDbZsnlrjFyQBX7IY9HenBA999rQVdVhEBI+3/S+c+NQOn8c3+zOmpAd4uuPeHwg0AqmeWElXRmQHgTFProbopA4wgNPFhmi0AEqV7Mo4p4QA==",
           "dtype": "f8",
           "shape": "11"
          },
          "bdata": "i7KIRpaJikDbZsnlrjFyQBX7IY9HenBA999rQVdVhEBI+3/S+c+NQOn8c3+zOmpAd4uuPeHwg0AqmeWElXRmQHgTFProbopA4wgNPFhmi0AEqV7Mo4p4QA==",
          "dtype": "f8"
         },
         "xaxis": "x2",
         "y": {
          "_inputArray": {
           "0": 4683.639435541579,
           "1": 4136.5417080398765,
           "10": 3469.9282071538055,
           "2": 3350.3169042969057,
           "3": 4133.480698238282,
           "4": 2019.2682713163258,
           "5": 4831.0128272395,
           "6": 4935.427043497703,
           "7": 3524.6099633264535,
           "8": 3350.883698424026,
           "9": 2034.7985797261633,
           "bdata": "+zIMsqNLskBAy2CtiiiwQFiuR0GiLKpAqiwKD3slsEBMSLe1Eo2fQCdepUgD37JAmwC5Um1Hs0DB9RxNOImrQHCtHnTELapAezzivjHLn0AE0/c92xurQA==",
           "dtype": "f8",
           "shape": "11"
          },
          "bdata": "+zIMsqNLskBAy2CtiiiwQFiuR0GiLKpAqiwKD3slsEBMSLe1Eo2fQCdepUgD37JAmwC5Um1Hs0DB9RxNOImrQHCtHnTELapAezzivjHLn0AE0/c92xurQA==",
          "dtype": "f8"
         },
         "yaxis": "y2"
        },
        {
         "bingroup": "x",
         "hovertemplate": "Region=West<br>Month=Mar<br>광고비=%{x}<br>count=%{y}<extra></extra>",
         "legendgroup": "West, Mar",
         "marker": {
          "color": "rgb(252,141,98)"
         },
         "name": "West, Mar",
         "opacity": 0.5,
         "showlegend": false,
         "type": "histogram",
         "x": {
          "_inputArray": {
           "0": 849.1983767203795,
           "1": 291.10519961044855,
           "10": 392.66498982407234,
           "2": 263.64247048639055,
           "3": 650.6676052501415,
           "4": 953.9969835279999,
           "5": 209.83441136030095,
           "6": 638.1099809299766,
           "7": 179.64325184672754,
           "8": 845.8637582367364,
           "9": 876.7930832880342,
           "bdata": "i7KIRpaJikDbZsnlrjFyQBX7IY9HenBA999rQVdVhEBI+3/S+c+NQOn8c3+zOmpAd4uuPeHwg0AqmeWElXRmQHgTFProbopA4wgNPFhmi0AEqV7Mo4p4QA==",
           "dtype": "f8",
           "shape": "11"
          },
          "bdata": "i7KIRpaJikDbZsnlrjFyQBX7IY9HenBA999rQVdVhEBI+3/S+c+NQOn8c3+zOmpAd4uuPeHwg0AqmeWElXRmQHgTFProbopA4wgNPFhmi0AEqV7Mo4p4QA==",
          "dtype": "f8"
         },
         "xaxis": "x5",
         "yaxis": "y5"
        },
        {
         "customdata": [
          [
           "Jan"
          ],
          [
           "Jan"
          ],
          [
           "Jan"
          ],
          [
           "Jan"
          ],
          [
           "Jan"
          ],
          [
           "Jan"
          ],
          [
           "Jan"
          ],
          [
           "Jan"
          ],
          [
           "Jan"
          ],
          [
           "Jan"
          ],
          [
           "Jan"
          ],
          [
           "Jan"
          ],
          [
           "Jan"
          ]
         ],
         "hovertemplate": "<b>%{hovertext}</b><br><br>Region=West<br>Month=%{customdata[0]}<br>광고비=%{marker.size}<br>매출액=%{y}<extra></extra>",
         "hovertext": [
          "West",
          "West",
          "West",
          "West",
          "West",
          "West",
          "West",
          "West",
          "West",
          "West",
          "West",
          "West",
          "West"
         ],
         "legendgroup": "West, Jan",
         "marker": {
          "color": "rgb(252,141,98)",
          "opacity": 0.7,
          "size": {
           "_inputArray": {
            "0": 638.792635777333,
            "1": 646.7903667112945,
            "10": 898.4914683186939,
            "11": 207.63482134447153,
            "12": 544.4160367279517,
            "2": 187.90490260574546,
            "3": 130.94966900369656,
            "4": 945.5490474077702,
            "5": 756.1064512368886,
            "6": 166.64018656068134,
            "7": 422.61915568984534,
            "8": 660.9683141448021,
            "9": 157.20251525742128,
            "bdata": "RyptUVf2g0DbRsirUjaEQL43T/b0fGdA2hxAsGNeYECdovdyZIyNQHEoGwPaoIdA4q6GaHzUZEBK8MsP6Gl6QG+BfBu/p4RAGPJGAXumY0B8HvGG7hOMQNsp2nRQ9GlA5mMQC1QDgUA=",
            "dtype": "f8",
            "shape": "13"
           },
           "bdata": "RyptUVf2g0DbRsirUjaEQL43T/b0fGdA2hxAsGNeYECdovdyZIyNQHEoGwPaoIdA4q6GaHzUZEBK8MsP6Gl6QG+BfBu/p4RAGPJGAXumY0B8HvGG7hOMQNsp2nRQ9GlA5mMQC1QDgUA=",
           "dtype": "f8"
          },
          "sizemode": "area",
          "sizeref": 1.0979980477116285,
          "symbol": "square"
         },
         "mode": "markers",
         "name": "West, Jan",
         "orientation": "v",
         "showlegend": true,
         "type": "scatter",
         "x": {
          "_inputArray": {
           "0": 638.792635777333,
           "1": 646.7903667112945,
           "10": 898.4914683186939,
           "11": 207.63482134447153,
           "12": 544.4160367279517,
           "2": 187.90490260574546,
           "3": 130.94966900369656,
           "4": 945.5490474077702,
           "5": 756.1064512368886,
           "6": 166.64018656068134,
           "7": 422.61915568984534,
           "8": 660.9683141448021,
           "9": 157.20251525742128,
           "bdata": "RyptUVf2g0DbRsirUjaEQL43T/b0fGdA2hxAsGNeYECdovdyZIyNQHEoGwPaoIdA4q6GaHzUZEBK8MsP6Gl6QG+BfBu/p4RAGPJGAXumY0B8HvGG7hOMQNsp2nRQ9GlA5mMQC1QDgUA=",
           "dtype": "f8",
           "shape": "13"
          },
          "bdata": "RyptUVf2g0DbRsirUjaEQL43T/b0fGdA2hxAsGNeYECdovdyZIyNQHEoGwPaoIdA4q6GaHzUZEBK8MsP6Gl6QG+BfBu/p4RAGPJGAXumY0B8HvGG7hOMQNsp2nRQ9GlA5mMQC1QDgUA=",
          "dtype": "f8"
         },
         "xaxis": "x3",
         "y": {
          "_inputArray": {
           "0": 2788.5681102411627,
           "1": 2378.3495141695057,
           "10": 2883.4276026020293,
           "11": 918.9624551265465,
           "12": 2071.443085756974,
           "2": 3663.5853150283,
           "3": 2737.6182765157346,
           "4": 1152.0269244105039,
           "5": 1284.6489305224613,
           "6": 2240.309058352418,
           "7": 4715.284949315305,
           "8": 1010.6308455826509,
           "9": 4448.027090214415,
           "bdata": "onRY3yLJpUAIb4XzspSiQNBQaa4rn6xA7k29jjxjpUBQmhKSGwCSQGQtPoGYEpRAYnjlPJ6AoUBBNnDySGuyQH7SxPgLlY9A9GBi7wZgsUDNbrru2oamQBRjrBuzt4xADuci3OIuoEA=",
           "dtype": "f8",
           "shape": "13"
          },
          "bdata": "onRY3yLJpUAIb4XzspSiQNBQaa4rn6xA7k29jjxjpUBQmhKSGwCSQGQtPoGYEpRAYnjlPJ6AoUBBNnDySGuyQH7SxPgLlY9A9GBi7wZgsUDNbrru2oamQBRjrBuzt4xADuci3OIuoEA=",
          "dtype": "f8"
         },
         "yaxis": "y3"
        },
        {
         "bingroup": "x",
         "hovertemplate": "Region=West<br>Month=Jan<br>광고비=%{x}<br>count=%{y}<extra></extra>",
         "legendgroup": "West, Jan",
         "marker": {
          "color": "rgb(252,141,98)"
         },
         "name": "West, Jan",
         "opacity": 0.5,
         "showlegend": false,
         "type": "histogram",
         "x": {
          "_inputArray": {
           "0": 638.792635777333,
           "1": 646.7903667112945,
           "10": 898.4914683186939,
           "11": 207.63482134447153,
           "12": 544.4160367279517,
           "2": 187.90490260574546,
           "3": 130.94966900369656,
           "4": 945.5490474077702,
           "5": 756.1064512368886,
           "6": 166.64018656068134,
           "7": 422.61915568984534,
           "8": 660.9683141448021,
           "9": 157.20251525742128,
           "bdata": "RyptUVf2g0DbRsirUjaEQL43T/b0fGdA2hxAsGNeYECdovdyZIyNQHEoGwPaoIdA4q6GaHzUZEBK8MsP6Gl6QG+BfBu/p4RAGPJGAXumY0B8HvGG7hOMQNsp2nRQ9GlA5mMQC1QDgUA=",
           "dtype": "f8",
           "shape": "13"
          },
          "bdata": "RyptUVf2g0DbRsirUjaEQL43T/b0fGdA2hxAsGNeYECdovdyZIyNQHEoGwPaoIdA4q6GaHzUZEBK8MsP6Gl6QG+BfBu/p4RAGPJGAXumY0B8HvGG7hOMQNsp2nRQ9GlA5mMQC1QDgUA=",
          "dtype": "f8"
         },
         "xaxis": "x6",
         "yaxis": "y6"
        },
        {
         "customdata": [
          [
           "Feb"
          ],
          [
           "Feb"
          ],
          [
           "Feb"
          ],
          [
           "Feb"
          ],
          [
           "Feb"
          ],
          [
           "Feb"
          ],
          [
           "Feb"
          ],
          [
           "Feb"
          ],
          [
           "Feb"
          ],
          [
           "Feb"
          ],
          [
           "Feb"
          ],
          [
           "Feb"
          ],
          [
           "Feb"
          ],
          [
           "Feb"
          ]
         ],
         "hovertemplate": "<b>%{hovertext}</b><br><br>Region=South<br>Month=%{customdata[0]}<br>광고비=%{marker.size}<br>매출액=%{y}<extra></extra>",
         "hovertext": [
          "South",
          "South",
          "South",
          "South",
          "South",
          "South",
          "South",
          "South",
          "South",
          "South",
          "South",
          "South",
          "South",
          "South"
         ],
         "legendgroup": "South, Feb",
         "marker": {
          "color": "rgb(141,160,203)",
          "opacity": 0.7,
          "size": {
           "_inputArray": {
            "0": 437.0861069626262,
            "1": 265.06405886809046,
            "10": 104.96990541124217,
            "11": 397.80822236738425,
            "12": 756.6455605042577,
            "13": 570.4595464437946,
            "2": 362.93018368169635,
            "3": 279.70640394252376,
            "4": 562.8109945722504,
            "5": 141.80537144799794,
            "6": 592.0392514089517,
            "7": 266.36900997297437,
            "8": 276.38457617723066,
            "9": 821.9772826786357,
            "bdata": "AMexsWBRe0B6d5diBpFwQIrCSAjirnZAe244bk17cUBk6LjqfJaBQBHJV5rFuWFAKO4KY1CAgkAqXQB356VwQGyAWTknRnFAgL2UedGviUDoXyXuEj5aQPq8k3ru3HhAAiugGyqlh0C6mK8mrdOBQA==",
            "dtype": "f8",
            "shape": "14"
           },
           "bdata": "AMexsWBRe0B6d5diBpFwQIrCSAjirnZAe244bk17cUBk6LjqfJaBQBHJV5rFuWFAKO4KY1CAgkAqXQB356VwQGyAWTknRnFAgL2UedGviUDoXyXuEj5aQPq8k3ru3HhAAiugGyqlh0C6mK8mrdOBQA==",
           "dtype": "f8"
          },
          "sizemode": "area",
          "sizeref": 1.0979980477116285,
          "symbol": "circle"
         },
         "mode": "markers",
         "name": "South, Feb",
         "orientation": "v",
         "showlegend": true,
         "type": "scatter",
         "x": {
          "_inputArray": {
           "0": 437.0861069626262,
           "1": 265.06405886809046,
           "10": 104.96990541124217,
           "11": 397.80822236738425,
           "12": 756.6455605042577,
           "13": 570.4595464437946,
           "2": 362.93018368169635,
           "3": 279.70640394252376,
           "4": 562.8109945722504,
           "5": 141.80537144799794,
           "6": 592.0392514089517,
           "7": 266.36900997297437,
           "8": 276.38457617723066,
           "9": 821.9772826786357,
           "bdata": "AMexsWBRe0B6d5diBpFwQIrCSAjirnZAe244bk17cUBk6LjqfJaBQBHJV5rFuWFAKO4KY1CAgkAqXQB356VwQGyAWTknRnFAgL2UedGviUDoXyXuEj5aQPq8k3ru3HhAAiugGyqlh0C6mK8mrdOBQA==",
           "dtype": "f8",
           "shape": "14"
          },
          "bdata": "AMexsWBRe0B6d5diBpFwQIrCSAjirnZAe244bk17cUBk6LjqfJaBQBHJV5rFuWFAKO4KY1CAgkAqXQB356VwQGyAWTknRnFAgL2UedGviUDoXyXuEj5aQPq8k3ru3HhAAiugGyqlh0C6mK8mrdOBQA==",
          "dtype": "f8"
         },
         "xaxis": "x",
         "y": {
          "_inputArray": {
           "0": 641.4313355903041,
           "1": 4421.5726558447295,
           "10": 2804.418762346764,
           "11": 4661.121282253533,
           "12": 4177.499900905472,
           "13": 3766.800554916077,
           "2": 1931.0156373733873,
           "3": 4181.066446651219,
           "4": 4373.287624653545,
           "5": 2798.3628615990456,
           "6": 731.6543806249521,
           "7": 1753.9090890647515,
           "8": 3927.288268979229,
           "9": 1339.333296799344,
           "bdata": "qO8SYHMLhED6zJKZkkWxQC1dPgMQLJ5A6tGlAhFVsECA8MShSRWxQMDZ/si53KVAcbroKzzdhkAJaT7oomebQHvc/ZeTrq5ALZTBS1XtlEBMsARo1uilQIKQWgwfNbJAPniB+X9RsEBoflXimW2tQA==",
           "dtype": "f8",
           "shape": "14"
          },
          "bdata": "qO8SYHMLhED6zJKZkkWxQC1dPgMQLJ5A6tGlAhFVsECA8MShSRWxQMDZ/si53KVAcbroKzzdhkAJaT7oomebQHvc/ZeTrq5ALZTBS1XtlEBMsARo1uilQIKQWgwfNbJAPniB+X9RsEBoflXimW2tQA==",
          "dtype": "f8"
         },
         "yaxis": "y"
        },
        {
         "bingroup": "x",
         "hovertemplate": "Region=South<br>Month=Feb<br>광고비=%{x}<br>count=%{y}<extra></extra>",
         "legendgroup": "South, Feb",
         "marker": {
          "color": "rgb(141,160,203)"
         },
         "name": "South, Feb",
         "opacity": 0.5,
         "showlegend": false,
         "type": "histogram",
         "x": {
          "_inputArray": {
           "0": 437.0861069626262,
           "1": 265.06405886809046,
           "10": 104.96990541124217,
           "11": 397.80822236738425,
           "12": 756.6455605042577,
           "13": 570.4595464437946,
           "2": 362.93018368169635,
           "3": 279.70640394252376,
           "4": 562.8109945722504,
           "5": 141.80537144799794,
           "6": 592.0392514089517,
           "7": 266.36900997297437,
           "8": 276.38457617723066,
           "9": 821.9772826786357,
           "bdata": "AMexsWBRe0B6d5diBpFwQIrCSAjirnZAe244bk17cUBk6LjqfJaBQBHJV5rFuWFAKO4KY1CAgkAqXQB356VwQGyAWTknRnFAgL2UedGviUDoXyXuEj5aQPq8k3ru3HhAAiugGyqlh0C6mK8mrdOBQA==",
           "dtype": "f8",
           "shape": "14"
          },
          "bdata": "AMexsWBRe0B6d5diBpFwQIrCSAjirnZAe244bk17cUBk6LjqfJaBQBHJV5rFuWFAKO4KY1CAgkAqXQB356VwQGyAWTknRnFAgL2UedGviUDoXyXuEj5aQPq8k3ru3HhAAiugGyqlh0C6mK8mrdOBQA==",
          "dtype": "f8"
         },
         "xaxis": "x4",
         "yaxis": "y4"
        },
        {
         "customdata": [
          [
           "Mar"
          ],
          [
           "Mar"
          ],
          [
           "Mar"
          ],
          [
           "Mar"
          ],
          [
           "Mar"
          ],
          [
           "Mar"
          ],
          [
           "Mar"
          ]
         ],
         "hovertemplate": "<b>%{hovertext}</b><br><br>Region=South<br>Month=%{customdata[0]}<br>광고비=%{marker.size}<br>매출액=%{y}<extra></extra>",
         "hovertext": [
          "South",
          "South",
          "South",
          "South",
          "South",
          "South",
          "South"
         ],
         "legendgroup": "South, Mar",
         "marker": {
          "color": "rgb(141,160,203)",
          "opacity": 0.7,
          "size": {
           "_inputArray": {
            "0": 429.7256589643225,
            "1": 332.9019834400152,
            "2": 795.0202923669917,
            "3": 204.28215357261675,
            "4": 379.88408954409596,
            "5": 673.8017242196918,
            "6": 793.8704619591049,
            "bdata": "CP2STJzbekBiBjCGbs50QLRkC48p2IhA1drtZgeJaUAL6hM7Jb53QOY/Y+5pDoVAJHbCtPbOiEA=",
            "dtype": "f8",
            "shape": "7"
           },
           "bdata": "CP2STJzbekBiBjCGbs50QLRkC48p2IhA1drtZgeJaUAL6hM7Jb53QOY/Y+5pDoVAJHbCtPbOiEA=",
           "dtype": "f8"
          },
          "sizemode": "area",
          "sizeref": 1.0979980477116285,
          "symbol": "diamond"
         },
         "mode": "markers",
         "name": "South, Mar",
         "orientation": "v",
         "showlegend": true,
         "type": "scatter",
         "x": {
          "_inputArray": {
           "0": 429.7256589643225,
           "1": 332.9019834400152,
           "2": 795.0202923669917,
           "3": 204.28215357261675,
           "4": 379.88408954409596,
           "5": 673.8017242196918,
           "6": 793.8704619591049,
           "bdata": "CP2STJzbekBiBjCGbs50QLRkC48p2IhA1drtZgeJaUAL6hM7Jb53QOY/Y+5pDoVAJHbCtPbOiEA=",
           "dtype": "f8",
           "shape": "7"
          },
          "bdata": "CP2STJzbekBiBjCGbs50QLRkC48p2IhA1drtZgeJaUAL6hM7Jb53QOY/Y+5pDoVAJHbCtPbOiEA=",
          "dtype": "f8"
         },
         "xaxis": "x2",
         "y": {
          "_inputArray": {
           "0": 995.2336603745455,
           "1": 1781.7822246986043,
           "2": 3549.0396282902707,
           "3": 1118.8442486569697,
           "4": 1660.7373247182002,
           "5": 2998.4036521975804,
           "6": 2025.6340597191531,
           "bdata": "WphUid4Zj0CE6oL/INebQGvFKEoUuqtAgk24gmB7kUDPPEAF8/KZQCI3gKvObKdA5XXzRommn0A=",
           "dtype": "f8",
           "shape": "7"
          },
          "bdata": "WphUid4Zj0CE6oL/INebQGvFKEoUuqtAgk24gmB7kUDPPEAF8/KZQCI3gKvObKdA5XXzRommn0A=",
          "dtype": "f8"
         },
         "yaxis": "y2"
        },
        {
         "bingroup": "x",
         "hovertemplate": "Region=South<br>Month=Mar<br>광고비=%{x}<br>count=%{y}<extra></extra>",
         "legendgroup": "South, Mar",
         "marker": {
          "color": "rgb(141,160,203)"
         },
         "name": "South, Mar",
         "opacity": 0.5,
         "showlegend": false,
         "type": "histogram",
         "x": {
          "_inputArray": {
           "0": 429.7256589643225,
           "1": 332.9019834400152,
           "2": 795.0202923669917,
           "3": 204.28215357261675,
           "4": 379.88408954409596,
           "5": 673.8017242196918,
           "6": 793.8704619591049,
           "bdata": "CP2STJzbekBiBjCGbs50QLRkC48p2IhA1drtZgeJaUAL6hM7Jb53QOY/Y+5pDoVAJHbCtPbOiEA=",
           "dtype": "f8",
           "shape": "7"
          },
          "bdata": "CP2STJzbekBiBjCGbs50QLRkC48p2IhA1drtZgeJaUAL6hM7Jb53QOY/Y+5pDoVAJHbCtPbOiEA=",
          "dtype": "f8"
         },
         "xaxis": "x5",
         "yaxis": "y5"
        },
        {
         "customdata": [
          [
           "Jan"
          ],
          [
           "Jan"
          ],
          [
           "Jan"
          ],
          [
           "Jan"
          ],
          [
           "Jan"
          ],
          [
           "Jan"
          ],
          [
           "Jan"
          ],
          [
           "Jan"
          ],
          [
           "Jan"
          ]
         ],
         "hovertemplate": "<b>%{hovertext}</b><br><br>Region=South<br>Month=%{customdata[0]}<br>광고비=%{marker.size}<br>매출액=%{y}<extra></extra>",
         "hovertext": [
          "South",
          "South",
          "South",
          "South",
          "South",
          "South",
          "South",
          "South",
          "South"
         ],
         "legendgroup": "South, Jan",
         "marker": {
          "color": "rgb(141,160,203)",
          "opacity": 0.7,
          "size": {
           "_inputArray": {
            "0": 240.41677639819287,
            "1": 879.5585311974417,
            "2": 374.15239225603364,
            "3": 715.8097238609412,
            "4": 496.13724436564115,
            "5": 352.84105871864267,
            "6": 588.4264748424237,
            "7": 794.1433120173511,
            "8": 197.102284293974,
            "bdata": "df90O1YNbkB2VjTfd3yLQEC93DJwYndAROyAUHpehkDT3yUnMgJ/QGCp/Pl0DXZANmaka2ljgkAtXcWAJdGIQGkwtulFo2hA",
            "dtype": "f8",
            "shape": "9"
           },
           "bdata": "df90O1YNbkB2VjTfd3yLQEC93DJwYndAROyAUHpehkDT3yUnMgJ/QGCp/Pl0DXZANmaka2ljgkAtXcWAJdGIQGkwtulFo2hA",
           "dtype": "f8"
          },
          "sizemode": "area",
          "sizeref": 1.0979980477116285,
          "symbol": "square"
         },
         "mode": "markers",
         "name": "South, Jan",
         "orientation": "v",
         "showlegend": true,
         "type": "scatter",
         "x": {
          "_inputArray": {
           "0": 240.41677639819287,
           "1": 879.5585311974417,
           "2": 374.15239225603364,
           "3": 715.8097238609412,
           "4": 496.13724436564115,
           "5": 352.84105871864267,
           "6": 588.4264748424237,
           "7": 794.1433120173511,
           "8": 197.102284293974,
           "bdata": "df90O1YNbkB2VjTfd3yLQEC93DJwYndAROyAUHpehkDT3yUnMgJ/QGCp/Pl0DXZANmaka2ljgkAtXcWAJdGIQGkwtulFo2hA",
           "dtype": "f8",
           "shape": "9"
          },
          "bdata": "df90O1YNbkB2VjTfd3yLQEC93DJwYndAROyAUHpehkDT3yUnMgJ/QGCp/Pl0DXZANmaka2ljgkAtXcWAJdGIQGkwtulFo2hA",
          "dtype": "f8"
         },
         "xaxis": "x3",
         "y": {
          "_inputArray": {
           "0": 4584.049132667418,
           "1": 3899.980123443719,
           "2": 2834.5577978451474,
           "3": 2136.3332107068227,
           "4": 4873.019372244323,
           "5": 906.3039652448374,
           "6": 4258.861230151571,
           "7": 3609.2198214610967,
           "8": 4009.4399563593074,
           "bdata": "ul/1kwzosUCicb3S9XeuQGDdrZcdJaZA9gCYmqqwoEDRU5T1BAmzQJSNVIVuUoxAVEeUedyisEC9RHCMcDKsQMm99UHhUq9A",
           "dtype": "f8",
           "shape": "9"
          },
          "bdata": "ul/1kwzosUCicb3S9XeuQGDdrZcdJaZA9gCYmqqwoEDRU5T1BAmzQJSNVIVuUoxAVEeUedyisEC9RHCMcDKsQMm99UHhUq9A",
          "dtype": "f8"
         },
         "yaxis": "y3"
        },
        {
         "bingroup": "x",
         "hovertemplate": "Region=South<br>Month=Jan<br>광고비=%{x}<br>count=%{y}<extra></extra>",
         "legendgroup": "South, Jan",
         "marker": {
          "color": "rgb(141,160,203)"
         },
         "name": "South, Jan",
         "opacity": 0.5,
         "showlegend": false,
         "type": "histogram",
         "x": {
          "_inputArray": {
           "0": 240.41677639819287,
           "1": 879.5585311974417,
           "2": 374.15239225603364,
           "3": 715.8097238609412,
           "4": 496.13724436564115,
           "5": 352.84105871864267,
           "6": 588.4264748424237,
           "7": 794.1433120173511,
           "8": 197.102284293974,
           "bdata": "df90O1YNbkB2VjTfd3yLQEC93DJwYndAROyAUHpehkDT3yUnMgJ/QGCp/Pl0DXZANmaka2ljgkAtXcWAJdGIQGkwtulFo2hA",
           "dtype": "f8",
           "shape": "9"
          },
          "bdata": "df90O1YNbkB2VjTfd3yLQEC93DJwYndAROyAUHpehkDT3yUnMgJ/QGCp/Pl0DXZANmaka2ljgkAtXcWAJdGIQGkwtulFo2hA",
          "dtype": "f8"
         },
         "xaxis": "x6",
         "yaxis": "y6"
        }
       ],
       "layout": {
        "annotations": [
         {
          "font": {},
          "showarrow": false,
          "text": "Month=Feb",
          "x": 0.15999999999999998,
          "xanchor": "center",
          "xref": "paper",
          "y": 1,
          "yanchor": "bottom",
          "yref": "paper"
         },
         {
          "font": {},
          "showarrow": false,
          "text": "Month=Mar",
          "x": 0.49999999999999994,
          "xanchor": "center",
          "xref": "paper",
          "y": 1,
          "yanchor": "bottom",
          "yref": "paper"
         },
         {
          "font": {},
          "showarrow": false,
          "text": "Month=Jan",
          "x": 0.8399999999999999,
          "xanchor": "center",
          "xref": "paper",
          "y": 1,
          "yanchor": "bottom",
          "yref": "paper"
         }
        ],
        "barmode": "overlay",
        "height": 500,
        "legend": {
         "itemsizing": "constant",
         "title": {
          "text": "Region, Month"
         },
         "tracegroupgap": 0
        },
        "template": {
         "data": {
          "bar": [
           {
            "error_x": {
             "color": "#2a3f5f"
            },
            "error_y": {
             "color": "#2a3f5f"
            },
            "marker": {
             "line": {
              "color": "white",
              "width": 0.5
             },
             "pattern": {
              "fillmode": "overlay",
              "size": 10,
              "solidity": 0.2
             }
            },
            "type": "bar"
           }
          ],
          "barpolar": [
           {
            "marker": {
             "line": {
              "color": "white",
              "width": 0.5
             },
             "pattern": {
              "fillmode": "overlay",
              "size": 10,
              "solidity": 0.2
             }
            },
            "type": "barpolar"
           }
          ],
          "carpet": [
           {
            "aaxis": {
             "endlinecolor": "#2a3f5f",
             "gridcolor": "#C8D4E3",
             "linecolor": "#C8D4E3",
             "minorgridcolor": "#C8D4E3",
             "startlinecolor": "#2a3f5f"
            },
            "baxis": {
             "endlinecolor": "#2a3f5f",
             "gridcolor": "#C8D4E3",
             "linecolor": "#C8D4E3",
             "minorgridcolor": "#C8D4E3",
             "startlinecolor": "#2a3f5f"
            },
            "type": "carpet"
           }
          ],
          "choropleth": [
           {
            "colorbar": {
             "outlinewidth": 0,
             "ticks": ""
            },
            "type": "choropleth"
           }
          ],
          "contour": [
           {
            "colorbar": {
             "outlinewidth": 0,
             "ticks": ""
            },
            "colorscale": [
             [
              0,
              "#0d0887"
             ],
             [
              0.1111111111111111,
              "#46039f"
             ],
             [
              0.2222222222222222,
              "#7201a8"
             ],
             [
              0.3333333333333333,
              "#9c179e"
             ],
             [
              0.4444444444444444,
              "#bd3786"
             ],
             [
              0.5555555555555556,
              "#d8576b"
             ],
             [
              0.6666666666666666,
              "#ed7953"
             ],
             [
              0.7777777777777778,
              "#fb9f3a"
             ],
             [
              0.8888888888888888,
              "#fdca26"
             ],
             [
              1,
              "#f0f921"
             ]
            ],
            "type": "contour"
           }
          ],
          "contourcarpet": [
           {
            "colorbar": {
             "outlinewidth": 0,
             "ticks": ""
            },
            "type": "contourcarpet"
           }
          ],
          "heatmap": [
           {
            "colorbar": {
             "outlinewidth": 0,
             "ticks": ""
            },
            "colorscale": [
             [
              0,
              "#0d0887"
             ],
             [
              0.1111111111111111,
              "#46039f"
             ],
             [
              0.2222222222222222,
              "#7201a8"
             ],
             [
              0.3333333333333333,
              "#9c179e"
             ],
             [
              0.4444444444444444,
              "#bd3786"
             ],
             [
              0.5555555555555556,
              "#d8576b"
             ],
             [
              0.6666666666666666,
              "#ed7953"
             ],
             [
              0.7777777777777778,
              "#fb9f3a"
             ],
             [
              0.8888888888888888,
              "#fdca26"
             ],
             [
              1,
              "#f0f921"
             ]
            ],
            "type": "heatmap"
           }
          ],
          "histogram": [
           {
            "marker": {
             "pattern": {
              "fillmode": "overlay",
              "size": 10,
              "solidity": 0.2
             }
            },
            "type": "histogram"
           }
          ],
          "histogram2d": [
           {
            "colorbar": {
             "outlinewidth": 0,
             "ticks": ""
            },
            "colorscale": [
             [
              0,
              "#0d0887"
             ],
             [
              0.1111111111111111,
              "#46039f"
             ],
             [
              0.2222222222222222,
              "#7201a8"
             ],
             [
              0.3333333333333333,
              "#9c179e"
             ],
             [
              0.4444444444444444,
              "#bd3786"
             ],
             [
              0.5555555555555556,
              "#d8576b"
             ],
             [
              0.6666666666666666,
              "#ed7953"
             ],
             [
              0.7777777777777778,
              "#fb9f3a"
             ],
             [
              0.8888888888888888,
              "#fdca26"
             ],
             [
              1,
              "#f0f921"
             ]
            ],
            "type": "histogram2d"
           }
          ],
          "histogram2dcontour": [
           {
            "colorbar": {
             "outlinewidth": 0,
             "ticks": ""
            },
            "colorscale": [
             [
              0,
              "#0d0887"
             ],
             [
              0.1111111111111111,
              "#46039f"
             ],
             [
              0.2222222222222222,
              "#7201a8"
             ],
             [
              0.3333333333333333,
              "#9c179e"
             ],
             [
              0.4444444444444444,
              "#bd3786"
             ],
             [
              0.5555555555555556,
              "#d8576b"
             ],
             [
              0.6666666666666666,
              "#ed7953"
             ],
             [
              0.7777777777777778,
              "#fb9f3a"
             ],
             [
              0.8888888888888888,
              "#fdca26"
             ],
             [
              1,
              "#f0f921"
             ]
            ],
            "type": "histogram2dcontour"
           }
          ],
          "mesh3d": [
           {
            "colorbar": {
             "outlinewidth": 0,
             "ticks": ""
            },
            "type": "mesh3d"
           }
          ],
          "parcoords": [
           {
            "line": {
             "colorbar": {
              "outlinewidth": 0,
              "ticks": ""
             }
            },
            "type": "parcoords"
           }
          ],
          "pie": [
           {
            "automargin": true,
            "type": "pie"
           }
          ],
          "scatter": [
           {
            "fillpattern": {
             "fillmode": "overlay",
             "size": 10,
             "solidity": 0.2
            },
            "type": "scatter"
           }
          ],
          "scatter3d": [
           {
            "line": {
             "colorbar": {
              "outlinewidth": 0,
              "ticks": ""
             }
            },
            "marker": {
             "colorbar": {
              "outlinewidth": 0,
              "ticks": ""
             }
            },
            "type": "scatter3d"
           }
          ],
          "scattercarpet": [
           {
            "marker": {
             "colorbar": {
              "outlinewidth": 0,
              "ticks": ""
             }
            },
            "type": "scattercarpet"
           }
          ],
          "scattergeo": [
           {
            "marker": {
             "colorbar": {
              "outlinewidth": 0,
              "ticks": ""
             }
            },
            "type": "scattergeo"
           }
          ],
          "scattergl": [
           {
            "marker": {
             "colorbar": {
              "outlinewidth": 0,
              "ticks": ""
             }
            },
            "type": "scattergl"
           }
          ],
          "scattermap": [
           {
            "marker": {
             "colorbar": {
              "outlinewidth": 0,
              "ticks": ""
             }
            },
            "type": "scattermap"
           }
          ],
          "scattermapbox": [
           {
            "marker": {
             "colorbar": {
              "outlinewidth": 0,
              "ticks": ""
             }
            },
            "type": "scattermapbox"
           }
          ],
          "scatterpolar": [
           {
            "marker": {
             "colorbar": {
              "outlinewidth": 0,
              "ticks": ""
             }
            },
            "type": "scatterpolar"
           }
          ],
          "scatterpolargl": [
           {
            "marker": {
             "colorbar": {
              "outlinewidth": 0,
              "ticks": ""
             }
            },
            "type": "scatterpolargl"
           }
          ],
          "scatterternary": [
           {
            "marker": {
             "colorbar": {
              "outlinewidth": 0,
              "ticks": ""
             }
            },
            "type": "scatterternary"
           }
          ],
          "surface": [
           {
            "colorbar": {
             "outlinewidth": 0,
             "ticks": ""
            },
            "colorscale": [
             [
              0,
              "#0d0887"
             ],
             [
              0.1111111111111111,
              "#46039f"
             ],
             [
              0.2222222222222222,
              "#7201a8"
             ],
             [
              0.3333333333333333,
              "#9c179e"
             ],
             [
              0.4444444444444444,
              "#bd3786"
             ],
             [
              0.5555555555555556,
              "#d8576b"
             ],
             [
              0.6666666666666666,
              "#ed7953"
             ],
             [
              0.7777777777777778,
              "#fb9f3a"
             ],
             [
              0.8888888888888888,
              "#fdca26"
             ],
             [
              1,
              "#f0f921"
             ]
            ],
            "type": "surface"
           }
          ],
          "table": [
           {
            "cells": {
             "fill": {
              "color": "#EBF0F8"
             },
             "line": {
              "color": "white"
             }
            },
            "header": {
             "fill": {
              "color": "#C8D4E3"
             },
             "line": {
              "color": "white"
             }
            },
            "type": "table"
           }
          ]
         },
         "layout": {
          "annotationdefaults": {
           "arrowcolor": "#2a3f5f",
           "arrowhead": 0,
           "arrowwidth": 1
          },
          "autotypenumbers": "strict",
          "coloraxis": {
           "colorbar": {
            "outlinewidth": 0,
            "ticks": ""
           }
          },
          "colorscale": {
           "diverging": [
            [
             0,
             "#8e0152"
            ],
            [
             0.1,
             "#c51b7d"
            ],
            [
             0.2,
             "#de77ae"
            ],
            [
             0.3,
             "#f1b6da"
            ],
            [
             0.4,
             "#fde0ef"
            ],
            [
             0.5,
             "#f7f7f7"
            ],
            [
             0.6,
             "#e6f5d0"
            ],
            [
             0.7,
             "#b8e186"
            ],
            [
             0.8,
             "#7fbc41"
            ],
            [
             0.9,
             "#4d9221"
            ],
            [
             1,
             "#276419"
            ]
           ],
           "sequential": [
            [
             0,
             "#0d0887"
            ],
            [
             0.1111111111111111,
             "#46039f"
            ],
            [
             0.2222222222222222,
             "#7201a8"
            ],
            [
             0.3333333333333333,
             "#9c179e"
            ],
            [
             0.4444444444444444,
             "#bd3786"
            ],
            [
             0.5555555555555556,
             "#d8576b"
            ],
            [
             0.6666666666666666,
             "#ed7953"
            ],
            [
             0.7777777777777778,
             "#fb9f3a"
            ],
            [
             0.8888888888888888,
             "#fdca26"
            ],
            [
             1,
             "#f0f921"
            ]
           ],
           "sequentialminus": [
            [
             0,
             "#0d0887"
            ],
            [
             0.1111111111111111,
             "#46039f"
            ],
            [
             0.2222222222222222,
             "#7201a8"
            ],
            [
             0.3333333333333333,
             "#9c179e"
            ],
            [
             0.4444444444444444,
             "#bd3786"
            ],
            [
             0.5555555555555556,
             "#d8576b"
            ],
            [
             0.6666666666666666,
             "#ed7953"
            ],
            [
             0.7777777777777778,
             "#fb9f3a"
            ],
            [
             0.8888888888888888,
             "#fdca26"
            ],
            [
             1,
             "#f0f921"
            ]
           ]
          },
          "colorway": [
           "#636efa",
           "#EF553B",
           "#00cc96",
           "#ab63fa",
           "#FFA15A",
           "#19d3f3",
           "#FF6692",
           "#B6E880",
           "#FF97FF",
           "#FECB52"
          ],
          "font": {
           "color": "#2a3f5f"
          },
          "geo": {
           "bgcolor": "white",
           "lakecolor": "white",
           "landcolor": "white",
           "showlakes": true,
           "showland": true,
           "subunitcolor": "#C8D4E3"
          },
          "hoverlabel": {
           "align": "left"
          },
          "hovermode": "closest",
          "mapbox": {
           "style": "light"
          },
          "paper_bgcolor": "white",
          "plot_bgcolor": "white",
          "polar": {
           "angularaxis": {
            "gridcolor": "#EBF0F8",
            "linecolor": "#EBF0F8",
            "ticks": ""
           },
           "bgcolor": "white",
           "radialaxis": {
            "gridcolor": "#EBF0F8",
            "linecolor": "#EBF0F8",
            "ticks": ""
           }
          },
          "scene": {
           "xaxis": {
            "backgroundcolor": "white",
            "gridcolor": "#DFE8F3",
            "gridwidth": 2,
            "linecolor": "#EBF0F8",
            "showbackground": true,
            "ticks": "",
            "zerolinecolor": "#EBF0F8"
           },
           "yaxis": {
            "backgroundcolor": "white",
            "gridcolor": "#DFE8F3",
            "gridwidth": 2,
            "linecolor": "#EBF0F8",
            "showbackground": true,
            "ticks": "",
            "zerolinecolor": "#EBF0F8"
           },
           "zaxis": {
            "backgroundcolor": "white",
            "gridcolor": "#DFE8F3",
            "gridwidth": 2,
            "linecolor": "#EBF0F8",
            "showbackground": true,
            "ticks": "",
            "zerolinecolor": "#EBF0F8"
           }
          },
          "shapedefaults": {
           "line": {
            "color": "#2a3f5f"
           }
          },
          "ternary": {
           "aaxis": {
            "gridcolor": "#DFE8F3",
            "linecolor": "#A2B1C6",
            "ticks": ""
           },
           "baxis": {
            "gridcolor": "#DFE8F3",
            "linecolor": "#A2B1C6",
            "ticks": ""
           },
           "bgcolor": "white",
           "caxis": {
            "gridcolor": "#DFE8F3",
            "linecolor": "#A2B1C6",
            "ticks": ""
           }
          },
          "title": {
           "x": 0.05
          },
          "xaxis": {
           "automargin": true,
           "gridcolor": "#EBF0F8",
           "linecolor": "#EBF0F8",
           "ticks": "",
           "title": {
            "standoff": 15
           },
           "zerolinecolor": "#EBF0F8",
           "zerolinewidth": 2
          },
          "yaxis": {
           "automargin": true,
           "gridcolor": "#EBF0F8",
           "linecolor": "#EBF0F8",
           "ticks": "",
           "title": {
            "standoff": 15
           },
           "zerolinecolor": "#EBF0F8",
           "zerolinewidth": 2
          }
         }
        },
        "title": {
         "text": "광고비와 매출의 관계 (Region별 비교)"
        },
        "width": 900,
        "xaxis": {
         "anchor": "y",
         "domain": [
          0,
          0.31999999999999995
         ],
         "range": [
          0,
          1200
         ],
         "title": {
          "text": "광고비"
         },
         "type": "linear"
        },
        "xaxis2": {
         "anchor": "y2",
         "domain": [
          0.33999999999999997,
          0.6599999999999999
         ],
         "matches": "x",
         "range": [
          0,
          1200
         ],
         "title": {
          "text": "광고비"
         },
         "type": "linear"
        },
        "xaxis3": {
         "anchor": "y3",
         "domain": [
          0.6799999999999999,
          0.9999999999999999
         ],
         "matches": "x",
         "range": [
          0,
          1200
         ],
         "title": {
          "text": "광고비"
         },
         "type": "linear"
        },
        "xaxis4": {
         "anchor": "y4",
         "domain": [
          0,
          0.31999999999999995
         ],
         "matches": "x",
         "showgrid": true,
         "showticklabels": false,
         "type": "linear"
        },
        "xaxis5": {
         "anchor": "y5",
         "domain": [
          0.33999999999999997,
          0.6599999999999999
         ],
         "matches": "x",
         "showgrid": true,
         "showticklabels": false,
         "type": "linear"
        },
        "xaxis6": {
         "anchor": "y6",
         "domain": [
          0.6799999999999999,
          0.9999999999999999
         ],
         "matches": "x",
         "showgrid": true,
         "showticklabels": false,
         "type": "linear"
        },
        "yaxis": {
         "anchor": "x",
         "domain": [
          0,
          0.7326
         ],
         "range": [
          0,
          6000
         ],
         "title": {
          "text": "매출액"
         },
         "type": "linear"
        },
        "yaxis2": {
         "anchor": "x2",
         "domain": [
          0,
          0.7326
         ],
         "matches": "y",
         "showticklabels": false,
         "type": "linear"
        },
        "yaxis3": {
         "anchor": "x3",
         "domain": [
          0,
          0.7326
         ],
         "matches": "y",
         "showticklabels": false,
         "type": "linear"
        },
        "yaxis4": {
         "anchor": "x4",
         "domain": [
          0.7426,
          1
         ],
         "matches": "y4",
         "showgrid": true,
         "showline": false,
         "showticklabels": false,
         "ticks": ""
        },
        "yaxis5": {
         "anchor": "x5",
         "domain": [
          0.7426,
          1
         ],
         "matches": "y4",
         "showgrid": true,
         "showline": false,
         "showticklabels": false,
         "ticks": ""
        },
        "yaxis6": {
         "anchor": "x6",
         "domain": [
          0.7426,
          1
         ],
         "matches": "y4",
         "showgrid": true,
         "showline": false,
         "showticklabels": false,
         "ticks": ""
        }
       }
      },
      "image/png": "[encoded data removed]"
     },
     "metadata": {},
     "output_type": "display_data"
    }
   ],
   "source": [
    "import plotly.express as px\n",
    "import pandas as pd\n",
    "import numpy as np\n",
    "\n",
    "#-------------------------------------------------------\n",
    "# 1. 예제 데이터 준비\n",
    "#-------------------------------------------------------\n",
    "np.random.seed(42)\n",
    "df = pd.DataFrame({\n",
    "    'Ad_Spend': np.random.uniform(100, 1000, 100),\n",
    "    'Sales': np.random.uniform(500, 5000, 100),\n",
    "    'Region': np.random.choice(['East', 'West', 'South'], 100),\n",
    "    'Month': np.random.choice(['Jan', 'Feb', 'Mar'], 100)\n",
    "})\n",
    "\n",
    "#-------------------------------------------------------\n",
    "# 2. Plotly Express 대화형 산점도\n",
    "#-------------------------------------------------------\n",
    "fig = px.scatter(\n",
    "    data_frame=df,               # 사용할 DataFrame\n",
    "    x=\"Ad_Spend\",                # X축 변수\n",
    "    y=\"Sales\",                   # Y축 변수\n",
    "    color=\"Region\",              # 점 색상 구분 기준 (범주형)\n",
    "    symbol=\"Month\",              # 마커 모양 구분 기준\n",
    "    size=\"Ad_Spend\",             # 점 크기 기준 변수 (수치형)\n",
    "    size_max=30,                 # 최대 점 크기\n",
    "    hover_name=\"Region\",         # 마우스 오버 시 표시할 이름\n",
    "    hover_data=[\"Ad_Spend\", \"Sales\", \"Month\"],  # 툴팁에 표시할 추가 데이터\n",
    "    text=None,                   # 점 위에 텍스트 라벨 표시할 변수\n",
    "    facet_col=\"Month\",           # 컬럼(열) 방향으로 서브플롯 분할\n",
    "    facet_row=None,              # 행 방향으로 서브플롯 분할\n",
    "    trendline=None,              # 회귀선 추가 ('ols', 'lowess' 가능)\n",
    "    trendline_color_override=None,  # 회귀선 색상 지정\n",
    "    opacity=0.7,                 # 점 투명도 (0~1)\n",
    "    color_discrete_sequence=px.colors.qualitative.Set2,  # 색상 팔레트\n",
    "    title=\"광고비와 매출의 관계 (Region별 비교)\",  # 그래프 제목\n",
    "    labels={\"Ad_Spend\": \"광고비\", \"Sales\": \"매출액\"},  # 축 이름 또는 범례명 변경\n",
    "    template=\"plotly_white\",     # 그래프 테마 ('plotly_dark', 'simple_white' 등)\n",
    "    width=900,                   # 그래프 가로 크기 (픽셀)\n",
    "    height=500,                  # 그래프 세로 크기 (픽셀)\n",
    "    log_x=False,                 # X축 로그 스케일 여부\n",
    "    log_y=False,                 # Y축 로그 스케일 여부\n",
    "    marginal_x=\"histogram\",      # X축 주변부 보조 그래프 ('box', 'violin', 'histogram')\n",
    "    marginal_y=\"box\",            # Y축 주변부 보조 그래프\n",
    "    animation_frame=None,        # 애니메이션 기준 변수 (프레임 단위)\n",
    "    animation_group=None,        # 애니메이션 그룹 변수\n",
    "    range_x=[0, 1200],           # X축 표시 범위\n",
    "    range_y=[0, 6000],           # Y축 표시 범위\n",
    "    category_orders={\"Region\": [\"East\", \"West\", \"South\"]}  # 범주 순서 지정\n",
    ")\n",
    "\n",
    "#-------------------------------------------------------\n",
    "# 3. 그래프 출력\n",
    "#-------------------------------------------------------\n",
    "fig.show()\n"
   ]
  },
  {
   "cell_type": "code",
   "execution_count": 7,
   "id": "800964a1-6cc1-4b05-9664-43be6b7bd410",
   "metadata": {},
   "outputs": [
    {
     "data": {
      "application/vnd.plotly.v1+json": {
       "config": {
        "plotlyServerURL": "https://plot.ly"
       },
       "data": [
        {
         "alignmentgroup": "True",
         "hovertemplate": "smoker=No<br>day=%{x}<br>total_bill=%{y}<extra></extra>",
         "legendgroup": "No",
         "marker": {
          "color": "#636efa"
         },
         "name": "No",
         "notched": false,
         "offsetgroup": "No",
         "orientation": "v",
         "showlegend": true,
         "type": "box",
         "x": [
          "Sun",
          "Sun",
          "Sun",
          "Sun",
          "Sun",
          "Sun",
          "Sun",
          "Sun",
          "Sun",
          "Sun",
          "Sun",
          "Sun",
          "Sun",
          "Sun",
          "Sun",
          "Sun",
          "Sun",
          "Sun",
          "Sun",
          "Sat",
          "Sat",
          "Sat",
          "Sat",
          "Sat",
          "Sat",
          "Sat",
          "Sat",
          "Sat",
          "Sat",
          "Sat",
          "Sat",
          "Sat",
          "Sat",
          "Sat",
          "Sat",
          "Sat",
          "Sat",
          "Sat",
          "Sat",
          "Sat",
          "Sat",
          "Sun",
          "Sun",
          "Sun",
          "Sun",
          "Sun",
          "Sun",
          "Sun",
          "Sun",
          "Sun",
          "Sun",
          "Sun",
          "Sun",
          "Sun",
          "Sun",
          "Sun",
          "Sat",
          "Sat",
          "Sat",
          "Sat",
          "Sat",
          "Sat",
          "Sat",
          "Sat",
          "Sat",
          "Sat",
          "Thur",
          "Thur",
          "Thur",
          "Thur",
          "Thur",
          "Thur",
          "Thur",
          "Thur",
          "Thur",
          "Thur",
          "Thur",
          "Fri",
          "Fri",
          "Fri",
          "Sat",
          "Sat",
          "Sat",
          "Sat",
          "Sun",
          "Sun",
          "Sun",
          "Sun",
          "Sun",
          "Thur",
          "Thur",
          "Thur",
          "Thur",
          "Thur",
          "Thur",
          "Thur",
          "Thur",
          "Thur",
          "Thur",
          "Thur",
          "Thur",
          "Thur",
          "Thur",
          "Thur",
          "Thur",
          "Thur",
          "Thur",
          "Thur",
          "Thur",
          "Thur",
          "Thur",
          "Thur",
          "Thur",
          "Thur",
          "Thur",
          "Thur",
          "Thur",
          "Thur",
          "Thur",
          "Thur",
          "Thur",
          "Sun",
          "Sun",
          "Sun",
          "Sun",
          "Sun",
          "Sun",
          "Sun",
          "Sun",
          "Sun",
          "Sun",
          "Sun",
          "Sun",
          "Sun",
          "Sun",
          "Sun",
          "Sun",
          "Sun",
          "Sun",
          "Thur",
          "Sat",
          "Fri",
          "Sat",
          "Sat",
          "Sat",
          "Sat",
          "Sat",
          "Sat",
          "Sat",
          "Sat",
          "Thur"
         ],
         "x0": " ",
         "xaxis": "x",
         "y": {
          "_inputArray": {
           "0": 16.99,
           "1": 10.34,
           "10": 10.27,
           "100": 11.38,
           "101": 22.82,
           "102": 19.08,
           "103": 20.27,
           "104": 11.17,
           "105": 12.26,
           "106": 18.26,
           "107": 8.51,
           "108": 10.33,
           "109": 14.15,
           "11": 35.26,
           "110": 13.16,
           "111": 17.47,
           "112": 34.3,
           "113": 41.19,
           "114": 27.05,
           "115": 16.43,
           "116": 8.35,
           "117": 18.64,
           "118": 11.87,
           "119": 9.78,
           "12": 15.42,
           "120": 7.51,
           "121": 14.07,
           "122": 13.13,
           "123": 17.26,
           "124": 24.55,
           "125": 19.77,
           "126": 29.85,
           "127": 48.17,
           "128": 25,
           "129": 13.39,
           "13": 18.43,
           "130": 16.49,
           "131": 21.5,
           "132": 12.66,
           "133": 16.21,
           "134": 13.81,
           "135": 24.52,
           "136": 20.76,
           "137": 31.71,
           "138": 20.69,
           "139": 7.56,
           "14": 14.83,
           "140": 48.33,
           "141": 15.98,
           "142": 20.45,
           "143": 13.28,
           "144": 11.61,
           "145": 10.77,
           "146": 10.07,
           "147": 35.83,
           "148": 29.03,
           "149": 17.82,
           "15": 21.58,
           "150": 18.78,
           "16": 10.33,
           "17": 16.29,
           "18": 16.97,
           "19": 20.65,
           "2": 21.01,
           "20": 17.92,
           "21": 20.29,
           "22": 15.77,
           "23": 39.42,
           "24": 19.82,
           "25": 17.81,
           "26": 13.37,
           "27": 12.69,
           "28": 21.7,
           "29": 19.65,
           "3": 23.68,
           "30": 9.55,
           "31": 18.35,
           "32": 15.06,
           "33": 20.69,
           "34": 17.78,
           "35": 24.06,
           "36": 16.31,
           "37": 16.93,
           "38": 18.69,
           "39": 31.27,
           "4": 24.59,
           "40": 16.04,
           "41": 17.46,
           "42": 13.94,
           "43": 9.68,
           "44": 30.4,
           "45": 18.29,
           "46": 22.23,
           "47": 32.4,
           "48": 28.55,
           "49": 18.04,
           "5": 25.29,
           "50": 12.54,
           "51": 10.29,
           "52": 34.81,
           "53": 9.94,
           "54": 25.56,
           "55": 19.49,
           "56": 26.41,
           "57": 48.27,
           "58": 17.59,
           "59": 20.08,
           "6": 8.77,
           "60": 16.45,
           "61": 20.23,
           "62": 12.02,
           "63": 17.07,
           "64": 14.73,
           "65": 10.51,
           "66": 27.2,
           "67": 22.76,
           "68": 17.29,
           "69": 16.66,
           "7": 26.88,
           "70": 10.07,
           "71": 15.98,
           "72": 34.83,
           "73": 13.03,
           "74": 18.28,
           "75": 24.71,
           "76": 21.16,
           "77": 22.49,
           "78": 22.75,
           "79": 12.46,
           "8": 15.04,
           "80": 20.92,
           "81": 18.24,
           "82": 14,
           "83": 7.25,
           "84": 38.07,
           "85": 23.95,
           "86": 25.71,
           "87": 17.31,
           "88": 29.93,
           "89": 10.65,
           "9": 14.78,
           "90": 12.43,
           "91": 24.08,
           "92": 11.69,
           "93": 13.42,
           "94": 14.26,
           "95": 15.95,
           "96": 12.48,
           "97": 29.8,
           "98": 8.52,
           "99": 14.52,
           "bdata": "PQrXo3D9MECuR+F6FK4kQMP1KFyPAjVArkfhehSuN0DXo3A9Cpc4QArXo3A9SjlACtejcD2KIUDhehSuR+E6QBSuR+F6FC5Aj8L1KFyPLUAK16NwPYokQOF6FK5HoUFA16NwPQrXLkCuR+F6FG4yQClcj8L1qC1AFK5H4XqUNUApXI/C9agkQArXo3A9SjBAuB6F61H4MEBmZmZmZqY0QOxRuB6F6zFACtejcD1KNEAK16NwPYovQPYoXI/CtUNAUrgehevRM0CPwvUoXM8xQD0K16NwvSpA4XoUrkdhKUAzMzMzM7M1QGZmZmZmpjNAmpmZmZkZI0CamZmZmVkyQB+F61G4Hi5AcT0K16OwNEBI4XoUrscxQI/C9ShcDzhAj8L1KFxPMECuR+F6FO4wQHE9CtejsDJAhetRuB5FP0AK16NwPQowQPYoXI/CdTFA4XoUrkfhK0Bcj8L1KFwjQGZmZmZmZj5ACtejcD1KMkB7FK5H4To2QDMzMzMzM0BAzczMzMyMPEAK16NwPQoyQBSuR+F6FClAFK5H4XqUJEBI4XoUrmdBQOF6FK5H4SNAj8L1KFyPOUA9CtejcH0zQClcj8L1aDpAw/UoXI8iSEDXo3A9CpcxQBSuR+F6FDRAMzMzMzNzMEB7FK5H4To0QArXo3A9CihAUrgehesRMUD2KFyPwnUtQIXrUbgeBSVAMzMzMzMzO0DD9Shcj8I2QArXo3A9SjFAKVyPwvWoMECkcD0K1yMkQPYoXI/C9S9ACtejcD1qQUCPwvUoXA8qQEjhehSuRzJA9ihcj8K1OEApXI/C9Sg1QD0K16NwfTZAAAAAAADANkDsUbgehesoQOxRuB6F6zRAPQrXo3A9MkAAAAAAAAAsQAAAAAAAAB1AKVyPwvUIQ0AzMzMzM/M3QPYoXI/CtTlAj8L1KFxPMUCuR+F6FO49QM3MzMzMTCVAXI/C9SjcKEAUrkfhehQ4QOF6FK5HYSdA16NwPQrXKkCF61G4HoUsQGZmZmZm5i9A9ihcj8L1KEDNzMzMzMw9QArXo3A9CiFACtejcD0KLUDD9Shcj8ImQFK4HoXr0TZAFK5H4XoUM0CF61G4HkU0QNejcD0KVyZAhetRuB6FKEDD9Shcj0IyQIXrUbgeBSFAKVyPwvWoJEDNzMzMzEwsQFK4HoXrUSpAuB6F61F4MUBmZmZmZiZBQLgehetRmERAzczMzMwMO0CuR+F6FG4wQDMzMzMzsyBApHA9CtejMkA9CtejcL0nQI/C9ShcjyNACtejcD0KHkCkcD0K1yMsQMP1KFyPQipAw/UoXI9CMUDNzMzMzIw4QIXrUbgexTNAmpmZmZnZPUD2KFyPwhVIQAAAAAAAADlASOF6FK7HKkA9CtejcH0wQAAAAAAAgDVAUrgehetRKUD2KFyPwjUwQB+F61G4nitAhetRuB6FOEDD9Shcj8I0QPYoXI/CtT9AcT0K16OwNEA9CtejcD0eQArXo3A9KkhA9ihcj8L1L0AzMzMzM3M0QI/C9ShcjypAuB6F61E4J0AK16NwPYolQKRwPQrXIyRACtejcD3qQUBI4XoUrgc9QFK4HoXr0TFASOF6FK7HMkA=",
           "dtype": "f8",
           "shape": "151"
          },
          "bdata": "PQrXo3D9MECuR+F6FK4kQMP1KFyPAjVArkfhehSuN0DXo3A9Cpc4QArXo3A9SjlACtejcD2KIUDhehSuR+E6QBSuR+F6FC5Aj8L1KFyPLUAK16NwPYokQOF6FK5HoUFA16NwPQrXLkCuR+F6FG4yQClcj8L1qC1AFK5H4XqUNUApXI/C9agkQArXo3A9SjBAuB6F61H4MEBmZmZmZqY0QOxRuB6F6zFACtejcD1KNEAK16NwPYovQPYoXI/CtUNAUrgehevRM0CPwvUoXM8xQD0K16NwvSpA4XoUrkdhKUAzMzMzM7M1QGZmZmZmpjNAmpmZmZkZI0CamZmZmVkyQB+F61G4Hi5AcT0K16OwNEBI4XoUrscxQI/C9ShcDzhAj8L1KFxPMECuR+F6FO4wQHE9CtejsDJAhetRuB5FP0AK16NwPQowQPYoXI/CdTFA4XoUrkfhK0Bcj8L1KFwjQGZmZmZmZj5ACtejcD1KMkB7FK5H4To2QDMzMzMzM0BAzczMzMyMPEAK16NwPQoyQBSuR+F6FClAFK5H4XqUJEBI4XoUrmdBQOF6FK5H4SNAj8L1KFyPOUA9CtejcH0zQClcj8L1aDpAw/UoXI8iSEDXo3A9CpcxQBSuR+F6FDRAMzMzMzNzMEB7FK5H4To0QArXo3A9CihAUrgehesRMUD2KFyPwnUtQIXrUbgeBSVAMzMzMzMzO0DD9Shcj8I2QArXo3A9SjFAKVyPwvWoMECkcD0K1yMkQPYoXI/C9S9ACtejcD1qQUCPwvUoXA8qQEjhehSuRzJA9ihcj8K1OEApXI/C9Sg1QD0K16NwfTZAAAAAAADANkDsUbgehesoQOxRuB6F6zRAPQrXo3A9MkAAAAAAAAAsQAAAAAAAAB1AKVyPwvUIQ0AzMzMzM/M3QPYoXI/CtTlAj8L1KFxPMUCuR+F6FO49QM3MzMzMTCVAXI/C9SjcKEAUrkfhehQ4QOF6FK5HYSdA16NwPQrXKkCF61G4HoUsQGZmZmZm5i9A9ihcj8L1KEDNzMzMzMw9QArXo3A9CiFACtejcD0KLUDD9Shcj8ImQFK4HoXr0TZAFK5H4XoUM0CF61G4HkU0QNejcD0KVyZAhetRuB6FKEDD9Shcj0IyQIXrUbgeBSFAKVyPwvWoJEDNzMzMzEwsQFK4HoXrUSpAuB6F61F4MUBmZmZmZiZBQLgehetRmERAzczMzMwMO0CuR+F6FG4wQDMzMzMzsyBApHA9CtejMkA9CtejcL0nQI/C9ShcjyNACtejcD0KHkCkcD0K1yMsQMP1KFyPQipAw/UoXI9CMUDNzMzMzIw4QIXrUbgexTNAmpmZmZnZPUD2KFyPwhVIQAAAAAAAADlASOF6FK7HKkA9CtejcH0wQAAAAAAAgDVAUrgehetRKUD2KFyPwjUwQB+F61G4nitAhetRuB6FOEDD9Shcj8I0QPYoXI/CtT9AcT0K16OwNEA9CtejcD0eQArXo3A9KkhA9ihcj8L1L0AzMzMzM3M0QI/C9ShcjypAuB6F61E4J0AK16NwPYolQKRwPQrXIyRACtejcD3qQUBI4XoUrgc9QFK4HoXr0TFASOF6FK7HMkA=",
          "dtype": "f8"
         },
         "y0": " ",
         "yaxis": "y"
        },
        {
         "alignmentgroup": "True",
         "hovertemplate": "smoker=Yes<br>day=%{x}<br>total_bill=%{y}<extra></extra>",
         "legendgroup": "Yes",
         "marker": {
          "color": "#EF553B"
         },
         "name": "Yes",
         "notched": false,
         "offsetgroup": "Yes",
         "orientation": "v",
         "showlegend": true,
         "type": "box",
         "x": [
          "Sat",
          "Sat",
          "Sat",
          "Sat",
          "Sat",
          "Sat",
          "Sat",
          "Sat",
          "Sat",
          "Sat",
          "Sat",
          "Thur",
          "Thur",
          "Fri",
          "Fri",
          "Fri",
          "Fri",
          "Fri",
          "Fri",
          "Fri",
          "Fri",
          "Fri",
          "Sat",
          "Sat",
          "Sat",
          "Sat",
          "Sat",
          "Sat",
          "Thur",
          "Sun",
          "Sat",
          "Sat",
          "Sat",
          "Sat",
          "Sun",
          "Sun",
          "Sun",
          "Sun",
          "Sun",
          "Sun",
          "Sun",
          "Sun",
          "Sun",
          "Sun",
          "Sun",
          "Sun",
          "Sun",
          "Sun",
          "Sun",
          "Sun",
          "Sun",
          "Sun",
          "Thur",
          "Thur",
          "Thur",
          "Thur",
          "Thur",
          "Thur",
          "Thur",
          "Thur",
          "Thur",
          "Thur",
          "Thur",
          "Thur",
          "Thur",
          "Thur",
          "Sat",
          "Sat",
          "Sat",
          "Sat",
          "Sat",
          "Sat",
          "Sat",
          "Sat",
          "Sat",
          "Sat",
          "Sat",
          "Sat",
          "Sat",
          "Fri",
          "Fri",
          "Fri",
          "Fri",
          "Fri",
          "Fri",
          "Sat",
          "Sat",
          "Sat",
          "Sat",
          "Sat",
          "Sat",
          "Sat",
          "Sat"
         ],
         "x0": " ",
         "xaxis": "x",
         "y": {
          "_inputArray": {
           "0": 38.01,
           "1": 11.24,
           "10": 17.92,
           "11": 19.44,
           "12": 32.68,
           "13": 28.97,
           "14": 5.75,
           "15": 16.32,
           "16": 40.17,
           "17": 27.28,
           "18": 12.03,
           "19": 21.01,
           "2": 20.29,
           "20": 11.35,
           "21": 15.38,
           "22": 44.3,
           "23": 22.42,
           "24": 15.36,
           "25": 20.49,
           "26": 25.21,
           "27": 14.31,
           "28": 16,
           "29": 17.51,
           "3": 13.81,
           "30": 10.59,
           "31": 10.63,
           "32": 50.81,
           "33": 15.81,
           "34": 7.25,
           "35": 31.85,
           "36": 16.82,
           "37": 32.9,
           "38": 17.89,
           "39": 14.48,
           "4": 11.02,
           "40": 9.6,
           "41": 34.63,
           "42": 34.65,
           "43": 23.33,
           "44": 45.35,
           "45": 23.17,
           "46": 40.55,
           "47": 20.9,
           "48": 30.46,
           "49": 18.15,
           "5": 18.29,
           "50": 23.1,
           "51": 15.69,
           "52": 19.81,
           "53": 28.44,
           "54": 15.48,
           "55": 16.58,
           "56": 10.34,
           "57": 43.11,
           "58": 13,
           "59": 13.51,
           "6": 3.07,
           "60": 18.71,
           "61": 12.74,
           "62": 13,
           "63": 16.4,
           "64": 20.53,
           "65": 16.47,
           "66": 26.59,
           "67": 38.73,
           "68": 24.27,
           "69": 12.76,
           "7": 15.01,
           "70": 30.06,
           "71": 25.89,
           "72": 13.27,
           "73": 28.17,
           "74": 12.9,
           "75": 28.15,
           "76": 11.59,
           "77": 7.74,
           "78": 30.14,
           "79": 12.16,
           "8": 26.86,
           "80": 13.42,
           "81": 8.58,
           "82": 13.42,
           "83": 16.27,
           "84": 10.09,
           "85": 22.12,
           "86": 24.01,
           "87": 15.69,
           "88": 15.53,
           "89": 12.6,
           "9": 25.28,
           "90": 32.83,
           "91": 27.18,
           "92": 22.67,
           "bdata": "4XoUrkcBQ0B7FK5H4XomQArXo3A9SjRAH4XrUbieK0AK16NwPQomQArXo3A9SjJAj8L1KFyPCECF61G4HgUuQFyPwvUo3DpASOF6FK5HOUDsUbgehesxQHE9CtejcDNA16NwPQpXQEC4HoXrUfg8QAAAAAAAABdAUrgehetRMED2KFyPwhVEQEjhehSuRztAj8L1KFwPKEDD9ShcjwI1QDMzMzMzsyZAw/UoXI/CLkBmZmZmZiZGQOxRuB6FazZAuB6F61G4LkA9CtejcH00QPYoXI/CNTlAH4XrUbieLEAAAAAAAAAwQMP1KFyPgjFArkfhehQuJUDD9Shcj0IlQEjhehSuZ0lAH4XrUbieL0AAAAAAAAAdQJqZmZmZ2T9AUrgehevRMEAzMzMzM3NAQKRwPQrX4zFA9ihcj8L1LEAzMzMzMzMjQHE9CtejUEFAMzMzMzNTQUAUrkfhelQ3QM3MzMzMrEZA7FG4HoUrN0BmZmZmZkZEQGZmZmZm5jRA9ihcj8J1PkBmZmZmZiYyQJqZmZmZGTdA4XoUrkdhL0CPwvUoXM8zQHE9CtejcDxA9ihcj8L1LkAUrkfhepQwQK5H4XoUriRArkfhehSORUAAAAAAAAAqQIXrUbgeBStA9ihcj8K1MkB7FK5H4XopQAAAAAAAACpAZmZmZmZmMEBI4XoUroc0QLgehetReDBA16NwPQqXOkA9CtejcF1DQIXrUbgeRThAhetRuB6FKUCPwvUoXA8+QKRwPQrX4zlACtejcD2KKkDsUbgehSs8QM3MzMzMzClAZmZmZmYmPECuR+F6FC4nQPYoXI/C9R5ApHA9CtcjPkBSuB6F61EoQNejcD0K1ypAKVyPwvUoIUDXo3A9CtcqQIXrUbgeRTBArkfhehQuJEAfhetRuB42QMP1KFyPAjhA4XoUrkdhL0CPwvUoXA8vQDMzMzMzMylACtejcD1qQECuR+F6FC47QOxRuB6FqzZA",
           "dtype": "f8",
           "shape": "93"
          },
          "bdata": "4XoUrkcBQ0B7FK5H4XomQArXo3A9SjRAH4XrUbieK0AK16NwPQomQArXo3A9SjJAj8L1KFyPCECF61G4HgUuQFyPwvUo3DpASOF6FK5HOUDsUbgehesxQHE9CtejcDNA16NwPQpXQEC4HoXrUfg8QAAAAAAAABdAUrgehetRMED2KFyPwhVEQEjhehSuRztAj8L1KFwPKEDD9ShcjwI1QDMzMzMzsyZAw/UoXI/CLkBmZmZmZiZGQOxRuB6FazZAuB6F61G4LkA9CtejcH00QPYoXI/CNTlAH4XrUbieLEAAAAAAAAAwQMP1KFyPgjFArkfhehQuJUDD9Shcj0IlQEjhehSuZ0lAH4XrUbieL0AAAAAAAAAdQJqZmZmZ2T9AUrgehevRMEAzMzMzM3NAQKRwPQrX4zFA9ihcj8L1LEAzMzMzMzMjQHE9CtejUEFAMzMzMzNTQUAUrkfhelQ3QM3MzMzMrEZA7FG4HoUrN0BmZmZmZkZEQGZmZmZm5jRA9ihcj8J1PkBmZmZmZiYyQJqZmZmZGTdA4XoUrkdhL0CPwvUoXM8zQHE9CtejcDxA9ihcj8L1LkAUrkfhepQwQK5H4XoUriRArkfhehSORUAAAAAAAAAqQIXrUbgeBStA9ihcj8K1MkB7FK5H4XopQAAAAAAAACpAZmZmZmZmMEBI4XoUroc0QLgehetReDBA16NwPQqXOkA9CtejcF1DQIXrUbgeRThAhetRuB6FKUCPwvUoXA8+QKRwPQrX4zlACtejcD2KKkDsUbgehSs8QM3MzMzMzClAZmZmZmYmPECuR+F6FC4nQPYoXI/C9R5ApHA9CtcjPkBSuB6F61EoQNejcD0K1ypAKVyPwvUoIUDXo3A9CtcqQIXrUbgeRTBArkfhehQuJEAfhetRuB42QMP1KFyPAjhA4XoUrkdhL0CPwvUoXA8vQDMzMzMzMylACtejcD1qQECuR+F6FC47QOxRuB6FqzZA",
          "dtype": "f8"
         },
         "y0": " ",
         "yaxis": "y"
        }
       ],
       "layout": {
        "autosize": true,
        "boxmode": "group",
        "legend": {
         "title": {
          "text": "smoker"
         },
         "tracegroupgap": 0
        },
        "template": {
         "data": {
          "bar": [
           {
            "error_x": {
             "color": "#2a3f5f"
            },
            "error_y": {
             "color": "#2a3f5f"
            },
            "marker": {
             "line": {
              "color": "#E5ECF6",
              "width": 0.5
             },
             "pattern": {
              "fillmode": "overlay",
              "size": 10,
              "solidity": 0.2
             }
            },
            "type": "bar"
           }
          ],
          "barpolar": [
           {
            "marker": {
             "line": {
              "color": "#E5ECF6",
              "width": 0.5
             },
             "pattern": {
              "fillmode": "overlay",
              "size": 10,
              "solidity": 0.2
             }
            },
            "type": "barpolar"
           }
          ],
          "carpet": [
           {
            "aaxis": {
             "endlinecolor": "#2a3f5f",
             "gridcolor": "white",
             "linecolor": "white",
             "minorgridcolor": "white",
             "startlinecolor": "#2a3f5f"
            },
            "baxis": {
             "endlinecolor": "#2a3f5f",
             "gridcolor": "white",
             "linecolor": "white",
             "minorgridcolor": "white",
             "startlinecolor": "#2a3f5f"
            },
            "type": "carpet"
           }
          ],
          "choropleth": [
           {
            "colorbar": {
             "outlinewidth": 0,
             "ticks": ""
            },
            "type": "choropleth"
           }
          ],
          "contour": [
           {
            "colorbar": {
             "outlinewidth": 0,
             "ticks": ""
            },
            "colorscale": [
             [
              0,
              "#0d0887"
             ],
             [
              0.1111111111111111,
              "#46039f"
             ],
             [
              0.2222222222222222,
              "#7201a8"
             ],
             [
              0.3333333333333333,
              "#9c179e"
             ],
             [
              0.4444444444444444,
              "#bd3786"
             ],
             [
              0.5555555555555556,
              "#d8576b"
             ],
             [
              0.6666666666666666,
              "#ed7953"
             ],
             [
              0.7777777777777778,
              "#fb9f3a"
             ],
             [
              0.8888888888888888,
              "#fdca26"
             ],
             [
              1,
              "#f0f921"
             ]
            ],
            "type": "contour"
           }
          ],
          "contourcarpet": [
           {
            "colorbar": {
             "outlinewidth": 0,
             "ticks": ""
            },
            "type": "contourcarpet"
           }
          ],
          "heatmap": [
           {
            "colorbar": {
             "outlinewidth": 0,
             "ticks": ""
            },
            "colorscale": [
             [
              0,
              "#0d0887"
             ],
             [
              0.1111111111111111,
              "#46039f"
             ],
             [
              0.2222222222222222,
              "#7201a8"
             ],
             [
              0.3333333333333333,
              "#9c179e"
             ],
             [
              0.4444444444444444,
              "#bd3786"
             ],
             [
              0.5555555555555556,
              "#d8576b"
             ],
             [
              0.6666666666666666,
              "#ed7953"
             ],
             [
              0.7777777777777778,
              "#fb9f3a"
             ],
             [
              0.8888888888888888,
              "#fdca26"
             ],
             [
              1,
              "#f0f921"
             ]
            ],
            "type": "heatmap"
           }
          ],
          "histogram": [
           {
            "marker": {
             "pattern": {
              "fillmode": "overlay",
              "size": 10,
              "solidity": 0.2
             }
            },
            "type": "histogram"
           }
          ],
          "histogram2d": [
           {
            "colorbar": {
             "outlinewidth": 0,
             "ticks": ""
            },
            "colorscale": [
             [
              0,
              "#0d0887"
             ],
             [
              0.1111111111111111,
              "#46039f"
             ],
             [
              0.2222222222222222,
              "#7201a8"
             ],
             [
              0.3333333333333333,
              "#9c179e"
             ],
             [
              0.4444444444444444,
              "#bd3786"
             ],
             [
              0.5555555555555556,
              "#d8576b"
             ],
             [
              0.6666666666666666,
              "#ed7953"
             ],
             [
              0.7777777777777778,
              "#fb9f3a"
             ],
             [
              0.8888888888888888,
              "#fdca26"
             ],
             [
              1,
              "#f0f921"
             ]
            ],
            "type": "histogram2d"
           }
          ],
          "histogram2dcontour": [
           {
            "colorbar": {
             "outlinewidth": 0,
             "ticks": ""
            },
            "colorscale": [
             [
              0,
              "#0d0887"
             ],
             [
              0.1111111111111111,
              "#46039f"
             ],
             [
              0.2222222222222222,
              "#7201a8"
             ],
             [
              0.3333333333333333,
              "#9c179e"
             ],
             [
              0.4444444444444444,
              "#bd3786"
             ],
             [
              0.5555555555555556,
              "#d8576b"
             ],
             [
              0.6666666666666666,
              "#ed7953"
             ],
             [
              0.7777777777777778,
              "#fb9f3a"
             ],
             [
              0.8888888888888888,
              "#fdca26"
             ],
             [
              1,
              "#f0f921"
             ]
            ],
            "type": "histogram2dcontour"
           }
          ],
          "mesh3d": [
           {
            "colorbar": {
             "outlinewidth": 0,
             "ticks": ""
            },
            "type": "mesh3d"
           }
          ],
          "parcoords": [
           {
            "line": {
             "colorbar": {
              "outlinewidth": 0,
              "ticks": ""
             }
            },
            "type": "parcoords"
           }
          ],
          "pie": [
           {
            "automargin": true,
            "type": "pie"
           }
          ],
          "scatter": [
           {
            "fillpattern": {
             "fillmode": "overlay",
             "size": 10,
             "solidity": 0.2
            },
            "type": "scatter"
           }
          ],
          "scatter3d": [
           {
            "line": {
             "colorbar": {
              "outlinewidth": 0,
              "ticks": ""
             }
            },
            "marker": {
             "colorbar": {
              "outlinewidth": 0,
              "ticks": ""
             }
            },
            "type": "scatter3d"
           }
          ],
          "scattercarpet": [
           {
            "marker": {
             "colorbar": {
              "outlinewidth": 0,
              "ticks": ""
             }
            },
            "type": "scattercarpet"
           }
          ],
          "scattergeo": [
           {
            "marker": {
             "colorbar": {
              "outlinewidth": 0,
              "ticks": ""
             }
            },
            "type": "scattergeo"
           }
          ],
          "scattergl": [
           {
            "marker": {
             "colorbar": {
              "outlinewidth": 0,
              "ticks": ""
             }
            },
            "type": "scattergl"
           }
          ],
          "scattermap": [
           {
            "marker": {
             "colorbar": {
              "outlinewidth": 0,
              "ticks": ""
             }
            },
            "type": "scattermap"
           }
          ],
          "scattermapbox": [
           {
            "marker": {
             "colorbar": {
              "outlinewidth": 0,
              "ticks": ""
             }
            },
            "type": "scattermapbox"
           }
          ],
          "scatterpolar": [
           {
            "marker": {
             "colorbar": {
              "outlinewidth": 0,
              "ticks": ""
             }
            },
            "type": "scatterpolar"
           }
          ],
          "scatterpolargl": [
           {
            "marker": {
             "colorbar": {
              "outlinewidth": 0,
              "ticks": ""
             }
            },
            "type": "scatterpolargl"
           }
          ],
          "scatterternary": [
           {
            "marker": {
             "colorbar": {
              "outlinewidth": 0,
              "ticks": ""
             }
            },
            "type": "scatterternary"
           }
          ],
          "surface": [
           {
            "colorbar": {
             "outlinewidth": 0,
             "ticks": ""
            },
            "colorscale": [
             [
              0,
              "#0d0887"
             ],
             [
              0.1111111111111111,
              "#46039f"
             ],
             [
              0.2222222222222222,
              "#7201a8"
             ],
             [
              0.3333333333333333,
              "#9c179e"
             ],
             [
              0.4444444444444444,
              "#bd3786"
             ],
             [
              0.5555555555555556,
              "#d8576b"
             ],
             [
              0.6666666666666666,
              "#ed7953"
             ],
             [
              0.7777777777777778,
              "#fb9f3a"
             ],
             [
              0.8888888888888888,
              "#fdca26"
             ],
             [
              1,
              "#f0f921"
             ]
            ],
            "type": "surface"
           }
          ],
          "table": [
           {
            "cells": {
             "fill": {
              "color": "#EBF0F8"
             },
             "line": {
              "color": "white"
             }
            },
            "header": {
             "fill": {
              "color": "#C8D4E3"
             },
             "line": {
              "color": "white"
             }
            },
            "type": "table"
           }
          ]
         },
         "layout": {
          "annotationdefaults": {
           "arrowcolor": "#2a3f5f",
           "arrowhead": 0,
           "arrowwidth": 1
          },
          "autotypenumbers": "strict",
          "coloraxis": {
           "colorbar": {
            "outlinewidth": 0,
            "ticks": ""
           }
          },
          "colorscale": {
           "diverging": [
            [
             0,
             "#8e0152"
            ],
            [
             0.1,
             "#c51b7d"
            ],
            [
             0.2,
             "#de77ae"
            ],
            [
             0.3,
             "#f1b6da"
            ],
            [
             0.4,
             "#fde0ef"
            ],
            [
             0.5,
             "#f7f7f7"
            ],
            [
             0.6,
             "#e6f5d0"
            ],
            [
             0.7,
             "#b8e186"
            ],
            [
             0.8,
             "#7fbc41"
            ],
            [
             0.9,
             "#4d9221"
            ],
            [
             1,
             "#276419"
            ]
           ],
           "sequential": [
            [
             0,
             "#0d0887"
            ],
            [
             0.1111111111111111,
             "#46039f"
            ],
            [
             0.2222222222222222,
             "#7201a8"
            ],
            [
             0.3333333333333333,
             "#9c179e"
            ],
            [
             0.4444444444444444,
             "#bd3786"
            ],
            [
             0.5555555555555556,
             "#d8576b"
            ],
            [
             0.6666666666666666,
             "#ed7953"
            ],
            [
             0.7777777777777778,
             "#fb9f3a"
            ],
            [
             0.8888888888888888,
             "#fdca26"
            ],
            [
             1,
             "#f0f921"
            ]
           ],
           "sequentialminus": [
            [
             0,
             "#0d0887"
            ],
            [
             0.1111111111111111,
             "#46039f"
            ],
            [
             0.2222222222222222,
             "#7201a8"
            ],
            [
             0.3333333333333333,
             "#9c179e"
            ],
            [
             0.4444444444444444,
             "#bd3786"
            ],
            [
             0.5555555555555556,
             "#d8576b"
            ],
            [
             0.6666666666666666,
             "#ed7953"
            ],
            [
             0.7777777777777778,
             "#fb9f3a"
            ],
            [
             0.8888888888888888,
             "#fdca26"
            ],
            [
             1,
             "#f0f921"
            ]
           ]
          },
          "colorway": [
           "#636efa",
           "#EF553B",
           "#00cc96",
           "#ab63fa",
           "#FFA15A",
           "#19d3f3",
           "#FF6692",
           "#B6E880",
           "#FF97FF",
           "#FECB52"
          ],
          "font": {
           "color": "#2a3f5f"
          },
          "geo": {
           "bgcolor": "white",
           "lakecolor": "white",
           "landcolor": "#E5ECF6",
           "showlakes": true,
           "showland": true,
           "subunitcolor": "white"
          },
          "hoverlabel": {
           "align": "left"
          },
          "hovermode": "closest",
          "mapbox": {
           "style": "light"
          },
          "paper_bgcolor": "white",
          "plot_bgcolor": "#E5ECF6",
          "polar": {
           "angularaxis": {
            "gridcolor": "white",
            "linecolor": "white",
            "ticks": ""
           },
           "bgcolor": "#E5ECF6",
           "radialaxis": {
            "gridcolor": "white",
            "linecolor": "white",
            "ticks": ""
           }
          },
          "scene": {
           "xaxis": {
            "backgroundcolor": "#E5ECF6",
            "gridcolor": "white",
            "gridwidth": 2,
            "linecolor": "white",
            "showbackground": true,
            "ticks": "",
            "zerolinecolor": "white"
           },
           "yaxis": {
            "backgroundcolor": "#E5ECF6",
            "gridcolor": "white",
            "gridwidth": 2,
            "linecolor": "white",
            "showbackground": true,
            "ticks": "",
            "zerolinecolor": "white"
           },
           "zaxis": {
            "backgroundcolor": "#E5ECF6",
            "gridcolor": "white",
            "gridwidth": 2,
            "linecolor": "white",
            "showbackground": true,
            "ticks": "",
            "zerolinecolor": "white"
           }
          },
          "shapedefaults": {
           "line": {
            "color": "#2a3f5f"
           }
          },
          "ternary": {
           "aaxis": {
            "gridcolor": "white",
            "linecolor": "white",
            "ticks": ""
           },
           "baxis": {
            "gridcolor": "white",
            "linecolor": "white",
            "ticks": ""
           },
           "bgcolor": "#E5ECF6",
           "caxis": {
            "gridcolor": "white",
            "linecolor": "white",
            "ticks": ""
           }
          },
          "title": {
           "x": 0.05
          },
          "xaxis": {
           "automargin": true,
           "gridcolor": "white",
           "linecolor": "white",
           "ticks": "",
           "title": {
            "standoff": 15
           },
           "zerolinecolor": "white",
           "zerolinewidth": 2
          },
          "yaxis": {
           "automargin": true,
           "gridcolor": "white",
           "linecolor": "white",
           "ticks": "",
           "title": {
            "standoff": 15
           },
           "zerolinecolor": "white",
           "zerolinewidth": 2
          }
         }
        },
        "title": {
         "text": "요일별 총 계산 금액 분포 (흡연 여부 기준)"
        },
        "xaxis": {
         "anchor": "y",
         "autorange": true,
         "domain": [
          0,
          1
         ],
         "range": [
          -0.5351906158357771,
          3.535190615835777
         ],
         "title": {
          "text": "day"
         },
         "type": "category"
        },
        "yaxis": {
         "anchor": "x",
         "autorange": true,
         "domain": [
          0,
          1
         ],
         "range": [
          0.41777777777777736,
          53.46222222222222
         ],
         "title": {
          "text": "total_bill"
         },
         "type": "linear"
        }
       }
      },
      "image/png": "[encoded data removed]"
     },
     "metadata": {},
     "output_type": "display_data"
    }
   ],
   "source": [
    "import plotly.express as px\n",
    "import seaborn as sns\n",
    "\n",
    "#-------------------------------------------------------\n",
    "# 1. 예제 데이터 로드 (Seaborn 내장 팁 데이터셋)\n",
    "#-------------------------------------------------------\n",
    "df_tips = sns.load_dataset(\"tips\") \n",
    "df_tips\n",
    "#-------------------------------------------------------\n",
    "# 2. 대화형 박스 플롯 생성\n",
    "#-------------------------------------------------------\n",
    "fig = px.box(\n",
    "    df_tips, \n",
    "    x=\"day\", \n",
    "    y=\"total_bill\", \n",
    "    color=\"smoker\", # 흡연 여부에 따라 박스 플롯을 분리하여 표시\n",
    "    title=\"요일별 총 계산 금액 분포 (흡연 여부 기준)\"\n",
    ")\n",
    "\n",
    "#-------------------------------------------------------\n",
    "# 3. 그래프 출력\n",
    "#-------------------------------------------------------\n",
    "fig.show()\n"
   ]
  },
  {
   "cell_type": "code",
   "execution_count": 8,
   "id": "2160487e-9d3d-4a82-bb4f-fc08753bacd3",
   "metadata": {},
   "outputs": [
    {
     "data": {
      "application/vnd.plotly.v1+json": {
       "config": {
        "plotlyServerURL": "https://plot.ly"
       },
       "data": [
        {
         "alignmentgroup": "True",
         "boxpoints": "all",
         "customdata": [
          [
           "Dinner",
           2
          ],
          [
           "Dinner",
           3
          ],
          [
           "Dinner",
           3
          ],
          [
           "Dinner",
           2
          ],
          [
           "Dinner",
           4
          ],
          [
           "Dinner",
           4
          ],
          [
           "Dinner",
           2
          ],
          [
           "Dinner",
           4
          ],
          [
           "Dinner",
           2
          ],
          [
           "Dinner",
           2
          ],
          [
           "Dinner",
           2
          ],
          [
           "Dinner",
           4
          ],
          [
           "Dinner",
           2
          ],
          [
           "Dinner",
           4
          ],
          [
           "Dinner",
           2
          ],
          [
           "Dinner",
           2
          ],
          [
           "Dinner",
           3
          ],
          [
           "Dinner",
           3
          ],
          [
           "Dinner",
           3
          ],
          [
           "Dinner",
           3
          ],
          [
           "Dinner",
           2
          ],
          [
           "Dinner",
           2
          ],
          [
           "Dinner",
           2
          ],
          [
           "Dinner",
           4
          ],
          [
           "Dinner",
           2
          ],
          [
           "Dinner",
           4
          ],
          [
           "Dinner",
           2
          ],
          [
           "Dinner",
           2
          ],
          [
           "Dinner",
           2
          ],
          [
           "Dinner",
           2
          ],
          [
           "Dinner",
           2
          ],
          [
           "Dinner",
           4
          ],
          [
           "Dinner",
           2
          ],
          [
           "Dinner",
           4
          ],
          [
           "Dinner",
           2
          ],
          [
           "Dinner",
           3
          ],
          [
           "Dinner",
           3
          ],
          [
           "Dinner",
           3
          ],
          [
           "Dinner",
           3
          ],
          [
           "Dinner",
           3
          ],
          [
           "Dinner",
           3
          ],
          [
           "Dinner",
           2
          ],
          [
           "Dinner",
           2
          ],
          [
           "Dinner",
           2
          ],
          [
           "Dinner",
           4
          ],
          [
           "Dinner",
           2
          ],
          [
           "Dinner",
           2
          ],
          [
           "Dinner",
           4
          ],
          [
           "Dinner",
           3
          ],
          [
           "Dinner",
           2
          ],
          [
           "Dinner",
           2
          ],
          [
           "Dinner",
           2
          ],
          [
           "Dinner",
           4
          ],
          [
           "Dinner",
           2
          ],
          [
           "Dinner",
           4
          ],
          [
           "Dinner",
           2
          ],
          [
           "Dinner",
           2
          ],
          [
           "Dinner",
           4
          ],
          [
           "Dinner",
           3
          ],
          [
           "Dinner",
           3
          ],
          [
           "Dinner",
           2
          ],
          [
           "Dinner",
           2
          ],
          [
           "Dinner",
           2
          ],
          [
           "Dinner",
           3
          ],
          [
           "Dinner",
           2
          ],
          [
           "Dinner",
           2
          ],
          [
           "Dinner",
           2
          ],
          [
           "Dinner",
           2
          ],
          [
           "Dinner",
           2
          ],
          [
           "Dinner",
           2
          ],
          [
           "Dinner",
           2
          ],
          [
           "Dinner",
           2
          ],
          [
           "Dinner",
           1
          ],
          [
           "Dinner",
           3
          ],
          [
           "Dinner",
           2
          ],
          [
           "Dinner",
           3
          ],
          [
           "Dinner",
           2
          ],
          [
           "Dinner",
           4
          ],
          [
           "Dinner",
           2
          ],
          [
           "Dinner",
           2
          ],
          [
           "Dinner",
           3
          ],
          [
           "Dinner",
           4
          ],
          [
           "Dinner",
           4
          ],
          [
           "Dinner",
           5
          ],
          [
           "Dinner",
           6
          ],
          [
           "Dinner",
           4
          ],
          [
           "Dinner",
           2
          ],
          [
           "Dinner",
           4
          ],
          [
           "Dinner",
           4
          ],
          [
           "Dinner",
           2
          ],
          [
           "Dinner",
           3
          ],
          [
           "Dinner",
           2
          ],
          [
           "Dinner",
           3
          ],
          [
           "Dinner",
           2
          ],
          [
           "Dinner",
           4
          ],
          [
           "Dinner",
           5
          ],
          [
           "Dinner",
           4
          ],
          [
           "Dinner",
           4
          ],
          [
           "Dinner",
           2
          ],
          [
           "Dinner",
           2
          ],
          [
           "Dinner",
           2
          ],
          [
           "Dinner",
           2
          ],
          [
           "Dinner",
           3
          ],
          [
           "Dinner",
           3
          ],
          [
           "Dinner",
           2
          ],
          [
           "Dinner",
           2
          ]
         ],
         "hovertemplate": "<b>%{hovertext}</b><br><br>smoker=No<br>time=%{customdata[0]}<br>요일=%{x}<br>총 계산 금액 ($)=%{y}<br>size=%{customdata[1]}<extra></extra>",
         "hovertext": [
          "Female",
          "Male",
          "Male",
          "Male",
          "Female",
          "Male",
          "Male",
          "Male",
          "Male",
          "Male",
          "Male",
          "Female",
          "Male",
          "Male",
          "Female",
          "Male",
          "Female",
          "Male",
          "Female",
          "Male",
          "Male",
          "Female",
          "Female",
          "Male",
          "Male",
          "Male",
          "Male",
          "Male",
          "Male",
          "Female",
          "Male",
          "Male",
          "Female",
          "Female",
          "Male",
          "Male",
          "Male",
          "Female",
          "Male",
          "Male",
          "Male",
          "Male",
          "Male",
          "Male",
          "Male",
          "Male",
          "Male",
          "Male",
          "Male",
          "Male",
          "Male",
          "Female",
          "Female",
          "Male",
          "Male",
          "Male",
          "Female",
          "Male",
          "Male",
          "Male",
          "Female",
          "Male",
          "Male",
          "Female",
          "Female",
          "Male",
          "Male",
          "Female",
          "Male",
          "Female",
          "Male",
          "Male",
          "Female",
          "Male",
          "Male",
          "Female",
          "Female",
          "Male",
          "Male",
          "Male",
          "Male",
          "Male",
          "Male",
          "Female",
          "Male",
          "Female",
          "Female",
          "Male",
          "Male",
          "Male",
          "Female",
          "Male",
          "Male",
          "Male",
          "Male",
          "Male",
          "Male",
          "Male",
          "Male",
          "Male",
          "Male",
          "Male",
          "Female",
          "Male",
          "Male",
          "Female"
         ],
         "legendgroup": "No",
         "marker": {
          "color": "rgb(102,194,165)"
         },
         "name": "No",
         "notched": true,
         "offsetgroup": "No",
         "orientation": "v",
         "showlegend": true,
         "type": "box",
         "x": [
          "Sun",
          "Sun",
          "Sun",
          "Sun",
          "Sun",
          "Sun",
          "Sun",
          "Sun",
          "Sun",
          "Sun",
          "Sun",
          "Sun",
          "Sun",
          "Sun",
          "Sun",
          "Sun",
          "Sun",
          "Sun",
          "Sun",
          "Sat",
          "Sat",
          "Sat",
          "Sat",
          "Sat",
          "Sat",
          "Sat",
          "Sat",
          "Sat",
          "Sat",
          "Sat",
          "Sat",
          "Sat",
          "Sat",
          "Sat",
          "Sat",
          "Sat",
          "Sat",
          "Sat",
          "Sat",
          "Sat",
          "Sat",
          "Sun",
          "Sun",
          "Sun",
          "Sun",
          "Sun",
          "Sun",
          "Sun",
          "Sun",
          "Sun",
          "Sun",
          "Sun",
          "Sun",
          "Sun",
          "Sun",
          "Sun",
          "Sat",
          "Sat",
          "Sat",
          "Sat",
          "Sat",
          "Sat",
          "Sat",
          "Sat",
          "Sat",
          "Sat",
          "Fri",
          "Fri",
          "Fri",
          "Sat",
          "Sat",
          "Sat",
          "Sat",
          "Sun",
          "Sun",
          "Sun",
          "Sun",
          "Sun",
          "Sun",
          "Sun",
          "Sun",
          "Sun",
          "Sun",
          "Sun",
          "Sun",
          "Sun",
          "Sun",
          "Sun",
          "Sun",
          "Sun",
          "Sun",
          "Sun",
          "Sun",
          "Sun",
          "Sun",
          "Sun",
          "Sat",
          "Sat",
          "Sat",
          "Sat",
          "Sat",
          "Sat",
          "Sat",
          "Sat",
          "Sat",
          "Thur"
         ],
         "x0": " ",
         "xaxis": "x",
         "y": {
          "_inputArray": {
           "0": 16.99,
           "1": 10.34,
           "10": 10.27,
           "100": 10.77,
           "101": 10.07,
           "102": 35.83,
           "103": 29.03,
           "104": 17.82,
           "105": 18.78,
           "11": 35.26,
           "12": 15.42,
           "13": 18.43,
           "14": 14.83,
           "15": 21.58,
           "16": 10.33,
           "17": 16.29,
           "18": 16.97,
           "19": 20.65,
           "2": 21.01,
           "20": 17.92,
           "21": 20.29,
           "22": 15.77,
           "23": 39.42,
           "24": 19.82,
           "25": 17.81,
           "26": 13.37,
           "27": 12.69,
           "28": 21.7,
           "29": 19.65,
           "3": 23.68,
           "30": 9.55,
           "31": 18.35,
           "32": 15.06,
           "33": 20.69,
           "34": 17.78,
           "35": 24.06,
           "36": 16.31,
           "37": 16.93,
           "38": 18.69,
           "39": 31.27,
           "4": 24.59,
           "40": 16.04,
           "41": 17.46,
           "42": 13.94,
           "43": 9.68,
           "44": 30.4,
           "45": 18.29,
           "46": 22.23,
           "47": 32.4,
           "48": 28.55,
           "49": 18.04,
           "5": 25.29,
           "50": 12.54,
           "51": 10.29,
           "52": 34.81,
           "53": 9.94,
           "54": 25.56,
           "55": 19.49,
           "56": 26.41,
           "57": 48.27,
           "58": 17.59,
           "59": 20.08,
           "6": 8.77,
           "60": 16.45,
           "61": 20.23,
           "62": 12.02,
           "63": 17.07,
           "64": 14.73,
           "65": 10.51,
           "66": 22.49,
           "67": 22.75,
           "68": 12.46,
           "69": 20.92,
           "7": 26.88,
           "70": 18.24,
           "71": 14,
           "72": 7.25,
           "73": 38.07,
           "74": 23.95,
           "75": 25.71,
           "76": 17.31,
           "77": 29.93,
           "78": 14.07,
           "79": 13.13,
           "8": 15.04,
           "80": 17.26,
           "81": 24.55,
           "82": 19.77,
           "83": 29.85,
           "84": 48.17,
           "85": 25,
           "86": 13.39,
           "87": 16.49,
           "88": 21.5,
           "89": 12.66,
           "9": 14.78,
           "90": 16.21,
           "91": 13.81,
           "92": 24.52,
           "93": 20.76,
           "94": 31.71,
           "95": 20.69,
           "96": 48.33,
           "97": 20.45,
           "98": 13.28,
           "99": 11.61,
           "bdata": "PQrXo3D9MECuR+F6FK4kQMP1KFyPAjVArkfhehSuN0DXo3A9Cpc4QArXo3A9SjlACtejcD2KIUDhehSuR+E6QBSuR+F6FC5Aj8L1KFyPLUAK16NwPYokQOF6FK5HoUFA16NwPQrXLkCuR+F6FG4yQClcj8L1qC1AFK5H4XqUNUApXI/C9agkQArXo3A9SjBAuB6F61H4MEBmZmZmZqY0QOxRuB6F6zFACtejcD1KNEAK16NwPYovQPYoXI/CtUNAUrgehevRM0CPwvUoXM8xQD0K16NwvSpA4XoUrkdhKUAzMzMzM7M1QGZmZmZmpjNAmpmZmZkZI0CamZmZmVkyQB+F61G4Hi5AcT0K16OwNEBI4XoUrscxQI/C9ShcDzhAj8L1KFxPMECuR+F6FO4wQHE9CtejsDJAhetRuB5FP0AK16NwPQowQPYoXI/CdTFA4XoUrkfhK0Bcj8L1KFwjQGZmZmZmZj5ACtejcD1KMkB7FK5H4To2QDMzMzMzM0BAzczMzMyMPEAK16NwPQoyQBSuR+F6FClAFK5H4XqUJEBI4XoUrmdBQOF6FK5H4SNAj8L1KFyPOUA9CtejcH0zQClcj8L1aDpAw/UoXI8iSEDXo3A9CpcxQBSuR+F6FDRAMzMzMzNzMEB7FK5H4To0QArXo3A9CihAUrgehesRMUD2KFyPwnUtQIXrUbgeBSVAPQrXo3B9NkAAAAAAAMA2QOxRuB6F6yhA7FG4HoXrNEA9CtejcD0yQAAAAAAAACxAAAAAAAAAHUApXI/C9QhDQDMzMzMz8zdA9ihcj8K1OUCPwvUoXE8xQK5H4XoU7j1ApHA9CtcjLEDD9Shcj0IqQMP1KFyPQjFAzczMzMyMOECF61G4HsUzQJqZmZmZ2T1A9ihcj8IVSEAAAAAAAAA5QEjhehSuxypAPQrXo3B9MEAAAAAAAIA1QFK4HoXrUSlA9ihcj8I1MEAfhetRuJ4rQIXrUbgehThAw/UoXI/CNED2KFyPwrU/QHE9CtejsDRACtejcD0qSEAzMzMzM3M0QI/C9ShcjypAuB6F61E4J0AK16NwPYolQKRwPQrXIyRACtejcD3qQUBI4XoUrgc9QFK4HoXr0TFASOF6FK7HMkA=",
           "dtype": "f8",
           "shape": "106"
          },
          "bdata": "PQrXo3D9MECuR+F6FK4kQMP1KFyPAjVArkfhehSuN0DXo3A9Cpc4QArXo3A9SjlACtejcD2KIUDhehSuR+E6QBSuR+F6FC5Aj8L1KFyPLUAK16NwPYokQOF6FK5HoUFA16NwPQrXLkCuR+F6FG4yQClcj8L1qC1AFK5H4XqUNUApXI/C9agkQArXo3A9SjBAuB6F61H4MEBmZmZmZqY0QOxRuB6F6zFACtejcD1KNEAK16NwPYovQPYoXI/CtUNAUrgehevRM0CPwvUoXM8xQD0K16NwvSpA4XoUrkdhKUAzMzMzM7M1QGZmZmZmpjNAmpmZmZkZI0CamZmZmVkyQB+F61G4Hi5AcT0K16OwNEBI4XoUrscxQI/C9ShcDzhAj8L1KFxPMECuR+F6FO4wQHE9CtejsDJAhetRuB5FP0AK16NwPQowQPYoXI/CdTFA4XoUrkfhK0Bcj8L1KFwjQGZmZmZmZj5ACtejcD1KMkB7FK5H4To2QDMzMzMzM0BAzczMzMyMPEAK16NwPQoyQBSuR+F6FClAFK5H4XqUJEBI4XoUrmdBQOF6FK5H4SNAj8L1KFyPOUA9CtejcH0zQClcj8L1aDpAw/UoXI8iSEDXo3A9CpcxQBSuR+F6FDRAMzMzMzNzMEB7FK5H4To0QArXo3A9CihAUrgehesRMUD2KFyPwnUtQIXrUbgeBSVAPQrXo3B9NkAAAAAAAMA2QOxRuB6F6yhA7FG4HoXrNEA9CtejcD0yQAAAAAAAACxAAAAAAAAAHUApXI/C9QhDQDMzMzMz8zdA9ihcj8K1OUCPwvUoXE8xQK5H4XoU7j1ApHA9CtcjLEDD9Shcj0IqQMP1KFyPQjFAzczMzMyMOECF61G4HsUzQJqZmZmZ2T1A9ihcj8IVSEAAAAAAAAA5QEjhehSuxypAPQrXo3B9MEAAAAAAAIA1QFK4HoXrUSlA9ihcj8I1MEAfhetRuJ4rQIXrUbgehThAw/UoXI/CNED2KFyPwrU/QHE9CtejsDRACtejcD0qSEAzMzMzM3M0QI/C9ShcjypAuB6F61E4J0AK16NwPYolQKRwPQrXIyRACtejcD3qQUBI4XoUrgc9QFK4HoXr0TFASOF6FK7HMkA=",
          "dtype": "f8"
         },
         "y0": " ",
         "yaxis": "y"
        },
        {
         "alignmentgroup": "True",
         "boxpoints": "all",
         "customdata": [
          [
           "Lunch",
           4
          ],
          [
           "Lunch",
           2
          ],
          [
           "Lunch",
           2
          ],
          [
           "Lunch",
           2
          ],
          [
           "Lunch",
           1
          ],
          [
           "Lunch",
           2
          ],
          [
           "Lunch",
           4
          ],
          [
           "Lunch",
           2
          ],
          [
           "Lunch",
           2
          ],
          [
           "Lunch",
           2
          ],
          [
           "Lunch",
           2
          ],
          [
           "Lunch",
           2
          ],
          [
           "Lunch",
           2
          ],
          [
           "Lunch",
           4
          ],
          [
           "Lunch",
           2
          ],
          [
           "Lunch",
           2
          ],
          [
           "Lunch",
           2
          ],
          [
           "Lunch",
           2
          ],
          [
           "Lunch",
           2
          ],
          [
           "Lunch",
           6
          ],
          [
           "Lunch",
           2
          ],
          [
           "Lunch",
           2
          ],
          [
           "Lunch",
           2
          ],
          [
           "Lunch",
           3
          ],
          [
           "Lunch",
           2
          ],
          [
           "Lunch",
           2
          ],
          [
           "Lunch",
           2
          ],
          [
           "Lunch",
           2
          ],
          [
           "Lunch",
           2
          ],
          [
           "Lunch",
           2
          ],
          [
           "Lunch",
           2
          ],
          [
           "Lunch",
           2
          ],
          [
           "Lunch",
           2
          ],
          [
           "Lunch",
           2
          ],
          [
           "Lunch",
           6
          ],
          [
           "Lunch",
           5
          ],
          [
           "Lunch",
           6
          ],
          [
           "Lunch",
           2
          ],
          [
           "Lunch",
           2
          ],
          [
           "Lunch",
           3
          ],
          [
           "Lunch",
           2
          ],
          [
           "Lunch",
           2
          ],
          [
           "Lunch",
           2
          ],
          [
           "Lunch",
           2
          ],
          [
           "Lunch",
           3
          ]
         ],
         "hovertemplate": "<b>%{hovertext}</b><br><br>smoker=No<br>time=%{customdata[0]}<br>요일=%{x}<br>총 계산 금액 ($)=%{y}<br>size=%{customdata[1]}<extra></extra>",
         "hovertext": [
          "Male",
          "Male",
          "Male",
          "Male",
          "Female",
          "Male",
          "Female",
          "Male",
          "Male",
          "Male",
          "Male",
          "Female",
          "Female",
          "Female",
          "Male",
          "Female",
          "Male",
          "Male",
          "Female",
          "Female",
          "Male",
          "Female",
          "Female",
          "Male",
          "Male",
          "Female",
          "Female",
          "Female",
          "Female",
          "Female",
          "Female",
          "Female",
          "Female",
          "Female",
          "Male",
          "Male",
          "Female",
          "Female",
          "Female",
          "Female",
          "Female",
          "Male",
          "Male",
          "Male",
          "Female"
         ],
         "legendgroup": "No",
         "marker": {
          "color": "rgb(102,194,165)"
         },
         "name": "No",
         "notched": true,
         "offsetgroup": "No",
         "orientation": "v",
         "showlegend": false,
         "type": "box",
         "x": [
          "Thur",
          "Thur",
          "Thur",
          "Thur",
          "Thur",
          "Thur",
          "Thur",
          "Thur",
          "Thur",
          "Thur",
          "Thur",
          "Thur",
          "Thur",
          "Thur",
          "Thur",
          "Thur",
          "Thur",
          "Thur",
          "Thur",
          "Thur",
          "Thur",
          "Thur",
          "Thur",
          "Thur",
          "Thur",
          "Thur",
          "Thur",
          "Thur",
          "Thur",
          "Thur",
          "Thur",
          "Thur",
          "Thur",
          "Thur",
          "Thur",
          "Thur",
          "Thur",
          "Thur",
          "Thur",
          "Thur",
          "Thur",
          "Thur",
          "Thur",
          "Thur",
          "Fri"
         ],
         "x0": " ",
         "xaxis": "x2",
         "y": {
          "_inputArray": {
           "0": 27.2,
           "1": 22.76,
           "10": 21.16,
           "11": 10.65,
           "12": 12.43,
           "13": 24.08,
           "14": 11.69,
           "15": 13.42,
           "16": 14.26,
           "17": 15.95,
           "18": 12.48,
           "19": 29.8,
           "2": 17.29,
           "20": 8.52,
           "21": 14.52,
           "22": 11.38,
           "23": 22.82,
           "24": 19.08,
           "25": 20.27,
           "26": 11.17,
           "27": 12.26,
           "28": 18.26,
           "29": 8.51,
           "3": 16.66,
           "30": 10.33,
           "31": 14.15,
           "32": 13.16,
           "33": 17.47,
           "34": 34.3,
           "35": 41.19,
           "36": 27.05,
           "37": 16.43,
           "38": 8.35,
           "39": 18.64,
           "4": 10.07,
           "40": 11.87,
           "41": 9.78,
           "42": 7.51,
           "43": 7.56,
           "44": 15.98,
           "5": 15.98,
           "6": 34.83,
           "7": 13.03,
           "8": 18.28,
           "9": 24.71,
           "bdata": "MzMzMzMzO0DD9Shcj8I2QArXo3A9SjFAKVyPwvWoMECkcD0K1yMkQPYoXI/C9S9ACtejcD1qQUCPwvUoXA8qQEjhehSuRzJA9ihcj8K1OEApXI/C9Sg1QM3MzMzMTCVAXI/C9SjcKEAUrkfhehQ4QOF6FK5HYSdA16NwPQrXKkCF61G4HoUsQGZmZmZm5i9A9ihcj8L1KEDNzMzMzMw9QArXo3A9CiFACtejcD0KLUDD9Shcj8ImQFK4HoXr0TZAFK5H4XoUM0CF61G4HkU0QNejcD0KVyZAhetRuB6FKEDD9Shcj0IyQIXrUbgeBSFAKVyPwvWoJEDNzMzMzEwsQFK4HoXrUSpAuB6F61F4MUBmZmZmZiZBQLgehetRmERAzczMzMwMO0CuR+F6FG4wQDMzMzMzsyBApHA9CtejMkA9CtejcL0nQI/C9ShcjyNACtejcD0KHkA9CtejcD0eQPYoXI/C9S9A",
           "dtype": "f8",
           "shape": "45"
          },
          "bdata": "MzMzMzMzO0DD9Shcj8I2QArXo3A9SjFAKVyPwvWoMECkcD0K1yMkQPYoXI/C9S9ACtejcD1qQUCPwvUoXA8qQEjhehSuRzJA9ihcj8K1OEApXI/C9Sg1QM3MzMzMTCVAXI/C9SjcKEAUrkfhehQ4QOF6FK5HYSdA16NwPQrXKkCF61G4HoUsQGZmZmZm5i9A9ihcj8L1KEDNzMzMzMw9QArXo3A9CiFACtejcD0KLUDD9Shcj8ImQFK4HoXr0TZAFK5H4XoUM0CF61G4HkU0QNejcD0KVyZAhetRuB6FKEDD9Shcj0IyQIXrUbgeBSFAKVyPwvWoJEDNzMzMzEwsQFK4HoXrUSpAuB6F61F4MUBmZmZmZiZBQLgehetRmERAzczMzMwMO0CuR+F6FG4wQDMzMzMzsyBApHA9CtejMkA9CtejcL0nQI/C9ShcjyNACtejcD0KHkA9CtejcD0eQPYoXI/C9S9A",
          "dtype": "f8"
         },
         "y0": " ",
         "yaxis": "y2"
        },
        {
         "alignmentgroup": "True",
         "boxpoints": "all",
         "customdata": [
          [
           "Dinner",
           4
          ],
          [
           "Dinner",
           2
          ],
          [
           "Dinner",
           2
          ],
          [
           "Dinner",
           2
          ],
          [
           "Dinner",
           2
          ],
          [
           "Dinner",
           4
          ],
          [
           "Dinner",
           1
          ],
          [
           "Dinner",
           2
          ],
          [
           "Dinner",
           2
          ],
          [
           "Dinner",
           2
          ],
          [
           "Dinner",
           2
          ],
          [
           "Dinner",
           2
          ],
          [
           "Dinner",
           2
          ],
          [
           "Dinner",
           2
          ],
          [
           "Dinner",
           4
          ],
          [
           "Dinner",
           2
          ],
          [
           "Dinner",
           2
          ],
          [
           "Dinner",
           2
          ],
          [
           "Dinner",
           2
          ],
          [
           "Dinner",
           2
          ],
          [
           "Dinner",
           3
          ],
          [
           "Dinner",
           2
          ],
          [
           "Dinner",
           2
          ],
          [
           "Dinner",
           2
          ],
          [
           "Dinner",
           2
          ],
          [
           "Dinner",
           2
          ],
          [
           "Dinner",
           2
          ],
          [
           "Dinner",
           2
          ],
          [
           "Dinner",
           2
          ],
          [
           "Dinner",
           3
          ],
          [
           "Dinner",
           2
          ],
          [
           "Dinner",
           2
          ],
          [
           "Dinner",
           2
          ],
          [
           "Dinner",
           2
          ],
          [
           "Dinner",
           2
          ],
          [
           "Dinner",
           2
          ],
          [
           "Dinner",
           2
          ],
          [
           "Dinner",
           2
          ],
          [
           "Dinner",
           2
          ],
          [
           "Dinner",
           4
          ],
          [
           "Dinner",
           2
          ],
          [
           "Dinner",
           3
          ],
          [
           "Dinner",
           4
          ],
          [
           "Dinner",
           2
          ],
          [
           "Dinner",
           3
          ],
          [
           "Dinner",
           5
          ],
          [
           "Dinner",
           3
          ],
          [
           "Dinner",
           3
          ],
          [
           "Dinner",
           2
          ],
          [
           "Dinner",
           3
          ],
          [
           "Dinner",
           4
          ],
          [
           "Dinner",
           2
          ],
          [
           "Dinner",
           2
          ],
          [
           "Dinner",
           3
          ],
          [
           "Dinner",
           4
          ],
          [
           "Dinner",
           2
          ],
          [
           "Dinner",
           3
          ],
          [
           "Dinner",
           2
          ],
          [
           "Dinner",
           5
          ],
          [
           "Dinner",
           2
          ],
          [
           "Dinner",
           2
          ],
          [
           "Dinner",
           4
          ],
          [
           "Dinner",
           2
          ],
          [
           "Dinner",
           4
          ],
          [
           "Dinner",
           3
          ],
          [
           "Dinner",
           2
          ],
          [
           "Dinner",
           2
          ],
          [
           "Dinner",
           2
          ],
          [
           "Dinner",
           2
          ],
          [
           "Dinner",
           2
          ]
         ],
         "hovertemplate": "<b>%{hovertext}</b><br><br>smoker=Yes<br>time=%{customdata[0]}<br>요일=%{x}<br>총 계산 금액 ($)=%{y}<br>size=%{customdata[1]}<extra></extra>",
         "hovertext": [
          "Male",
          "Male",
          "Male",
          "Male",
          "Male",
          "Male",
          "Female",
          "Male",
          "Female",
          "Female",
          "Male",
          "Male",
          "Female",
          "Female",
          "Male",
          "Male",
          "Male",
          "Male",
          "Female",
          "Female",
          "Female",
          "Female",
          "Male",
          "Male",
          "Male",
          "Female",
          "Female",
          "Female",
          "Female",
          "Male",
          "Male",
          "Male",
          "Male",
          "Male",
          "Male",
          "Male",
          "Male",
          "Female",
          "Male",
          "Male",
          "Male",
          "Male",
          "Male",
          "Male",
          "Female",
          "Male",
          "Female",
          "Male",
          "Male",
          "Male",
          "Male",
          "Male",
          "Female",
          "Male",
          "Male",
          "Female",
          "Female",
          "Female",
          "Male",
          "Male",
          "Male",
          "Female",
          "Female",
          "Male",
          "Male",
          "Male",
          "Male",
          "Male",
          "Female",
          "Male"
         ],
         "legendgroup": "Yes",
         "marker": {
          "color": "rgb(252,141,98)"
         },
         "name": "Yes",
         "notched": true,
         "offsetgroup": "Yes",
         "orientation": "v",
         "showlegend": true,
         "type": "box",
         "x": [
          "Sat",
          "Sat",
          "Sat",
          "Sat",
          "Sat",
          "Sat",
          "Sat",
          "Sat",
          "Sat",
          "Sat",
          "Sat",
          "Fri",
          "Fri",
          "Fri",
          "Fri",
          "Fri",
          "Fri",
          "Fri",
          "Fri",
          "Fri",
          "Sat",
          "Sat",
          "Sat",
          "Sat",
          "Sat",
          "Sat",
          "Sun",
          "Sat",
          "Sat",
          "Sat",
          "Sat",
          "Sun",
          "Sun",
          "Sun",
          "Sun",
          "Sun",
          "Sun",
          "Sun",
          "Sun",
          "Sun",
          "Sun",
          "Sun",
          "Sun",
          "Sun",
          "Sun",
          "Sun",
          "Sun",
          "Sun",
          "Sun",
          "Sat",
          "Sat",
          "Sat",
          "Sat",
          "Sat",
          "Sat",
          "Sat",
          "Sat",
          "Sat",
          "Sat",
          "Sat",
          "Sat",
          "Sat",
          "Sat",
          "Sat",
          "Sat",
          "Sat",
          "Sat",
          "Sat",
          "Sat",
          "Sat"
         ],
         "x0": " ",
         "xaxis": "x",
         "y": {
          "_inputArray": {
           "0": 38.01,
           "1": 11.24,
           "10": 17.92,
           "11": 28.97,
           "12": 5.75,
           "13": 16.32,
           "14": 40.17,
           "15": 27.28,
           "16": 12.03,
           "17": 21.01,
           "18": 11.35,
           "19": 15.38,
           "2": 20.29,
           "20": 44.3,
           "21": 22.42,
           "22": 15.36,
           "23": 20.49,
           "24": 25.21,
           "25": 14.31,
           "26": 17.51,
           "27": 10.59,
           "28": 10.63,
           "29": 50.81,
           "3": 13.81,
           "30": 15.81,
           "31": 7.25,
           "32": 31.85,
           "33": 16.82,
           "34": 32.9,
           "35": 17.89,
           "36": 14.48,
           "37": 9.6,
           "38": 34.63,
           "39": 34.65,
           "4": 11.02,
           "40": 23.33,
           "41": 45.35,
           "42": 23.17,
           "43": 40.55,
           "44": 20.9,
           "45": 30.46,
           "46": 18.15,
           "47": 23.1,
           "48": 15.69,
           "49": 26.59,
           "5": 18.29,
           "50": 38.73,
           "51": 24.27,
           "52": 12.76,
           "53": 30.06,
           "54": 25.89,
           "55": 13.27,
           "56": 28.17,
           "57": 12.9,
           "58": 28.15,
           "59": 11.59,
           "6": 3.07,
           "60": 7.74,
           "61": 30.14,
           "62": 22.12,
           "63": 24.01,
           "64": 15.69,
           "65": 15.53,
           "66": 12.6,
           "67": 32.83,
           "68": 27.18,
           "69": 22.67,
           "7": 15.01,
           "8": 26.86,
           "9": 25.28,
           "bdata": "4XoUrkcBQ0B7FK5H4XomQArXo3A9SjRAH4XrUbieK0AK16NwPQomQArXo3A9SjJAj8L1KFyPCECF61G4HgUuQFyPwvUo3DpASOF6FK5HOUDsUbgehesxQLgehetR+DxAAAAAAAAAF0BSuB6F61EwQPYoXI/CFURASOF6FK5HO0CPwvUoXA8oQMP1KFyPAjVAMzMzMzOzJkDD9Shcj8IuQGZmZmZmJkZA7FG4HoVrNkC4HoXrUbguQD0K16NwfTRA9ihcj8I1OUAfhetRuJ4sQMP1KFyPgjFArkfhehQuJUDD9Shcj0IlQEjhehSuZ0lAH4XrUbieL0AAAAAAAAAdQJqZmZmZ2T9AUrgehevRMEAzMzMzM3NAQKRwPQrX4zFA9ihcj8L1LEAzMzMzMzMjQHE9CtejUEFAMzMzMzNTQUAUrkfhelQ3QM3MzMzMrEZA7FG4HoUrN0BmZmZmZkZEQGZmZmZm5jRA9ihcj8J1PkBmZmZmZiYyQJqZmZmZGTdA4XoUrkdhL0DXo3A9Cpc6QD0K16NwXUNAhetRuB5FOECF61G4HoUpQI/C9ShcDz5ApHA9CtfjOUAK16NwPYoqQOxRuB6FKzxAzczMzMzMKUBmZmZmZiY8QK5H4XoULidA9ihcj8L1HkCkcD0K1yM+QB+F61G4HjZAw/UoXI8COEDhehSuR2EvQI/C9ShcDy9AMzMzMzMzKUAK16NwPWpAQK5H4XoULjtA7FG4HoWrNkA=",
           "dtype": "f8",
           "shape": "70"
          },
          "bdata": "4XoUrkcBQ0B7FK5H4XomQArXo3A9SjRAH4XrUbieK0AK16NwPQomQArXo3A9SjJAj8L1KFyPCECF61G4HgUuQFyPwvUo3DpASOF6FK5HOUDsUbgehesxQLgehetR+DxAAAAAAAAAF0BSuB6F61EwQPYoXI/CFURASOF6FK5HO0CPwvUoXA8oQMP1KFyPAjVAMzMzMzOzJkDD9Shcj8IuQGZmZmZmJkZA7FG4HoVrNkC4HoXrUbguQD0K16NwfTRA9ihcj8I1OUAfhetRuJ4sQMP1KFyPgjFArkfhehQuJUDD9Shcj0IlQEjhehSuZ0lAH4XrUbieL0AAAAAAAAAdQJqZmZmZ2T9AUrgehevRMEAzMzMzM3NAQKRwPQrX4zFA9ihcj8L1LEAzMzMzMzMjQHE9CtejUEFAMzMzMzNTQUAUrkfhelQ3QM3MzMzMrEZA7FG4HoUrN0BmZmZmZkZEQGZmZmZm5jRA9ihcj8J1PkBmZmZmZiYyQJqZmZmZGTdA4XoUrkdhL0DXo3A9Cpc6QD0K16NwXUNAhetRuB5FOECF61G4HoUpQI/C9ShcDz5ApHA9CtfjOUAK16NwPYoqQOxRuB6FKzxAzczMzMzMKUBmZmZmZiY8QK5H4XoULidA9ihcj8L1HkCkcD0K1yM+QB+F61G4HjZAw/UoXI8COEDhehSuR2EvQI/C9ShcDy9AMzMzMzMzKUAK16NwPWpAQK5H4XoULjtA7FG4HoWrNkA=",
          "dtype": "f8"
         },
         "y0": " ",
         "yaxis": "y"
        },
        {
         "alignmentgroup": "True",
         "boxpoints": "all",
         "customdata": [
          [
           "Lunch",
           2
          ],
          [
           "Lunch",
           2
          ],
          [
           "Lunch",
           2
          ],
          [
           "Lunch",
           2
          ],
          [
           "Lunch",
           2
          ],
          [
           "Lunch",
           2
          ],
          [
           "Lunch",
           2
          ],
          [
           "Lunch",
           2
          ],
          [
           "Lunch",
           4
          ],
          [
           "Lunch",
           2
          ],
          [
           "Lunch",
           2
          ],
          [
           "Lunch",
           3
          ],
          [
           "Lunch",
           2
          ],
          [
           "Lunch",
           2
          ],
          [
           "Lunch",
           2
          ],
          [
           "Lunch",
           4
          ],
          [
           "Lunch",
           3
          ],
          [
           "Lunch",
           2
          ],
          [
           "Lunch",
           2
          ],
          [
           "Lunch",
           1
          ],
          [
           "Lunch",
           2
          ],
          [
           "Lunch",
           2
          ],
          [
           "Lunch",
           2
          ]
         ],
         "hovertemplate": "<b>%{hovertext}</b><br><br>smoker=Yes<br>time=%{customdata[0]}<br>요일=%{x}<br>총 계산 금액 ($)=%{y}<br>size=%{customdata[1]}<extra></extra>",
         "hovertext": [
          "Male",
          "Male",
          "Male",
          "Female",
          "Male",
          "Male",
          "Male",
          "Male",
          "Female",
          "Female",
          "Male",
          "Male",
          "Female",
          "Female",
          "Female",
          "Male",
          "Female",
          "Male",
          "Female",
          "Male",
          "Male",
          "Female",
          "Female"
         ],
         "legendgroup": "Yes",
         "marker": {
          "color": "rgb(252,141,98)"
         },
         "name": "Yes",
         "notched": true,
         "offsetgroup": "Yes",
         "orientation": "v",
         "showlegend": false,
         "type": "box",
         "x": [
          "Thur",
          "Thur",
          "Thur",
          "Thur",
          "Thur",
          "Thur",
          "Thur",
          "Thur",
          "Thur",
          "Thur",
          "Thur",
          "Thur",
          "Thur",
          "Thur",
          "Thur",
          "Thur",
          "Thur",
          "Fri",
          "Fri",
          "Fri",
          "Fri",
          "Fri",
          "Fri"
         ],
         "x0": " ",
         "xaxis": "x2",
         "y": {
          "_inputArray": {
           "0": 19.44,
           "1": 32.68,
           "10": 13.51,
           "11": 18.71,
           "12": 12.74,
           "13": 13,
           "14": 16.4,
           "15": 20.53,
           "16": 16.47,
           "17": 12.16,
           "18": 13.42,
           "19": 8.58,
           "2": 16,
           "20": 13.42,
           "21": 16.27,
           "22": 10.09,
           "3": 19.81,
           "4": 28.44,
           "5": 15.48,
           "6": 16.58,
           "7": 10.34,
           "8": 43.11,
           "9": 13,
           "bdata": "cT0K16NwM0DXo3A9CldAQAAAAAAAADBAj8L1KFzPM0BxPQrXo3A8QPYoXI/C9S5AFK5H4XqUMECuR+F6FK4kQK5H4XoUjkVAAAAAAAAAKkCF61G4HgUrQPYoXI/CtTJAexSuR+F6KUAAAAAAAAAqQGZmZmZmZjBASOF6FK6HNEC4HoXrUXgwQFK4HoXrUShA16NwPQrXKkApXI/C9SghQNejcD0K1ypAhetRuB5FMECuR+F6FC4kQA==",
           "dtype": "f8",
           "shape": "23"
          },
          "bdata": "cT0K16NwM0DXo3A9CldAQAAAAAAAADBAj8L1KFzPM0BxPQrXo3A8QPYoXI/C9S5AFK5H4XqUMECuR+F6FK4kQK5H4XoUjkVAAAAAAAAAKkCF61G4HgUrQPYoXI/CtTJAexSuR+F6KUAAAAAAAAAqQGZmZmZmZjBASOF6FK6HNEC4HoXrUXgwQFK4HoXrUShA16NwPQrXKkApXI/C9SghQNejcD0K1ypAhetRuB5FMECuR+F6FC4kQA==",
          "dtype": "f8"
         },
         "y0": " ",
         "yaxis": "y2"
        }
       ],
       "layout": {
        "annotations": [
         {
          "font": {},
          "showarrow": false,
          "text": "time=Dinner",
          "x": 0.245,
          "xanchor": "center",
          "xref": "paper",
          "y": 1,
          "yanchor": "bottom",
          "yref": "paper"
         },
         {
          "font": {},
          "showarrow": false,
          "text": "time=Lunch",
          "x": 0.755,
          "xanchor": "center",
          "xref": "paper",
          "y": 1,
          "yanchor": "bottom",
          "yref": "paper"
         }
        ],
        "boxmode": "group",
        "height": 500,
        "legend": {
         "title": {
          "text": "smoker"
         },
         "tracegroupgap": 0
        },
        "template": {
         "data": {
          "bar": [
           {
            "error_x": {
             "color": "#2a3f5f"
            },
            "error_y": {
             "color": "#2a3f5f"
            },
            "marker": {
             "line": {
              "color": "white",
              "width": 0.5
             },
             "pattern": {
              "fillmode": "overlay",
              "size": 10,
              "solidity": 0.2
             }
            },
            "type": "bar"
           }
          ],
          "barpolar": [
           {
            "marker": {
             "line": {
              "color": "white",
              "width": 0.5
             },
             "pattern": {
              "fillmode": "overlay",
              "size": 10,
              "solidity": 0.2
             }
            },
            "type": "barpolar"
           }
          ],
          "carpet": [
           {
            "aaxis": {
             "endlinecolor": "#2a3f5f",
             "gridcolor": "#C8D4E3",
             "linecolor": "#C8D4E3",
             "minorgridcolor": "#C8D4E3",
             "startlinecolor": "#2a3f5f"
            },
            "baxis": {
             "endlinecolor": "#2a3f5f",
             "gridcolor": "#C8D4E3",
             "linecolor": "#C8D4E3",
             "minorgridcolor": "#C8D4E3",
             "startlinecolor": "#2a3f5f"
            },
            "type": "carpet"
           }
          ],
          "choropleth": [
           {
            "colorbar": {
             "outlinewidth": 0,
             "ticks": ""
            },
            "type": "choropleth"
           }
          ],
          "contour": [
           {
            "colorbar": {
             "outlinewidth": 0,
             "ticks": ""
            },
            "colorscale": [
             [
              0,
              "#0d0887"
             ],
             [
              0.1111111111111111,
              "#46039f"
             ],
             [
              0.2222222222222222,
              "#7201a8"
             ],
             [
              0.3333333333333333,
              "#9c179e"
             ],
             [
              0.4444444444444444,
              "#bd3786"
             ],
             [
              0.5555555555555556,
              "#d8576b"
             ],
             [
              0.6666666666666666,
              "#ed7953"
             ],
             [
              0.7777777777777778,
              "#fb9f3a"
             ],
             [
              0.8888888888888888,
              "#fdca26"
             ],
             [
              1,
              "#f0f921"
             ]
            ],
            "type": "contour"
           }
          ],
          "contourcarpet": [
           {
            "colorbar": {
             "outlinewidth": 0,
             "ticks": ""
            },
            "type": "contourcarpet"
           }
          ],
          "heatmap": [
           {
            "colorbar": {
             "outlinewidth": 0,
             "ticks": ""
            },
            "colorscale": [
             [
              0,
              "#0d0887"
             ],
             [
              0.1111111111111111,
              "#46039f"
             ],
             [
              0.2222222222222222,
              "#7201a8"
             ],
             [
              0.3333333333333333,
              "#9c179e"
             ],
             [
              0.4444444444444444,
              "#bd3786"
             ],
             [
              0.5555555555555556,
              "#d8576b"
             ],
             [
              0.6666666666666666,
              "#ed7953"
             ],
             [
              0.7777777777777778,
              "#fb9f3a"
             ],
             [
              0.8888888888888888,
              "#fdca26"
             ],
             [
              1,
              "#f0f921"
             ]
            ],
            "type": "heatmap"
           }
          ],
          "histogram": [
           {
            "marker": {
             "pattern": {
              "fillmode": "overlay",
              "size": 10,
              "solidity": 0.2
             }
            },
            "type": "histogram"
           }
          ],
          "histogram2d": [
           {
            "colorbar": {
             "outlinewidth": 0,
             "ticks": ""
            },
            "colorscale": [
             [
              0,
              "#0d0887"
             ],
             [
              0.1111111111111111,
              "#46039f"
             ],
             [
              0.2222222222222222,
              "#7201a8"
             ],
             [
              0.3333333333333333,
              "#9c179e"
             ],
             [
              0.4444444444444444,
              "#bd3786"
             ],
             [
              0.5555555555555556,
              "#d8576b"
             ],
             [
              0.6666666666666666,
              "#ed7953"
             ],
             [
              0.7777777777777778,
              "#fb9f3a"
             ],
             [
              0.8888888888888888,
              "#fdca26"
             ],
             [
              1,
              "#f0f921"
             ]
            ],
            "type": "histogram2d"
           }
          ],
          "histogram2dcontour": [
           {
            "colorbar": {
             "outlinewidth": 0,
             "ticks": ""
            },
            "colorscale": [
             [
              0,
              "#0d0887"
             ],
             [
              0.1111111111111111,
              "#46039f"
             ],
             [
              0.2222222222222222,
              "#7201a8"
             ],
             [
              0.3333333333333333,
              "#9c179e"
             ],
             [
              0.4444444444444444,
              "#bd3786"
             ],
             [
              0.5555555555555556,
              "#d8576b"
             ],
             [
              0.6666666666666666,
              "#ed7953"
             ],
             [
              0.7777777777777778,
              "#fb9f3a"
             ],
             [
              0.8888888888888888,
              "#fdca26"
             ],
             [
              1,
              "#f0f921"
             ]
            ],
            "type": "histogram2dcontour"
           }
          ],
          "mesh3d": [
           {
            "colorbar": {
             "outlinewidth": 0,
             "ticks": ""
            },
            "type": "mesh3d"
           }
          ],
          "parcoords": [
           {
            "line": {
             "colorbar": {
              "outlinewidth": 0,
              "ticks": ""
             }
            },
            "type": "parcoords"
           }
          ],
          "pie": [
           {
            "automargin": true,
            "type": "pie"
           }
          ],
          "scatter": [
           {
            "fillpattern": {
             "fillmode": "overlay",
             "size": 10,
             "solidity": 0.2
            },
            "type": "scatter"
           }
          ],
          "scatter3d": [
           {
            "line": {
             "colorbar": {
              "outlinewidth": 0,
              "ticks": ""
             }
            },
            "marker": {
             "colorbar": {
              "outlinewidth": 0,
              "ticks": ""
             }
            },
            "type": "scatter3d"
           }
          ],
          "scattercarpet": [
           {
            "marker": {
             "colorbar": {
              "outlinewidth": 0,
              "ticks": ""
             }
            },
            "type": "scattercarpet"
           }
          ],
          "scattergeo": [
           {
            "marker": {
             "colorbar": {
              "outlinewidth": 0,
              "ticks": ""
             }
            },
            "type": "scattergeo"
           }
          ],
          "scattergl": [
           {
            "marker": {
             "colorbar": {
              "outlinewidth": 0,
              "ticks": ""
             }
            },
            "type": "scattergl"
           }
          ],
          "scattermap": [
           {
            "marker": {
             "colorbar": {
              "outlinewidth": 0,
              "ticks": ""
             }
            },
            "type": "scattermap"
           }
          ],
          "scattermapbox": [
           {
            "marker": {
             "colorbar": {
              "outlinewidth": 0,
              "ticks": ""
             }
            },
            "type": "scattermapbox"
           }
          ],
          "scatterpolar": [
           {
            "marker": {
             "colorbar": {
              "outlinewidth": 0,
              "ticks": ""
             }
            },
            "type": "scatterpolar"
           }
          ],
          "scatterpolargl": [
           {
            "marker": {
             "colorbar": {
              "outlinewidth": 0,
              "ticks": ""
             }
            },
            "type": "scatterpolargl"
           }
          ],
          "scatterternary": [
           {
            "marker": {
             "colorbar": {
              "outlinewidth": 0,
              "ticks": ""
             }
            },
            "type": "scatterternary"
           }
          ],
          "surface": [
           {
            "colorbar": {
             "outlinewidth": 0,
             "ticks": ""
            },
            "colorscale": [
             [
              0,
              "#0d0887"
             ],
             [
              0.1111111111111111,
              "#46039f"
             ],
             [
              0.2222222222222222,
              "#7201a8"
             ],
             [
              0.3333333333333333,
              "#9c179e"
             ],
             [
              0.4444444444444444,
              "#bd3786"
             ],
             [
              0.5555555555555556,
              "#d8576b"
             ],
             [
              0.6666666666666666,
              "#ed7953"
             ],
             [
              0.7777777777777778,
              "#fb9f3a"
             ],
             [
              0.8888888888888888,
              "#fdca26"
             ],
             [
              1,
              "#f0f921"
             ]
            ],
            "type": "surface"
           }
          ],
          "table": [
           {
            "cells": {
             "fill": {
              "color": "#EBF0F8"
             },
             "line": {
              "color": "white"
             }
            },
            "header": {
             "fill": {
              "color": "#C8D4E3"
             },
             "line": {
              "color": "white"
             }
            },
            "type": "table"
           }
          ]
         },
         "layout": {
          "annotationdefaults": {
           "arrowcolor": "#2a3f5f",
           "arrowhead": 0,
           "arrowwidth": 1
          },
          "autotypenumbers": "strict",
          "coloraxis": {
           "colorbar": {
            "outlinewidth": 0,
            "ticks": ""
           }
          },
          "colorscale": {
           "diverging": [
            [
             0,
             "#8e0152"
            ],
            [
             0.1,
             "#c51b7d"
            ],
            [
             0.2,
             "#de77ae"
            ],
            [
             0.3,
             "#f1b6da"
            ],
            [
             0.4,
             "#fde0ef"
            ],
            [
             0.5,
             "#f7f7f7"
            ],
            [
             0.6,
             "#e6f5d0"
            ],
            [
             0.7,
             "#b8e186"
            ],
            [
             0.8,
             "#7fbc41"
            ],
            [
             0.9,
             "#4d9221"
            ],
            [
             1,
             "#276419"
            ]
           ],
           "sequential": [
            [
             0,
             "#0d0887"
            ],
            [
             0.1111111111111111,
             "#46039f"
            ],
            [
             0.2222222222222222,
             "#7201a8"
            ],
            [
             0.3333333333333333,
             "#9c179e"
            ],
            [
             0.4444444444444444,
             "#bd3786"
            ],
            [
             0.5555555555555556,
             "#d8576b"
            ],
            [
             0.6666666666666666,
             "#ed7953"
            ],
            [
             0.7777777777777778,
             "#fb9f3a"
            ],
            [
             0.8888888888888888,
             "#fdca26"
            ],
            [
             1,
             "#f0f921"
            ]
           ],
           "sequentialminus": [
            [
             0,
             "#0d0887"
            ],
            [
             0.1111111111111111,
             "#46039f"
            ],
            [
             0.2222222222222222,
             "#7201a8"
            ],
            [
             0.3333333333333333,
             "#9c179e"
            ],
            [
             0.4444444444444444,
             "#bd3786"
            ],
            [
             0.5555555555555556,
             "#d8576b"
            ],
            [
             0.6666666666666666,
             "#ed7953"
            ],
            [
             0.7777777777777778,
             "#fb9f3a"
            ],
            [
             0.8888888888888888,
             "#fdca26"
            ],
            [
             1,
             "#f0f921"
            ]
           ]
          },
          "colorway": [
           "#636efa",
           "#EF553B",
           "#00cc96",
           "#ab63fa",
           "#FFA15A",
           "#19d3f3",
           "#FF6692",
           "#B6E880",
           "#FF97FF",
           "#FECB52"
          ],
          "font": {
           "color": "#2a3f5f"
          },
          "geo": {
           "bgcolor": "white",
           "lakecolor": "white",
           "landcolor": "white",
           "showlakes": true,
           "showland": true,
           "subunitcolor": "#C8D4E3"
          },
          "hoverlabel": {
           "align": "left"
          },
          "hovermode": "closest",
          "mapbox": {
           "style": "light"
          },
          "paper_bgcolor": "white",
          "plot_bgcolor": "white",
          "polar": {
           "angularaxis": {
            "gridcolor": "#EBF0F8",
            "linecolor": "#EBF0F8",
            "ticks": ""
           },
           "bgcolor": "white",
           "radialaxis": {
            "gridcolor": "#EBF0F8",
            "linecolor": "#EBF0F8",
            "ticks": ""
           }
          },
          "scene": {
           "xaxis": {
            "backgroundcolor": "white",
            "gridcolor": "#DFE8F3",
            "gridwidth": 2,
            "linecolor": "#EBF0F8",
            "showbackground": true,
            "ticks": "",
            "zerolinecolor": "#EBF0F8"
           },
           "yaxis": {
            "backgroundcolor": "white",
            "gridcolor": "#DFE8F3",
            "gridwidth": 2,
            "linecolor": "#EBF0F8",
            "showbackground": true,
            "ticks": "",
            "zerolinecolor": "#EBF0F8"
           },
           "zaxis": {
            "backgroundcolor": "white",
            "gridcolor": "#DFE8F3",
            "gridwidth": 2,
            "linecolor": "#EBF0F8",
            "showbackground": true,
            "ticks": "",
            "zerolinecolor": "#EBF0F8"
           }
          },
          "shapedefaults": {
           "line": {
            "color": "#2a3f5f"
           }
          },
          "ternary": {
           "aaxis": {
            "gridcolor": "#DFE8F3",
            "linecolor": "#A2B1C6",
            "ticks": ""
           },
           "baxis": {
            "gridcolor": "#DFE8F3",
            "linecolor": "#A2B1C6",
            "ticks": ""
           },
           "bgcolor": "white",
           "caxis": {
            "gridcolor": "#DFE8F3",
            "linecolor": "#A2B1C6",
            "ticks": ""
           }
          },
          "title": {
           "x": 0.05
          },
          "xaxis": {
           "automargin": true,
           "gridcolor": "#EBF0F8",
           "linecolor": "#EBF0F8",
           "ticks": "",
           "title": {
            "standoff": 15
           },
           "zerolinecolor": "#EBF0F8",
           "zerolinewidth": 2
          },
          "yaxis": {
           "automargin": true,
           "gridcolor": "#EBF0F8",
           "linecolor": "#EBF0F8",
           "ticks": "",
           "title": {
            "standoff": 15
           },
           "zerolinecolor": "#EBF0F8",
           "zerolinewidth": 2
          }
         }
        },
        "title": {
         "text": "요일별 총 계산 금액 분포 (흡연 여부 기준)"
        },
        "width": 900,
        "xaxis": {
         "anchor": "y",
         "autorange": true,
         "categoryarray": [
          "Thur",
          "Fri",
          "Sat",
          "Sun"
         ],
         "categoryorder": "array",
         "domain": [
          0,
          0.49
         ],
         "range": [
          -0.7999859111632395,
          3.72631504795596
         ],
         "title": {
          "text": "요일"
         },
         "type": "category"
        },
        "xaxis2": {
         "anchor": "y2",
         "autorange": true,
         "categoryarray": [
          "Thur",
          "Fri",
          "Sat",
          "Sun"
         ],
         "categoryorder": "array",
         "domain": [
          0.51,
          1
         ],
         "matches": "x",
         "range": [
          -0.7999859111632395,
          3.72631504795596
         ],
         "title": {
          "text": "요일"
         },
         "type": "category"
        },
        "yaxis": {
         "anchor": "x",
         "domain": [
          0,
          1
         ],
         "range": [
          0,
          60
         ],
         "title": {
          "text": "총 계산 금액 ($)"
         },
         "type": "linear"
        },
        "yaxis2": {
         "anchor": "x2",
         "domain": [
          0,
          1
         ],
         "matches": "y",
         "showticklabels": false,
         "type": "linear"
        }
       }
      },
      "image/png": "[encoded data removed]"
     },
     "metadata": {},
     "output_type": "display_data"
    }
   ],
   "source": [
    "import plotly.express as px\n",
    "import seaborn as sns\n",
    "\n",
    "#-------------------------------------------------------\n",
    "# 1. 예제 데이터 로드 (Seaborn 내장 'tips' 데이터셋)\n",
    "#-------------------------------------------------------\n",
    "df_tips = sns.load_dataset(\"tips\")\n",
    "\n",
    "#-------------------------------------------------------\n",
    "# 2. Plotly Express Box Plot (대화형 박스플롯)\n",
    "#-------------------------------------------------------\n",
    "fig = px.box(\n",
    "    data_frame=df_tips,           # 사용할 데이터프레임\n",
    "    x=\"day\",                      # X축: 요일\n",
    "    y=\"total_bill\",               # Y축: 총 계산 금액\n",
    "    color=\"smoker\",               # 색상 구분 기준 (범주형)\n",
    "    points=\"all\",                 # 이상치 점 표시 방식 ('outliers', 'suspectedoutliers', 'all', False)\n",
    "    notched=True,                 # 박스 중앙에 notch(홈) 표시 → 중앙값 신뢰구간 시각화\n",
    "    boxmode=\"group\",              # 그룹 표시 방식 ('group', 'overlay')\n",
    "    hover_name=\"sex\",             # 마우스 오버 시 표시할 대표 이름\n",
    "    hover_data=[\"time\", \"size\"],  # 툴팁에 표시할 추가 정보\n",
    "    category_orders={\"day\": [\"Thur\", \"Fri\", \"Sat\", \"Sun\"]},  # X축 카테고리 순서 지정\n",
    "    title=\"요일별 총 계산 금액 분포 (흡연 여부 기준)\",  # 그래프 제목\n",
    "    labels={\"total_bill\": \"총 계산 금액 ($)\", \"day\": \"요일\"},  # 축/범례 라벨 지정\n",
    "    color_discrete_sequence=px.colors.qualitative.Set2,  # 색상 팔레트\n",
    "    template=\"plotly_white\",      # 그래프 테마 ('plotly_dark', 'ggplot2', 'seaborn' 등)\n",
    "    width=900,                    # 그래프 가로 크기 (px)\n",
    "    height=500,                   # 그래프 세로 크기 (px)\n",
    "    facet_col=\"time\",             # 열(컬럼) 단위로 그래프 분할 (점심/저녁)\n",
    "    facet_row=None,               # 행 단위 분할 (None = 사용 안 함)\n",
    "    animation_frame=None,         # 애니메이션 기준 변수 (시간 변수 등)\n",
    "    orientation=\"v\",              # 박스 방향 ('v' 세로, 'h' 가로)\n",
    "    range_y=[0, 60],              # Y축 범위 지정\n",
    "    log_y=False                   # Y축 로그 스케일 사용 여부\n",
    ")\n",
    "\n",
    "#-------------------------------------------------------\n",
    "# 3. 그래프 출력\n",
    "#-------------------------------------------------------\n",
    "fig.show()\n"
   ]
  },
  {
   "cell_type": "code",
   "execution_count": 11,
   "id": "3f30b349-7eff-44bf-9942-6eabf44eecb3",
   "metadata": {},
   "outputs": [
    {
     "data": {
      "application/vnd.plotly.v1+json": {
       "config": {
        "plotlyServerURL": "https://plot.ly"
       },
       "data": [
        {
         "hovertemplate": "Date=%{x}<br>Sales=%{y}<extra></extra>",
         "legendgroup": "",
         "line": {
          "color": "#636efa",
          "dash": "solid"
         },
         "marker": {
          "symbol": "circle"
         },
         "mode": "lines",
         "name": "",
         "orientation": "v",
         "showlegend": false,
         "type": "scatter",
         "x": [
          "2024-01-01T00:00:00.000000000",
          "2024-01-02T00:00:00.000000000",
          "2024-01-03T00:00:00.000000000",
          "2024-01-04T00:00:00.000000000",
          "2024-01-05T00:00:00.000000000",
          "2024-01-06T00:00:00.000000000",
          "2024-01-07T00:00:00.000000000",
          "2024-01-08T00:00:00.000000000",
          "2024-01-09T00:00:00.000000000",
          "2024-01-10T00:00:00.000000000",
          "2024-01-11T00:00:00.000000000",
          "2024-01-12T00:00:00.000000000",
          "2024-01-13T00:00:00.000000000",
          "2024-01-14T00:00:00.000000000",
          "2024-01-15T00:00:00.000000000",
          "2024-01-16T00:00:00.000000000",
          "2024-01-17T00:00:00.000000000",
          "2024-01-18T00:00:00.000000000",
          "2024-01-19T00:00:00.000000000",
          "2024-01-20T00:00:00.000000000",
          "2024-01-21T00:00:00.000000000",
          "2024-01-22T00:00:00.000000000",
          "2024-01-23T00:00:00.000000000",
          "2024-01-24T00:00:00.000000000",
          "2024-01-25T00:00:00.000000000",
          "2024-01-26T00:00:00.000000000",
          "2024-01-27T00:00:00.000000000",
          "2024-01-28T00:00:00.000000000",
          "2024-01-29T00:00:00.000000000",
          "2024-01-30T00:00:00.000000000",
          "2024-01-31T00:00:00.000000000",
          "2024-02-01T00:00:00.000000000",
          "2024-02-02T00:00:00.000000000",
          "2024-02-03T00:00:00.000000000",
          "2024-02-04T00:00:00.000000000",
          "2024-02-05T00:00:00.000000000",
          "2024-02-06T00:00:00.000000000",
          "2024-02-07T00:00:00.000000000",
          "2024-02-08T00:00:00.000000000",
          "2024-02-09T00:00:00.000000000",
          "2024-02-10T00:00:00.000000000",
          "2024-02-11T00:00:00.000000000",
          "2024-02-12T00:00:00.000000000",
          "2024-02-13T00:00:00.000000000",
          "2024-02-14T00:00:00.000000000",
          "2024-02-15T00:00:00.000000000",
          "2024-02-16T00:00:00.000000000",
          "2024-02-17T00:00:00.000000000",
          "2024-02-18T00:00:00.000000000",
          "2024-02-19T00:00:00.000000000",
          "2024-02-20T00:00:00.000000000",
          "2024-02-21T00:00:00.000000000",
          "2024-02-22T00:00:00.000000000",
          "2024-02-23T00:00:00.000000000",
          "2024-02-24T00:00:00.000000000",
          "2024-02-25T00:00:00.000000000",
          "2024-02-26T00:00:00.000000000",
          "2024-02-27T00:00:00.000000000",
          "2024-02-28T00:00:00.000000000",
          "2024-02-29T00:00:00.000000000",
          "2024-03-01T00:00:00.000000000",
          "2024-03-02T00:00:00.000000000",
          "2024-03-03T00:00:00.000000000",
          "2024-03-04T00:00:00.000000000",
          "2024-03-05T00:00:00.000000000",
          "2024-03-06T00:00:00.000000000",
          "2024-03-07T00:00:00.000000000",
          "2024-03-08T00:00:00.000000000",
          "2024-03-09T00:00:00.000000000",
          "2024-03-10T00:00:00.000000000",
          "2024-03-11T00:00:00.000000000",
          "2024-03-12T00:00:00.000000000",
          "2024-03-13T00:00:00.000000000",
          "2024-03-14T00:00:00.000000000",
          "2024-03-15T00:00:00.000000000",
          "2024-03-16T00:00:00.000000000",
          "2024-03-17T00:00:00.000000000",
          "2024-03-18T00:00:00.000000000",
          "2024-03-19T00:00:00.000000000",
          "2024-03-20T00:00:00.000000000",
          "2024-03-21T00:00:00.000000000",
          "2024-03-22T00:00:00.000000000",
          "2024-03-23T00:00:00.000000000",
          "2024-03-24T00:00:00.000000000",
          "2024-03-25T00:00:00.000000000",
          "2024-03-26T00:00:00.000000000",
          "2024-03-27T00:00:00.000000000",
          "2024-03-28T00:00:00.000000000",
          "2024-03-29T00:00:00.000000000",
          "2024-03-30T00:00:00.000000000",
          "2024-03-31T00:00:00.000000000",
          "2024-04-01T00:00:00.000000000",
          "2024-04-02T00:00:00.000000000",
          "2024-04-03T00:00:00.000000000",
          "2024-04-04T00:00:00.000000000",
          "2024-04-05T00:00:00.000000000",
          "2024-04-06T00:00:00.000000000",
          "2024-04-07T00:00:00.000000000",
          "2024-04-08T00:00:00.000000000",
          "2024-04-09T00:00:00.000000000",
          "2024-04-10T00:00:00.000000000",
          "2024-04-11T00:00:00.000000000",
          "2024-04-12T00:00:00.000000000",
          "2024-04-13T00:00:00.000000000",
          "2024-04-14T00:00:00.000000000",
          "2024-04-15T00:00:00.000000000",
          "2024-04-16T00:00:00.000000000",
          "2024-04-17T00:00:00.000000000",
          "2024-04-18T00:00:00.000000000",
          "2024-04-19T00:00:00.000000000",
          "2024-04-20T00:00:00.000000000",
          "2024-04-21T00:00:00.000000000",
          "2024-04-22T00:00:00.000000000",
          "2024-04-23T00:00:00.000000000",
          "2024-04-24T00:00:00.000000000",
          "2024-04-25T00:00:00.000000000",
          "2024-04-26T00:00:00.000000000",
          "2024-04-27T00:00:00.000000000",
          "2024-04-28T00:00:00.000000000",
          "2024-04-29T00:00:00.000000000",
          "2024-04-30T00:00:00.000000000",
          "2024-05-01T00:00:00.000000000",
          "2024-05-02T00:00:00.000000000",
          "2024-05-03T00:00:00.000000000",
          "2024-05-04T00:00:00.000000000",
          "2024-05-05T00:00:00.000000000",
          "2024-05-06T00:00:00.000000000",
          "2024-05-07T00:00:00.000000000",
          "2024-05-08T00:00:00.000000000",
          "2024-05-09T00:00:00.000000000",
          "2024-05-10T00:00:00.000000000",
          "2024-05-11T00:00:00.000000000",
          "2024-05-12T00:00:00.000000000",
          "2024-05-13T00:00:00.000000000",
          "2024-05-14T00:00:00.000000000",
          "2024-05-15T00:00:00.000000000",
          "2024-05-16T00:00:00.000000000",
          "2024-05-17T00:00:00.000000000",
          "2024-05-18T00:00:00.000000000",
          "2024-05-19T00:00:00.000000000",
          "2024-05-20T00:00:00.000000000",
          "2024-05-21T00:00:00.000000000",
          "2024-05-22T00:00:00.000000000",
          "2024-05-23T00:00:00.000000000",
          "2024-05-24T00:00:00.000000000",
          "2024-05-25T00:00:00.000000000",
          "2024-05-26T00:00:00.000000000",
          "2024-05-27T00:00:00.000000000",
          "2024-05-28T00:00:00.000000000",
          "2024-05-29T00:00:00.000000000",
          "2024-05-30T00:00:00.000000000",
          "2024-05-31T00:00:00.000000000",
          "2024-06-01T00:00:00.000000000",
          "2024-06-02T00:00:00.000000000",
          "2024-06-03T00:00:00.000000000",
          "2024-06-04T00:00:00.000000000",
          "2024-06-05T00:00:00.000000000",
          "2024-06-06T00:00:00.000000000",
          "2024-06-07T00:00:00.000000000",
          "2024-06-08T00:00:00.000000000",
          "2024-06-09T00:00:00.000000000",
          "2024-06-10T00:00:00.000000000",
          "2024-06-11T00:00:00.000000000",
          "2024-06-12T00:00:00.000000000",
          "2024-06-13T00:00:00.000000000",
          "2024-06-14T00:00:00.000000000",
          "2024-06-15T00:00:00.000000000",
          "2024-06-16T00:00:00.000000000",
          "2024-06-17T00:00:00.000000000",
          "2024-06-18T00:00:00.000000000",
          "2024-06-19T00:00:00.000000000",
          "2024-06-20T00:00:00.000000000",
          "2024-06-21T00:00:00.000000000",
          "2024-06-22T00:00:00.000000000",
          "2024-06-23T00:00:00.000000000",
          "2024-06-24T00:00:00.000000000",
          "2024-06-25T00:00:00.000000000",
          "2024-06-26T00:00:00.000000000",
          "2024-06-27T00:00:00.000000000",
          "2024-06-28T00:00:00.000000000",
          "2024-06-29T00:00:00.000000000",
          "2024-06-30T00:00:00.000000000",
          "2024-07-01T00:00:00.000000000",
          "2024-07-02T00:00:00.000000000",
          "2024-07-03T00:00:00.000000000",
          "2024-07-04T00:00:00.000000000",
          "2024-07-05T00:00:00.000000000",
          "2024-07-06T00:00:00.000000000",
          "2024-07-07T00:00:00.000000000",
          "2024-07-08T00:00:00.000000000",
          "2024-07-09T00:00:00.000000000",
          "2024-07-10T00:00:00.000000000",
          "2024-07-11T00:00:00.000000000",
          "2024-07-12T00:00:00.000000000",
          "2024-07-13T00:00:00.000000000",
          "2024-07-14T00:00:00.000000000",
          "2024-07-15T00:00:00.000000000",
          "2024-07-16T00:00:00.000000000",
          "2024-07-17T00:00:00.000000000",
          "2024-07-18T00:00:00.000000000",
          "2024-07-19T00:00:00.000000000",
          "2024-07-20T00:00:00.000000000",
          "2024-07-21T00:00:00.000000000",
          "2024-07-22T00:00:00.000000000",
          "2024-07-23T00:00:00.000000000",
          "2024-07-24T00:00:00.000000000",
          "2024-07-25T00:00:00.000000000",
          "2024-07-26T00:00:00.000000000",
          "2024-07-27T00:00:00.000000000",
          "2024-07-28T00:00:00.000000000",
          "2024-07-29T00:00:00.000000000",
          "2024-07-30T00:00:00.000000000",
          "2024-07-31T00:00:00.000000000",
          "2024-08-01T00:00:00.000000000",
          "2024-08-02T00:00:00.000000000",
          "2024-08-03T00:00:00.000000000",
          "2024-08-04T00:00:00.000000000",
          "2024-08-05T00:00:00.000000000",
          "2024-08-06T00:00:00.000000000",
          "2024-08-07T00:00:00.000000000",
          "2024-08-08T00:00:00.000000000",
          "2024-08-09T00:00:00.000000000",
          "2024-08-10T00:00:00.000000000",
          "2024-08-11T00:00:00.000000000",
          "2024-08-12T00:00:00.000000000",
          "2024-08-13T00:00:00.000000000",
          "2024-08-14T00:00:00.000000000",
          "2024-08-15T00:00:00.000000000",
          "2024-08-16T00:00:00.000000000",
          "2024-08-17T00:00:00.000000000",
          "2024-08-18T00:00:00.000000000",
          "2024-08-19T00:00:00.000000000",
          "2024-08-20T00:00:00.000000000",
          "2024-08-21T00:00:00.000000000",
          "2024-08-22T00:00:00.000000000",
          "2024-08-23T00:00:00.000000000",
          "2024-08-24T00:00:00.000000000",
          "2024-08-25T00:00:00.000000000",
          "2024-08-26T00:00:00.000000000",
          "2024-08-27T00:00:00.000000000",
          "2024-08-28T00:00:00.000000000",
          "2024-08-29T00:00:00.000000000",
          "2024-08-30T00:00:00.000000000",
          "2024-08-31T00:00:00.000000000",
          "2024-09-01T00:00:00.000000000",
          "2024-09-02T00:00:00.000000000",
          "2024-09-03T00:00:00.000000000",
          "2024-09-04T00:00:00.000000000",
          "2024-09-05T00:00:00.000000000",
          "2024-09-06T00:00:00.000000000",
          "2024-09-07T00:00:00.000000000",
          "2024-09-08T00:00:00.000000000",
          "2024-09-09T00:00:00.000000000",
          "2024-09-10T00:00:00.000000000",
          "2024-09-11T00:00:00.000000000",
          "2024-09-12T00:00:00.000000000",
          "2024-09-13T00:00:00.000000000",
          "2024-09-14T00:00:00.000000000",
          "2024-09-15T00:00:00.000000000",
          "2024-09-16T00:00:00.000000000",
          "2024-09-17T00:00:00.000000000",
          "2024-09-18T00:00:00.000000000",
          "2024-09-19T00:00:00.000000000",
          "2024-09-20T00:00:00.000000000",
          "2024-09-21T00:00:00.000000000",
          "2024-09-22T00:00:00.000000000",
          "2024-09-23T00:00:00.000000000",
          "2024-09-24T00:00:00.000000000",
          "2024-09-25T00:00:00.000000000",
          "2024-09-26T00:00:00.000000000",
          "2024-09-27T00:00:00.000000000",
          "2024-09-28T00:00:00.000000000",
          "2024-09-29T00:00:00.000000000",
          "2024-09-30T00:00:00.000000000",
          "2024-10-01T00:00:00.000000000",
          "2024-10-02T00:00:00.000000000",
          "2024-10-03T00:00:00.000000000",
          "2024-10-04T00:00:00.000000000",
          "2024-10-05T00:00:00.000000000",
          "2024-10-06T00:00:00.000000000",
          "2024-10-07T00:00:00.000000000",
          "2024-10-08T00:00:00.000000000",
          "2024-10-09T00:00:00.000000000",
          "2024-10-10T00:00:00.000000000",
          "2024-10-11T00:00:00.000000000",
          "2024-10-12T00:00:00.000000000",
          "2024-10-13T00:00:00.000000000",
          "2024-10-14T00:00:00.000000000",
          "2024-10-15T00:00:00.000000000",
          "2024-10-16T00:00:00.000000000",
          "2024-10-17T00:00:00.000000000",
          "2024-10-18T00:00:00.000000000",
          "2024-10-19T00:00:00.000000000",
          "2024-10-20T00:00:00.000000000",
          "2024-10-21T00:00:00.000000000",
          "2024-10-22T00:00:00.000000000",
          "2024-10-23T00:00:00.000000000",
          "2024-10-24T00:00:00.000000000",
          "2024-10-25T00:00:00.000000000",
          "2024-10-26T00:00:00.000000000",
          "2024-10-27T00:00:00.000000000",
          "2024-10-28T00:00:00.000000000",
          "2024-10-29T00:00:00.000000000",
          "2024-10-30T00:00:00.000000000",
          "2024-10-31T00:00:00.000000000",
          "2024-11-01T00:00:00.000000000",
          "2024-11-02T00:00:00.000000000",
          "2024-11-03T00:00:00.000000000",
          "2024-11-04T00:00:00.000000000",
          "2024-11-05T00:00:00.000000000",
          "2024-11-06T00:00:00.000000000",
          "2024-11-07T00:00:00.000000000",
          "2024-11-08T00:00:00.000000000",
          "2024-11-09T00:00:00.000000000",
          "2024-11-10T00:00:00.000000000",
          "2024-11-11T00:00:00.000000000",
          "2024-11-12T00:00:00.000000000",
          "2024-11-13T00:00:00.000000000",
          "2024-11-14T00:00:00.000000000",
          "2024-11-15T00:00:00.000000000",
          "2024-11-16T00:00:00.000000000",
          "2024-11-17T00:00:00.000000000",
          "2024-11-18T00:00:00.000000000",
          "2024-11-19T00:00:00.000000000",
          "2024-11-20T00:00:00.000000000",
          "2024-11-21T00:00:00.000000000",
          "2024-11-22T00:00:00.000000000",
          "2024-11-23T00:00:00.000000000",
          "2024-11-24T00:00:00.000000000",
          "2024-11-25T00:00:00.000000000",
          "2024-11-26T00:00:00.000000000",
          "2024-11-27T00:00:00.000000000",
          "2024-11-28T00:00:00.000000000",
          "2024-11-29T00:00:00.000000000",
          "2024-11-30T00:00:00.000000000",
          "2024-12-01T00:00:00.000000000",
          "2024-12-02T00:00:00.000000000",
          "2024-12-03T00:00:00.000000000",
          "2024-12-04T00:00:00.000000000",
          "2024-12-05T00:00:00.000000000",
          "2024-12-06T00:00:00.000000000",
          "2024-12-07T00:00:00.000000000",
          "2024-12-08T00:00:00.000000000",
          "2024-12-09T00:00:00.000000000",
          "2024-12-10T00:00:00.000000000",
          "2024-12-11T00:00:00.000000000",
          "2024-12-12T00:00:00.000000000",
          "2024-12-13T00:00:00.000000000",
          "2024-12-14T00:00:00.000000000",
          "2024-12-15T00:00:00.000000000",
          "2024-12-16T00:00:00.000000000",
          "2024-12-17T00:00:00.000000000",
          "2024-12-18T00:00:00.000000000",
          "2024-12-19T00:00:00.000000000",
          "2024-12-20T00:00:00.000000000",
          "2024-12-21T00:00:00.000000000",
          "2024-12-22T00:00:00.000000000",
          "2024-12-23T00:00:00.000000000",
          "2024-12-24T00:00:00.000000000",
          "2024-12-25T00:00:00.000000000",
          "2024-12-26T00:00:00.000000000",
          "2024-12-27T00:00:00.000000000",
          "2024-12-28T00:00:00.000000000",
          "2024-12-29T00:00:00.000000000",
          "2024-12-30T00:00:00.000000000"
         ],
         "xaxis": "x",
         "y": {
          "_inputArray": {
           "0": 101.04191403973776,
           "1": 90.8332396976163,
           "10": 98.97027311249946,
           "100": 168.37306549607786,
           "101": 168.18695431352864,
           "102": 171.82510203171353,
           "103": 172.08483146075002,
           "104": 175.74803184682793,
           "105": 175.344448946285,
           "106": 175.73762489786546,
           "107": 165.7466214752049,
           "108": 170.32825984871732,
           "109": 172.06070222820728,
           "11": 103.5934415270633,
           "110": 177.05075277750555,
           "111": 162.5694758865371,
           "112": 173.01134941044074,
           "113": 172.3134012696649,
           "114": 177.85431535335246,
           "115": 172.6547857177248,
           "116": 175.71865524303766,
           "117": 170.45157742716938,
           "118": 167.33273262369036,
           "119": 176.90288939302428,
           "12": 103.89159337666418,
           "120": 175.94947738920757,
           "121": 177.0366417551062,
           "122": 181.38698040854996,
           "123": 183.86538984841297,
           "124": 184.61748437413087,
           "125": 186.442289386462,
           "126": 198.45936731265334,
           "127": 198.17127332748544,
           "128": 199.17676856106027,
           "129": 204.43004054109832,
           "13": 100.65690948813631,
           "130": 209.95767020588823,
           "131": 215.89282173369014,
           "132": 219.08647284383608,
           "133": 213.37144828018364,
           "134": 221.53860594168913,
           "135": 215.80687897659567,
           "136": 217.32005630279085,
           "137": 213.54867705269407,
           "138": 213.2279853197291,
           "139": 214.8717973712465,
           "14": 104.14802605620426,
           "140": 216.4785834484979,
           "141": 218.5881872196743,
           "142": 226.65674356496754,
           "143": 228.9244150725374,
           "144": 227.70363189608418,
           "145": 232.52406773752597,
           "146": 238.47142018214916,
           "147": 232.3333811064642,
           "148": 235.3203814557135,
           "149": 238.82624516726798,
           "15": 106.115452983313,
           "150": 237.33842765046802,
           "151": 244.21696171702612,
           "152": 243.46668378186348,
           "153": 244.09456604922119,
           "154": 243.22920692780184,
           "155": 243.30710216570918,
           "156": 237.82572673123317,
           "157": 230.6254723182617,
           "158": 238.59799763438656,
           "159": 234.36319089279493,
           "16": 110.59141908345167,
           "160": 229.4062291455134,
           "161": 218.63927857749485,
           "162": 215.44446983904731,
           "163": 208.82902087200983,
           "164": 217.0390966726917,
           "165": 222.08818211940485,
           "166": 218.64743039351623,
           "167": 229.90960942023779,
           "168": 234.81843685519576,
           "169": 233.19427993765265,
           "17": 113.76727809186151,
           "170": 220.6972513632848,
           "171": 232.1519642262385,
           "172": 225.2041018924205,
           "173": 216.97710815763605,
           "174": 222.08996031768427,
           "175": 234.28872234938063,
           "176": 241.2100864419332,
           "177": 244.029632042195,
           "178": 247.00340375052144,
           "179": 251.27048154442298,
           "18": 119.0150416684582,
           "180": 255.0651244933568,
           "181": 256.47108161320364,
           "182": 256.99208713296304,
           "183": 256.67912149346546,
           "184": 252.90929854913205,
           "185": 251.50592316479816,
           "186": 243.04113909382124,
           "187": 242.5494409598475,
           "188": 237.6064854240929,
           "189": 232.08853883801405,
           "19": 116.33886561065535,
           "190": 232.98800959378144,
           "191": 239.94802102550443,
           "192": 244.539604055516,
           "193": 236.6871010374001,
           "194": 231.73896035454842,
           "195": 236.44281629448952,
           "196": 231.53037932679797,
           "197": 230.40721357681284,
           "198": 233.1574740719356,
           "199": 228.31575179761742,
           "2": 89.59735278501333,
           "20": 122.92583593882698,
           "200": 228.84262932834721,
           "201": 222.1725018537562,
           "202": 219.1656636340001,
           "203": 220.76457330471283,
           "204": 212.79960463705447,
           "205": 215.00197832685646,
           "206": 214.90378933222306,
           "207": 217.6662391043088,
           "208": 218.78580977463213,
           "209": 225.60651192450132,
           "21": 123.91383396228898,
           "210": 226.23263443774087,
           "211": 224.0856067321146,
           "212": 224.69709424727603,
           "213": 227.41358439245795,
           "214": 227.65788474408646,
           "215": 227.86084320010588,
           "216": 224.3508847610721,
           "217": 221.03638017331735,
           "218": 214.0233538143189,
           "219": 222.7712375302536,
           "22": 134.29013832541528,
           "220": 216.55192135329716,
           "221": 213.08739536431762,
           "222": 209.49535903647165,
           "223": 213.96998092119384,
           "224": 212.4952325297337,
           "225": 218.73394289310238,
           "226": 215.36648977188304,
           "227": 216.76146058300205,
           "228": 212.58472531670327,
           "229": 223.3104709555702,
           "23": 130.84419923496745,
           "230": 217.37247886042263,
           "231": 218.92158241155778,
           "232": 222.09046681621825,
           "233": 224.15946230347575,
           "234": 223.23302400908722,
           "235": 222.58392051042006,
           "236": 222.8029778703156,
           "237": 222.0679678621732,
           "238": 226.88736344614773,
           "239": 237.93997845410448,
           "24": 139.5240182507937,
           "240": 235.1525195290653,
           "241": 228.30350463116991,
           "242": 227.86209438941364,
           "243": 240.76064107768522,
           "244": 236.74226823783656,
           "245": 244.9378522650569,
           "246": 253.3263563354391,
           "247": 250.55841512689912,
           "248": 253.40333052282548,
           "249": 261.5453136384682,
           "25": 140.51357216810695,
           "250": 259.6496749335307,
           "251": 258.6317731330189,
           "252": 255.7233685632757,
           "253": 250.64958490981135,
           "254": 247.40319718448131,
           "255": 241.28349585067002,
           "256": 241.45391319196617,
           "257": 237.60404703667297,
           "258": 238.77297659562672,
           "259": 230.99349836460857,
           "26": 137.25648215003469,
           "260": 232.64789952568086,
           "261": 236.81554433372548,
           "262": 226.8468661208682,
           "263": 228.71714897010608,
           "264": 234.85549393247254,
           "265": 228.8072888390165,
           "266": 237.17015077320502,
           "267": 239.26524582003526,
           "268": 235.74018654124322,
           "269": 235.4613411529547,
           "27": 134.8370529797631,
           "270": 238.2529757155633,
           "271": 238.63300267262537,
           "272": 241.3267826348572,
           "273": 236.72341466946037,
           "274": 237.57021878964076,
           "275": 230.50164630511586,
           "276": 229.94551599837234,
           "277": 225.4259777910484,
           "278": 221.74832807809958,
           "279": 227.92879395415173,
           "28": 133.2353164387915,
           "280": 233.3853445571231,
           "281": 236.43103516165897,
           "282": 230.96947133829607,
           "283": 229.38742908982206,
           "284": 235.45291758971797,
           "285": 236.16150215791748,
           "286": 247.75814985782594,
           "287": 249.7247390547978,
           "288": 250.68498463724796,
           "289": 249.13940231623545,
           "29": 135.35614617080108,
           "290": 249.80710684014687,
           "291": 249.04475765824415,
           "292": 252.5853010416871,
           "293": 257.36881262566,
           "294": 253.43886532312027,
           "295": 246.7827005553314,
           "296": 237.6016736898149,
           "297": 240.14163032437762,
           "298": 234.62479729350824,
           "299": 223.86034432874584,
           "3": 86.18743154502434,
           "30": 137.97032361097857,
           "300": 225.80323735140064,
           "301": 238.2682349385646,
           "302": 238.23788038086514,
           "303": 242.43033425312333,
           "304": 242.83948104586116,
           "305": 242.34503277990544,
           "306": 246.9404151948443,
           "307": 245.48904247390104,
           "308": 246.82600404426054,
           "309": 248.43449307524062,
           "31": 135.10182359128567,
           "310": 245.09404080702538,
           "311": 250.054252554708,
           "312": 249.17945377123095,
           "313": 245.40072797376672,
           "314": 248.08327719161875,
           "315": 243.59093728266356,
           "316": 243.7318430695092,
           "317": 243.6862480862882,
           "318": 249.1157259154461,
           "319": 251.48921707984584,
           "32": 134.98005062998078,
           "320": 251.36408228612012,
           "321": 255.45291378212156,
           "322": 262.40395152720816,
           "323": 265.1930030589674,
           "324": 265.24476615818435,
           "325": 258.6855849964336,
           "326": 253.3600166810567,
           "327": 251.83389315928335,
           "328": 248.78633214848693,
           "329": 247.85147563355972,
           "33": 145.69140242304007,
           "330": 248.13472525804525,
           "331": 250.78318902982892,
           "332": 250.43069513953347,
           "333": 252.8632033586645,
           "334": 253.1855754327151,
           "335": 243.30824260094573,
           "336": 238.61156563185196,
           "337": 237.8911278532439,
           "338": 231.84265413903836,
           "339": 234.84229778901937,
           "34": 154.32911827354366,
           "340": 242.49605195073786,
           "341": 248.58986120922444,
           "342": 247.5226468545734,
           "343": 254.97627753882315,
           "344": 255.7196148248337,
           "345": 254.0341849692435,
           "346": 250.96717165153882,
           "347": 249.4548232190982,
           "348": 247.51393912639205,
           "349": 248.36602023826947,
           "35": 156.5107366219138,
           "350": 249.16889014351878,
           "351": 249.18412024428585,
           "352": 251.3688110930176,
           "353": 257.3220424669493,
           "354": 262.06981314415594,
           "355": 254.64532330190642,
           "356": 241.87571762739665,
           "357": 246.547317183593,
           "358": 239.7129236915159,
           "359": 238.58909668205249,
           "36": 156.7007540127548,
           "360": 232.7385315517557,
           "361": 223.7286293638556,
           "362": 226.43594300487956,
           "363": 230.2317188063928,
           "364": 227.3491668027592,
           "37": 157.3009106463461,
           "38": 160.36850050999817,
           "39": 155.25453768400615,
           "4": 81.17933149554975,
           "40": 153.96765499688945,
           "41": 145.62473462750148,
           "42": 147.6208502405279,
           "43": 150.85682993904157,
           "44": 148.44089762754473,
           "45": 156.31083144399489,
           "46": 150.18200312898318,
           "47": 142.86012872793407,
           "48": 143.98238782073395,
           "49": 149.2178793337947,
           "5": 79.77383003111999,
           "50": 157.63751779108406,
           "51": 155.34309647673936,
           "52": 160.73650064389582,
           "53": 160.5439582963923,
           "54": 159.6808217966882,
           "55": 164.09912148412155,
           "56": 167.36073587618867,
           "57": 159.47877509126744,
           "58": 166.8614768398969,
           "59": 173.76193361063417,
           "6": 88.76226266536759,
           "60": 170.63412010308653,
           "61": 172.61313777027357,
           "62": 175.08328870168728,
           "63": 176.38665753080681,
           "64": 173.63513176157971,
           "65": 170.27701492188947,
           "66": 170.14924456693223,
           "67": 176.01288966322906,
           "68": 178.7308904362012,
           "69": 176.8778187757707,
           "7": 91.96647697170263,
           "70": 180.73631232901243,
           "71": 166.49359922586206,
           "72": 172.23742772772255,
           "73": 163.53885883383208,
           "74": 161.7266541268164,
           "75": 156.1283046536857,
           "76": 149.65489727508117,
           "77": 155.45903121197375,
           "78": 153.1205252054143,
           "79": 154.85304461406787,
           "8": 89.11058202278866,
           "80": 154.61844171967198,
           "81": 157.00364585578757,
           "82": 157.38775531108885,
           "83": 150.972794190146,
           "84": 155.9541282873817,
           "85": 153.48534537157514,
           "86": 145.7024358782764,
           "87": 143.56186007344684,
           "88": 151.0656590266184,
           "89": 155.31676773718584,
           "9": 91.97349592956945,
           "90": 153.57350706514654,
           "91": 151.8272185435544,
           "92": 150.21904328746749,
           "93": 160.6027832052717,
           "94": 162.51246046642945,
           "95": 164.6626687023848,
           "96": 169.81408597254404,
           "97": 171.00803176767658,
           "98": 169.71282103857305,
           "99": 168.73107179314817,
           "bdata": "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",
           "dtype": "f8",
           "shape": "365"
          },
          "bdata": "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",
          "dtype": "f8"
         },
         "yaxis": "y"
        }
       ],
       "layout": {
        "autosize": true,
        "legend": {
         "tracegroupgap": 0
        },
        "template": {
         "data": {
          "bar": [
           {
            "error_x": {
             "color": "#2a3f5f"
            },
            "error_y": {
             "color": "#2a3f5f"
            },
            "marker": {
             "line": {
              "color": "#E5ECF6",
              "width": 0.5
             },
             "pattern": {
              "fillmode": "overlay",
              "size": 10,
              "solidity": 0.2
             }
            },
            "type": "bar"
           }
          ],
          "barpolar": [
           {
            "marker": {
             "line": {
              "color": "#E5ECF6",
              "width": 0.5
             },
             "pattern": {
              "fillmode": "overlay",
              "size": 10,
              "solidity": 0.2
             }
            },
            "type": "barpolar"
           }
          ],
          "carpet": [
           {
            "aaxis": {
             "endlinecolor": "#2a3f5f",
             "gridcolor": "white",
             "linecolor": "white",
             "minorgridcolor": "white",
             "startlinecolor": "#2a3f5f"
            },
            "baxis": {
             "endlinecolor": "#2a3f5f",
             "gridcolor": "white",
             "linecolor": "white",
             "minorgridcolor": "white",
             "startlinecolor": "#2a3f5f"
            },
            "type": "carpet"
           }
          ],
          "choropleth": [
           {
            "colorbar": {
             "outlinewidth": 0,
             "ticks": ""
            },
            "type": "choropleth"
           }
          ],
          "contour": [
           {
            "colorbar": {
             "outlinewidth": 0,
             "ticks": ""
            },
            "colorscale": [
             [
              0,
              "#0d0887"
             ],
             [
              0.1111111111111111,
              "#46039f"
             ],
             [
              0.2222222222222222,
              "#7201a8"
             ],
             [
              0.3333333333333333,
              "#9c179e"
             ],
             [
              0.4444444444444444,
              "#bd3786"
             ],
             [
              0.5555555555555556,
              "#d8576b"
             ],
             [
              0.6666666666666666,
              "#ed7953"
             ],
             [
              0.7777777777777778,
              "#fb9f3a"
             ],
             [
              0.8888888888888888,
              "#fdca26"
             ],
             [
              1,
              "#f0f921"
             ]
            ],
            "type": "contour"
           }
          ],
          "contourcarpet": [
           {
            "colorbar": {
             "outlinewidth": 0,
             "ticks": ""
            },
            "type": "contourcarpet"
           }
          ],
          "heatmap": [
           {
            "colorbar": {
             "outlinewidth": 0,
             "ticks": ""
            },
            "colorscale": [
             [
              0,
              "#0d0887"
             ],
             [
              0.1111111111111111,
              "#46039f"
             ],
             [
              0.2222222222222222,
              "#7201a8"
             ],
             [
              0.3333333333333333,
              "#9c179e"
             ],
             [
              0.4444444444444444,
              "#bd3786"
             ],
             [
              0.5555555555555556,
              "#d8576b"
             ],
             [
              0.6666666666666666,
              "#ed7953"
             ],
             [
              0.7777777777777778,
              "#fb9f3a"
             ],
             [
              0.8888888888888888,
              "#fdca26"
             ],
             [
              1,
              "#f0f921"
             ]
            ],
            "type": "heatmap"
           }
          ],
          "histogram": [
           {
            "marker": {
             "pattern": {
              "fillmode": "overlay",
              "size": 10,
              "solidity": 0.2
             }
            },
            "type": "histogram"
           }
          ],
          "histogram2d": [
           {
            "colorbar": {
             "outlinewidth": 0,
             "ticks": ""
            },
            "colorscale": [
             [
              0,
              "#0d0887"
             ],
             [
              0.1111111111111111,
              "#46039f"
             ],
             [
              0.2222222222222222,
              "#7201a8"
             ],
             [
              0.3333333333333333,
              "#9c179e"
             ],
             [
              0.4444444444444444,
              "#bd3786"
             ],
             [
              0.5555555555555556,
              "#d8576b"
             ],
             [
              0.6666666666666666,
              "#ed7953"
             ],
             [
              0.7777777777777778,
              "#fb9f3a"
             ],
             [
              0.8888888888888888,
              "#fdca26"
             ],
             [
              1,
              "#f0f921"
             ]
            ],
            "type": "histogram2d"
           }
          ],
          "histogram2dcontour": [
           {
            "colorbar": {
             "outlinewidth": 0,
             "ticks": ""
            },
            "colorscale": [
             [
              0,
              "#0d0887"
             ],
             [
              0.1111111111111111,
              "#46039f"
             ],
             [
              0.2222222222222222,
              "#7201a8"
             ],
             [
              0.3333333333333333,
              "#9c179e"
             ],
             [
              0.4444444444444444,
              "#bd3786"
             ],
             [
              0.5555555555555556,
              "#d8576b"
             ],
             [
              0.6666666666666666,
              "#ed7953"
             ],
             [
              0.7777777777777778,
              "#fb9f3a"
             ],
             [
              0.8888888888888888,
              "#fdca26"
             ],
             [
              1,
              "#f0f921"
             ]
            ],
            "type": "histogram2dcontour"
           }
          ],
          "mesh3d": [
           {
            "colorbar": {
             "outlinewidth": 0,
             "ticks": ""
            },
            "type": "mesh3d"
           }
          ],
          "parcoords": [
           {
            "line": {
             "colorbar": {
              "outlinewidth": 0,
              "ticks": ""
             }
            },
            "type": "parcoords"
           }
          ],
          "pie": [
           {
            "automargin": true,
            "type": "pie"
           }
          ],
          "scatter": [
           {
            "fillpattern": {
             "fillmode": "overlay",
             "size": 10,
             "solidity": 0.2
            },
            "type": "scatter"
           }
          ],
          "scatter3d": [
           {
            "line": {
             "colorbar": {
              "outlinewidth": 0,
              "ticks": ""
             }
            },
            "marker": {
             "colorbar": {
              "outlinewidth": 0,
              "ticks": ""
             }
            },
            "type": "scatter3d"
           }
          ],
          "scattercarpet": [
           {
            "marker": {
             "colorbar": {
              "outlinewidth": 0,
              "ticks": ""
             }
            },
            "type": "scattercarpet"
           }
          ],
          "scattergeo": [
           {
            "marker": {
             "colorbar": {
              "outlinewidth": 0,
              "ticks": ""
             }
            },
            "type": "scattergeo"
           }
          ],
          "scattergl": [
           {
            "marker": {
             "colorbar": {
              "outlinewidth": 0,
              "ticks": ""
             }
            },
            "type": "scattergl"
           }
          ],
          "scattermap": [
           {
            "marker": {
             "colorbar": {
              "outlinewidth": 0,
              "ticks": ""
             }
            },
            "type": "scattermap"
           }
          ],
          "scattermapbox": [
           {
            "marker": {
             "colorbar": {
              "outlinewidth": 0,
              "ticks": ""
             }
            },
            "type": "scattermapbox"
           }
          ],
          "scatterpolar": [
           {
            "marker": {
             "colorbar": {
              "outlinewidth": 0,
              "ticks": ""
             }
            },
            "type": "scatterpolar"
           }
          ],
          "scatterpolargl": [
           {
            "marker": {
             "colorbar": {
              "outlinewidth": 0,
              "ticks": ""
             }
            },
            "type": "scatterpolargl"
           }
          ],
          "scatterternary": [
           {
            "marker": {
             "colorbar": {
              "outlinewidth": 0,
              "ticks": ""
             }
            },
            "type": "scatterternary"
           }
          ],
          "surface": [
           {
            "colorbar": {
             "outlinewidth": 0,
             "ticks": ""
            },
            "colorscale": [
             [
              0,
              "#0d0887"
             ],
             [
              0.1111111111111111,
              "#46039f"
             ],
             [
              0.2222222222222222,
              "#7201a8"
             ],
             [
              0.3333333333333333,
              "#9c179e"
             ],
             [
              0.4444444444444444,
              "#bd3786"
             ],
             [
              0.5555555555555556,
              "#d8576b"
             ],
             [
              0.6666666666666666,
              "#ed7953"
             ],
             [
              0.7777777777777778,
              "#fb9f3a"
             ],
             [
              0.8888888888888888,
              "#fdca26"
             ],
             [
              1,
              "#f0f921"
             ]
            ],
            "type": "surface"
           }
          ],
          "table": [
           {
            "cells": {
             "fill": {
              "color": "#EBF0F8"
             },
             "line": {
              "color": "white"
             }
            },
            "header": {
             "fill": {
              "color": "#C8D4E3"
             },
             "line": {
              "color": "white"
             }
            },
            "type": "table"
           }
          ]
         },
         "layout": {
          "annotationdefaults": {
           "arrowcolor": "#2a3f5f",
           "arrowhead": 0,
           "arrowwidth": 1
          },
          "autotypenumbers": "strict",
          "coloraxis": {
           "colorbar": {
            "outlinewidth": 0,
            "ticks": ""
           }
          },
          "colorscale": {
           "diverging": [
            [
             0,
             "#8e0152"
            ],
            [
             0.1,
             "#c51b7d"
            ],
            [
             0.2,
             "#de77ae"
            ],
            [
             0.3,
             "#f1b6da"
            ],
            [
             0.4,
             "#fde0ef"
            ],
            [
             0.5,
             "#f7f7f7"
            ],
            [
             0.6,
             "#e6f5d0"
            ],
            [
             0.7,
             "#b8e186"
            ],
            [
             0.8,
             "#7fbc41"
            ],
            [
             0.9,
             "#4d9221"
            ],
            [
             1,
             "#276419"
            ]
           ],
           "sequential": [
            [
             0,
             "#0d0887"
            ],
            [
             0.1111111111111111,
             "#46039f"
            ],
            [
             0.2222222222222222,
             "#7201a8"
            ],
            [
             0.3333333333333333,
             "#9c179e"
            ],
            [
             0.4444444444444444,
             "#bd3786"
            ],
            [
             0.5555555555555556,
             "#d8576b"
            ],
            [
             0.6666666666666666,
             "#ed7953"
            ],
            [
             0.7777777777777778,
             "#fb9f3a"
            ],
            [
             0.8888888888888888,
             "#fdca26"
            ],
            [
             1,
             "#f0f921"
            ]
           ],
           "sequentialminus": [
            [
             0,
             "#0d0887"
            ],
            [
             0.1111111111111111,
             "#46039f"
            ],
            [
             0.2222222222222222,
             "#7201a8"
            ],
            [
             0.3333333333333333,
             "#9c179e"
            ],
            [
             0.4444444444444444,
             "#bd3786"
            ],
            [
             0.5555555555555556,
             "#d8576b"
            ],
            [
             0.6666666666666666,
             "#ed7953"
            ],
            [
             0.7777777777777778,
             "#fb9f3a"
            ],
            [
             0.8888888888888888,
             "#fdca26"
            ],
            [
             1,
             "#f0f921"
            ]
           ]
          },
          "colorway": [
           "#636efa",
           "#EF553B",
           "#00cc96",
           "#ab63fa",
           "#FFA15A",
           "#19d3f3",
           "#FF6692",
           "#B6E880",
           "#FF97FF",
           "#FECB52"
          ],
          "font": {
           "color": "#2a3f5f"
          },
          "geo": {
           "bgcolor": "white",
           "lakecolor": "white",
           "landcolor": "#E5ECF6",
           "showlakes": true,
           "showland": true,
           "subunitcolor": "white"
          },
          "hoverlabel": {
           "align": "left"
          },
          "hovermode": "closest",
          "mapbox": {
           "style": "light"
          },
          "paper_bgcolor": "white",
          "plot_bgcolor": "#E5ECF6",
          "polar": {
           "angularaxis": {
            "gridcolor": "white",
            "linecolor": "white",
            "ticks": ""
           },
           "bgcolor": "#E5ECF6",
           "radialaxis": {
            "gridcolor": "white",
            "linecolor": "white",
            "ticks": ""
           }
          },
          "scene": {
           "xaxis": {
            "backgroundcolor": "#E5ECF6",
            "gridcolor": "white",
            "gridwidth": 2,
            "linecolor": "white",
            "showbackground": true,
            "ticks": "",
            "zerolinecolor": "white"
           },
           "yaxis": {
            "backgroundcolor": "#E5ECF6",
            "gridcolor": "white",
            "gridwidth": 2,
            "linecolor": "white",
            "showbackground": true,
            "ticks": "",
            "zerolinecolor": "white"
           },
           "zaxis": {
            "backgroundcolor": "#E5ECF6",
            "gridcolor": "white",
            "gridwidth": 2,
            "linecolor": "white",
            "showbackground": true,
            "ticks": "",
            "zerolinecolor": "white"
           }
          },
          "shapedefaults": {
           "line": {
            "color": "#2a3f5f"
           }
          },
          "ternary": {
           "aaxis": {
            "gridcolor": "white",
            "linecolor": "white",
            "ticks": ""
           },
           "baxis": {
            "gridcolor": "white",
            "linecolor": "white",
            "ticks": ""
           },
           "bgcolor": "#E5ECF6",
           "caxis": {
            "gridcolor": "white",
            "linecolor": "white",
            "ticks": ""
           }
          },
          "title": {
           "x": 0.05
          },
          "xaxis": {
           "automargin": true,
           "gridcolor": "white",
           "linecolor": "white",
           "ticks": "",
           "title": {
            "standoff": 15
           },
           "zerolinecolor": "white",
           "zerolinewidth": 2
          },
          "yaxis": {
           "automargin": true,
           "gridcolor": "white",
           "linecolor": "white",
           "ticks": "",
           "title": {
            "standoff": 15
           },
           "zerolinecolor": "white",
           "zerolinewidth": 2
          }
         }
        },
        "title": {
         "text": "일별 매출 추이 (기간 선택 가능)"
        },
        "xaxis": {
         "anchor": "y",
         "autorange": false,
         "domain": [
          0,
          1
         ],
         "range": [
          "2024-01-01",
          "2024-12-30"
         ],
         "rangeselector": {
          "buttons": [
           {
            "count": 1,
            "label": "1m",
            "step": "month",
            "stepmode": "backward"
           },
           {
            "count": 6,
            "label": "6m",
            "step": "month",
            "stepmode": "backward"
           },
           {
            "step": "all"
           }
          ]
         },
         "rangeslider": {
          "autorange": true,
          "range": [
           "2024-01-01",
           "2024-12-30"
          ],
          "visible": true,
          "yaxis": {
           "_template": null,
           "rangemode": "match"
          }
         },
         "title": {
          "text": "Date"
         },
         "type": "date"
        },
        "yaxis": {
         "anchor": "x",
         "autorange": true,
         "domain": [
          0,
          1
         ],
         "range": [
          69.46988913517197,
          275.54870705413236
         ],
         "title": {
          "text": "Sales"
         },
         "type": "linear"
        }
       }
      },
      "image/png": "[encoded data removed]"
     },
     "metadata": {},
     "output_type": "display_data"
    }
   ],
   "source": [
    "import plotly.express as px\n",
    "import pandas as pd\n",
    "\n",
    "#-------------------------------------------------------\n",
    "# 1. 데이터 준비 (가상의 시계열 데이터)\n",
    "#-------------------------------------------------------\n",
    "# 365일치 일별 매출 데이터 생성\n",
    "dates = pd.date_range(start='2024-01-01', periods=365, freq='D')\n",
    "sales_data = 100 + np.cumsum(np.random.randn(365) * 5)\n",
    "df_ts = pd.DataFrame({'Date': dates, 'Sales': sales_data})\n",
    "\n",
    "#-------------------------------------------------------\n",
    "# 2. 대화형 시계열 선 그래프 생성\n",
    "#-------------------------------------------------------\n",
    "fig = px.line(\n",
    "    df_ts, \n",
    "    x='Date', \n",
    "    y='Sales', \n",
    "    title='일별 매출 추이 (기간 선택 가능)'\n",
    ")\n",
    "\n",
    "#-------------------------------------------------------\n",
    "# 3. 레이아웃에 범위 슬라이더 추가 (대화형 기능)\n",
    "#-------------------------------------------------------\n",
    "fig.update_xaxes(\n",
    "    rangeslider_visible=True, # 하단 슬라이더 활성화\n",
    "    rangeselector=dict(\n",
    "        buttons=list([\n",
    "            dict(count=1, label=\"1m\", step=\"month\", stepmode=\"backward\"),\n",
    "            dict(count=6, label=\"6m\", step=\"month\", stepmode=\"backward\"),\n",
    "            dict(step=\"all\") # 전체 보기 버튼\n",
    "        ])\n",
    "    )\n",
    ")\n",
    "\n",
    "#-------------------------------------------------------\n",
    "# 4. 그래프 출력\n",
    "#-------------------------------------------------------\n",
    "fig.show()\n"
   ]
  },
  {
   "cell_type": "code",
   "execution_count": null,
   "id": "0d2ef057-5ec7-4009-a1f9-916cde2778cf",
   "metadata": {},
   "outputs": [],
   "source": []
  }
 ],
 "metadata": {
  "kernelspec": {
   "display_name": "Python 3 (ipykernel)",
   "language": "python",
   "name": "python3"
  },
  "language_info": {
   "codemirror_mode": {
    "name": "ipython",
    "version": 3
   },
   "file_extension": ".py",
   "mimetype": "text/x-python",
   "name": "python",
   "nbconvert_exporter": "python",
   "pygments_lexer": "ipython3",
   "version": "3.11.6"
  }
 },
 "nbformat": 4,
 "nbformat_minor": 5
}
