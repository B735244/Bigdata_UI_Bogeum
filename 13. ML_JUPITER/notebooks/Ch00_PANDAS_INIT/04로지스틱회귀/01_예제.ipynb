{
 "cells": [
  {
   "cell_type": "code",
   "execution_count": null,
   "id": "4f65b84a-602d-480f-a87b-dd1f619a1ca2",
   "metadata": {},
   "outputs": [],
   "source": [
    "# ----------------------------------------------\n",
    "# 로지스틱 회귀(logistic Regression) - 범주형 예측\n",
    "# ----------------------------------------------\n",
    "\n",
    "# -Y가 \"점수 자체\" 가 아니라 \"합격/불합격\" 처럼 범주형일 때 사용한다\n",
    "# - 예) 시험점수(Y) 를 바로 예측하는 것이 아니라\n",
    "# 합격(1)/ 불합격(0)을 예측\n",
    "# 공식적으로는 선형결과를 S자 곡선(시그모이드 함수)에 통과시켜 0~1 확률로 변환\n",
    "\n",
    "# 예시:\n",
    "# 공부시간 20시간 -> 합격확률 80%(Y=1일 가능성이 높음)\n",
    "# 공부시간 2시간 -> 합격확률 10% (Y=0일 가능성이 높음)"
   ]
  },
  {
   "cell_type": "code",
   "execution_count": 13,
   "id": "f6ddbfb4-0a1c-4732-93c1-841a94f99d34",
   "metadata": {},
   "outputs": [
    {
     "data": {
      "text/html": [
       "<div>\n",
       "<style scoped>\n",
       "    .dataframe tbody tr th:only-of-type {\n",
       "        vertical-align: middle;\n",
       "    }\n",
       "\n",
       "    .dataframe tbody tr th {\n",
       "        vertical-align: top;\n",
       "    }\n",
       "\n",
       "    .dataframe thead th {\n",
       "        text-align: right;\n",
       "    }\n",
       "</style>\n",
       "<table border=\"1\" class=\"dataframe\">\n",
       "  <thead>\n",
       "    <tr style=\"text-align: right;\">\n",
       "      <th></th>\n",
       "      <th>age</th>\n",
       "      <th>bmi</th>\n",
       "      <th>smoker</th>\n",
       "      <th>activity_level</th>\n",
       "      <th>disease</th>\n",
       "    </tr>\n",
       "  </thead>\n",
       "  <tbody>\n",
       "    <tr>\n",
       "      <th>0</th>\n",
       "      <td>62</td>\n",
       "      <td>35.179089</td>\n",
       "      <td>0</td>\n",
       "      <td>0</td>\n",
       "      <td>1</td>\n",
       "    </tr>\n",
       "    <tr>\n",
       "      <th>1</th>\n",
       "      <td>65</td>\n",
       "      <td>18.576042</td>\n",
       "      <td>0</td>\n",
       "      <td>2</td>\n",
       "      <td>1</td>\n",
       "    </tr>\n",
       "    <tr>\n",
       "      <th>2</th>\n",
       "      <td>71</td>\n",
       "      <td>33.178426</td>\n",
       "      <td>0</td>\n",
       "      <td>1</td>\n",
       "      <td>1</td>\n",
       "    </tr>\n",
       "    <tr>\n",
       "      <th>3</th>\n",
       "      <td>18</td>\n",
       "      <td>37.063007</td>\n",
       "      <td>1</td>\n",
       "      <td>2</td>\n",
       "      <td>0</td>\n",
       "    </tr>\n",
       "    <tr>\n",
       "      <th>4</th>\n",
       "      <td>21</td>\n",
       "      <td>17.613266</td>\n",
       "      <td>0</td>\n",
       "      <td>0</td>\n",
       "      <td>0</td>\n",
       "    </tr>\n",
       "    <tr>\n",
       "      <th>...</th>\n",
       "      <td>...</td>\n",
       "      <td>...</td>\n",
       "      <td>...</td>\n",
       "      <td>...</td>\n",
       "      <td>...</td>\n",
       "    </tr>\n",
       "    <tr>\n",
       "      <th>995</th>\n",
       "      <td>75</td>\n",
       "      <td>23.600372</td>\n",
       "      <td>0</td>\n",
       "      <td>2</td>\n",
       "      <td>1</td>\n",
       "    </tr>\n",
       "    <tr>\n",
       "      <th>996</th>\n",
       "      <td>24</td>\n",
       "      <td>9.659333</td>\n",
       "      <td>0</td>\n",
       "      <td>2</td>\n",
       "      <td>0</td>\n",
       "    </tr>\n",
       "    <tr>\n",
       "      <th>997</th>\n",
       "      <td>37</td>\n",
       "      <td>25.959939</td>\n",
       "      <td>0</td>\n",
       "      <td>0</td>\n",
       "      <td>0</td>\n",
       "    </tr>\n",
       "    <tr>\n",
       "      <th>998</th>\n",
       "      <td>52</td>\n",
       "      <td>25.356929</td>\n",
       "      <td>0</td>\n",
       "      <td>1</td>\n",
       "      <td>1</td>\n",
       "    </tr>\n",
       "    <tr>\n",
       "      <th>999</th>\n",
       "      <td>68</td>\n",
       "      <td>25.375065</td>\n",
       "      <td>0</td>\n",
       "      <td>0</td>\n",
       "      <td>1</td>\n",
       "    </tr>\n",
       "  </tbody>\n",
       "</table>\n",
       "<p>1000 rows × 5 columns</p>\n",
       "</div>"
      ],
      "text/plain": [
       "     age        bmi  smoker  activity_level  disease\n",
       "0     62  35.179089       0               0        1\n",
       "1     65  18.576042       0               2        1\n",
       "2     71  33.178426       0               1        1\n",
       "3     18  37.063007       1               2        0\n",
       "4     21  17.613266       0               0        0\n",
       "..   ...        ...     ...             ...      ...\n",
       "995   75  23.600372       0               2        1\n",
       "996   24   9.659333       0               2        0\n",
       "997   37  25.959939       0               0        0\n",
       "998   52  25.356929       0               1        1\n",
       "999   68  25.375065       0               0        1\n",
       "\n",
       "[1000 rows x 5 columns]"
      ]
     },
     "execution_count": 13,
     "metadata": {},
     "output_type": "execute_result"
    }
   ],
   "source": [
    "# -----------------------------\n",
    "# 불러오기\n",
    "# -----------------------------\n",
    "import pandas as pd\n",
    "\n",
    "df = pd.read_csv(\"health_survey.csv\")\n",
    "# df = pd.read_csv(\"https://raw.githubusercontent.com/lovedlim/bigdata_analyst_cert/main/part3/ch5/health_survey.csv\")\n",
    "df\n",
    "#df.to_csv(\"health_survey.csv\", index=False)\n"
   ]
  },
  {
   "cell_type": "code",
   "execution_count": 14,
   "id": "a3746256-19b5-4e95-b18d-928dec7f0e46",
   "metadata": {},
   "outputs": [
    {
     "name": "stdout",
     "output_type": "stream",
     "text": [
      "Optimization terminated successfully.\n",
      "         Current function value: 0.643725\n",
      "         Iterations 5\n"
     ]
    }
   ],
   "source": [
    "from statsmodels.formula.api import logit\n",
    "\n",
    "model = logit('disease ~ age + bmi', data=df).fit()\n"
   ]
  },
  {
   "cell_type": "code",
   "execution_count": 15,
   "id": "c0c9cc8e-60a3-4500-9d8d-556d349b890a",
   "metadata": {},
   "outputs": [
    {
     "name": "stdout",
     "output_type": "stream",
     "text": [
      "                           Logit Regression Results                           \n",
      "==============================================================================\n",
      "Dep. Variable:                disease   No. Observations:                 1000\n",
      "Model:                          Logit   Df Residuals:                      997\n",
      "Method:                           MLE   Df Model:                            2\n",
      "Date:                Mon, 13 Oct 2025   Pseudo R-squ.:                 0.04996\n",
      "Time:                        02:34:34   Log-Likelihood:                -643.72\n",
      "converged:                       True   LL-Null:                       -677.58\n",
      "Covariance Type:            nonrobust   LLR p-value:                 1.984e-15\n",
      "==============================================================================\n",
      "                 coef    std err          z      P>|z|      [0.025      0.975]\n",
      "------------------------------------------------------------------------------\n",
      "Intercept     -1.8700      0.289     -6.482      0.000      -2.435      -1.305\n",
      "age            0.0177      0.004      4.747      0.000       0.010       0.025\n",
      "bmi            0.0563      0.009      6.418      0.000       0.039       0.074\n",
      "==============================================================================\n"
     ]
    }
   ],
   "source": [
    "\n",
    "print(model.summary())\n"
   ]
  },
  {
   "cell_type": "code",
   "execution_count": 16,
   "id": "0ebed7ee-d3a0-413b-b09e-b9d76b146e8c",
   "metadata": {},
   "outputs": [
    {
     "name": "stdout",
     "output_type": "stream",
     "text": [
      "0.056333879687088535\n",
      "1.057950853075076\n"
     ]
    }
   ],
   "source": [
    "# 오즈비 값 확인\n",
    "import numpy as np\n",
    "print(model.params['bmi']) # 회귀계수(coef)확인\n",
    "print(np.exp(model.params['bmi'])) # 오즈비(Ratio) 확인"
   ]
  },
  {
   "cell_type": "code",
   "execution_count": 17,
   "id": "b35c3aa4-ee45-4de4-b7b3-fc278629ba5e",
   "metadata": {},
   "outputs": [
    {
     "name": "stdout",
     "output_type": "stream",
     "text": [
      "0.017705261174417466\n",
      "1.0178629284499419\n"
     ]
    }
   ],
   "source": [
    "import numpy as np\n",
    "print(model.params['age']) # 회귀계수(coef)확인\n",
    "print(np.exp(model.params['age'])) # 오즈비(Ratio) 확인"
   ]
  },
  {
   "cell_type": "code",
   "execution_count": 19,
   "id": "911d421f-f6c2-4e9c-8bdb-84a0937427fe",
   "metadata": {},
   "outputs": [
    {
     "data": {
      "text/plain": [
       "0    0.71556\n",
       "dtype: float64"
      ]
     },
     "execution_count": 19,
     "metadata": {},
     "output_type": "execute_result"
    }
   ],
   "source": [
    "X_new = pd.DataFrame([{\"age\" : 40, \"bmi\":37.0}])\n",
    "pred = model.predict(X_new)\n",
    "pred"
   ]
  },
  {
   "cell_type": "code",
   "execution_count": null,
   "id": "de242aef-6fe0-4d06-9c90-4c382c1cb20d",
   "metadata": {},
   "outputs": [],
   "source": []
  }
 ],
 "metadata": {
  "kernelspec": {
   "display_name": "Python 3 (ipykernel)",
   "language": "python",
   "name": "python3"
  },
  "language_info": {
   "codemirror_mode": {
    "name": "ipython",
    "version": 3
   },
   "file_extension": ".py",
   "mimetype": "text/x-python",
   "name": "python",
   "nbconvert_exporter": "python",
   "pygments_lexer": "ipython3",
   "version": "3.11.6"
  }
 },
 "nbformat": 4,
 "nbformat_minor": 5
}
