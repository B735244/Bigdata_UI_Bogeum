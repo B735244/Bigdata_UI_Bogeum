{
 "cells": [
  {
   "cell_type": "code",
   "execution_count": null,
   "id": "3145df29-b9bc-4eb9-8de2-5aa8b80a202b",
   "metadata": {},
   "outputs": [],
   "source": [
    "# 문제 정의\n",
    "# 고객별 신용등급 분류\n",
    "# 1. "
   ]
  }
 ],
 "metadata": {
  "kernelspec": {
   "display_name": "Python 3 (ipykernel)",
   "language": "python",
   "name": "python3"
  },
  "language_info": {
   "codemirror_mode": {
    "name": "ipython",
    "version": 3
   },
   "file_extension": ".py",
   "mimetype": "text/x-python",
   "name": "python",
   "nbconvert_exporter": "python",
   "pygments_lexer": "ipython3",
   "version": "3.11.6"
  }
 },
 "nbformat": 4,
 "nbformat_minor": 5
}
