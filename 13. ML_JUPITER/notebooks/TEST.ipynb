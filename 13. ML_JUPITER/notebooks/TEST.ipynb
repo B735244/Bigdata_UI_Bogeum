{
 "cells": [
  {
   "cell_type": "code",
   "execution_count": null,
   "id": "a7ec7133-96fe-4c87-91e8-92f9aaba7469",
   "metadata": {},
   "outputs": [],
   "source": [
    "import requests\n",
    "\n",
    "res = requests.get(\"https://naver.com/\")\n",
    "print(res.status_code)\n"
   ]
  }
 ],
 "metadata": {
  "kernelspec": {
   "display_name": "Python 3 (ipykernel)",
   "language": "python",
   "name": "python3"
  },
  "language_info": {
   "codemirror_mode": {
    "name": "ipython",
    "version": 3
   },
   "file_extension": ".py",
   "mimetype": "text/x-python",
   "name": "python",
   "nbconvert_exporter": "python",
   "pygments_lexer": "ipython3",
   "version": "3.11.6"
  }
 },
 "nbformat": 4,
 "nbformat_minor": 5
}
